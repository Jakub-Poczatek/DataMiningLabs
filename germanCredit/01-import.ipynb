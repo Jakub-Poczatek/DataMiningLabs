{
 "cells": [
  {
   "cell_type": "markdown",
   "source": [
    "# German Credit - Import #"
   ],
   "metadata": {
    "collapsed": false
   }
  },
  {
   "cell_type": "code",
   "execution_count": 50,
   "outputs": [],
   "source": [
    "import numpy as np\n",
    "import pandas as pd\n",
    "import matplotlib.pyplot as plt\n",
    "import seaborn as sns\n",
    "from scipy import stats\n",
    "import yaml\n",
    "\n",
    "pd.set_option('display.max_columns', None)\n",
    "pd.set_option('display.width', 1000)\n",
    "pd.set_option('display.max_rows', None)\n",
    "\n",
    "sns.set_style(\"darkgrid\")\n",
    "\n",
    "from IPython.display import display, Markdown\n",
    "from pprint import pprint\n",
    "\n",
    "DEBUG = True"
   ],
   "metadata": {
    "collapsed": false
   }
  },
  {
   "cell_type": "code",
   "execution_count": 51,
   "outputs": [
    {
     "name": "stdout",
     "output_type": "stream",
     "text": [
      "Using local copy of german.data\n",
      "Using local copy of german.data\n",
      "Using local copy of german.doc\n",
      "Using local copy of german.data-numeric\n"
     ]
    }
   ],
   "source": [
    "import os\n",
    "\n",
    "for d in ['orig','data','output']:\n",
    "    if not os.path.isdir(d): os.makedirs(d, mode=0o777, exist_ok=True)\n",
    "\n",
    "for filename in [\"german.data\", \"german.data\", \"german.doc\", \"german.data-numeric\"]:\n",
    "    source = f\"https://archive.ics.uci.edu/ml/machine-learning-databases/statlog/german/{filename}\"\n",
    "    target = f\"orig/{filename}\"\n",
    "    if not os.path.isfile(target):\n",
    "        print (f\"Downloading remote file {filename}\", sep=\"\")\n",
    "        import urllib.request\n",
    "        urllib.request.urlretrieve(source, target)\n",
    "    else:\n",
    "        print(f\"Using local copy of {filename}\")"
   ],
   "metadata": {
    "collapsed": false
   }
  },
  {
   "cell_type": "code",
   "execution_count": 52,
   "outputs": [
    {
     "name": "stdout",
     "output_type": "stream",
     "text": [
      "(1000, 21)\n"
     ]
    },
    {
     "data": {
      "text/plain": "    0   1    2    3     4    5    6   7    8     9   10    11  12    13    14  15    16  17    18    19  20\n0  A11   6  A34  A43  1169  A65  A75   4  A93  A101   4  A121  67  A143  A152   2  A173   1  A192  A201   1\n1  A12  48  A32  A43  5951  A61  A73   2  A92  A101   2  A121  22  A143  A152   1  A173   1  A191  A201   2\n2  A14  12  A34  A46  2096  A61  A74   2  A93  A101   3  A121  49  A143  A152   1  A172   2  A191  A201   1\n3  A11  42  A32  A42  7882  A61  A74   2  A93  A103   4  A122  45  A143  A153   1  A173   2  A191  A201   1\n4  A11  24  A33  A40  4870  A61  A73   3  A93  A101   4  A124  53  A143  A153   2  A173   2  A191  A201   2",
      "text/html": "<div>\n<style scoped>\n    .dataframe tbody tr th:only-of-type {\n        vertical-align: middle;\n    }\n\n    .dataframe tbody tr th {\n        vertical-align: top;\n    }\n\n    .dataframe thead th {\n        text-align: right;\n    }\n</style>\n<table border=\"1\" class=\"dataframe\">\n  <thead>\n    <tr style=\"text-align: right;\">\n      <th></th>\n      <th>0</th>\n      <th>1</th>\n      <th>2</th>\n      <th>3</th>\n      <th>4</th>\n      <th>5</th>\n      <th>6</th>\n      <th>7</th>\n      <th>8</th>\n      <th>9</th>\n      <th>10</th>\n      <th>11</th>\n      <th>12</th>\n      <th>13</th>\n      <th>14</th>\n      <th>15</th>\n      <th>16</th>\n      <th>17</th>\n      <th>18</th>\n      <th>19</th>\n      <th>20</th>\n    </tr>\n  </thead>\n  <tbody>\n    <tr>\n      <th>0</th>\n      <td>A11</td>\n      <td>6</td>\n      <td>A34</td>\n      <td>A43</td>\n      <td>1169</td>\n      <td>A65</td>\n      <td>A75</td>\n      <td>4</td>\n      <td>A93</td>\n      <td>A101</td>\n      <td>4</td>\n      <td>A121</td>\n      <td>67</td>\n      <td>A143</td>\n      <td>A152</td>\n      <td>2</td>\n      <td>A173</td>\n      <td>1</td>\n      <td>A192</td>\n      <td>A201</td>\n      <td>1</td>\n    </tr>\n    <tr>\n      <th>1</th>\n      <td>A12</td>\n      <td>48</td>\n      <td>A32</td>\n      <td>A43</td>\n      <td>5951</td>\n      <td>A61</td>\n      <td>A73</td>\n      <td>2</td>\n      <td>A92</td>\n      <td>A101</td>\n      <td>2</td>\n      <td>A121</td>\n      <td>22</td>\n      <td>A143</td>\n      <td>A152</td>\n      <td>1</td>\n      <td>A173</td>\n      <td>1</td>\n      <td>A191</td>\n      <td>A201</td>\n      <td>2</td>\n    </tr>\n    <tr>\n      <th>2</th>\n      <td>A14</td>\n      <td>12</td>\n      <td>A34</td>\n      <td>A46</td>\n      <td>2096</td>\n      <td>A61</td>\n      <td>A74</td>\n      <td>2</td>\n      <td>A93</td>\n      <td>A101</td>\n      <td>3</td>\n      <td>A121</td>\n      <td>49</td>\n      <td>A143</td>\n      <td>A152</td>\n      <td>1</td>\n      <td>A172</td>\n      <td>2</td>\n      <td>A191</td>\n      <td>A201</td>\n      <td>1</td>\n    </tr>\n    <tr>\n      <th>3</th>\n      <td>A11</td>\n      <td>42</td>\n      <td>A32</td>\n      <td>A42</td>\n      <td>7882</td>\n      <td>A61</td>\n      <td>A74</td>\n      <td>2</td>\n      <td>A93</td>\n      <td>A103</td>\n      <td>4</td>\n      <td>A122</td>\n      <td>45</td>\n      <td>A143</td>\n      <td>A153</td>\n      <td>1</td>\n      <td>A173</td>\n      <td>2</td>\n      <td>A191</td>\n      <td>A201</td>\n      <td>1</td>\n    </tr>\n    <tr>\n      <th>4</th>\n      <td>A11</td>\n      <td>24</td>\n      <td>A33</td>\n      <td>A40</td>\n      <td>4870</td>\n      <td>A61</td>\n      <td>A73</td>\n      <td>3</td>\n      <td>A93</td>\n      <td>A101</td>\n      <td>4</td>\n      <td>A124</td>\n      <td>53</td>\n      <td>A143</td>\n      <td>A153</td>\n      <td>2</td>\n      <td>A173</td>\n      <td>2</td>\n      <td>A191</td>\n      <td>A201</td>\n      <td>2</td>\n    </tr>\n  </tbody>\n</table>\n</div>"
     },
     "execution_count": 52,
     "metadata": {},
     "output_type": "execute_result"
    }
   ],
   "source": [
    "df = pd.read_csv(\"orig/german.data\", sep =\" \", header=None)\n",
    "print(df.shape)\n",
    "df.head(5)"
   ],
   "metadata": {
    "collapsed": false
   }
  },
  {
   "cell_type": "code",
   "execution_count": 53,
   "outputs": [
    {
     "data": {
      "text/plain": "  Account_Balance  Loan_Duration Credit_History Loan_Purpose  Loan_Amount Savings Years_Employed  Installment_Rate Gender_and_Status Other_Debtors_Guarantors  Year_of_Residence Property  Age Installment_Plans Housing  Existing_Credits   Job  Dependents Telephone Foreign  Credit_Rating\n0             A11              6            A34          A43         1169     A65            A75                 4               A93                     A101                  4     A121   67              A143    A152                 2  A173           1      A192    A201              1\n1             A12             48            A32          A43         5951     A61            A73                 2               A92                     A101                  2     A121   22              A143    A152                 1  A173           1      A191    A201              2\n2             A14             12            A34          A46         2096     A61            A74                 2               A93                     A101                  3     A121   49              A143    A152                 1  A172           2      A191    A201              1\n3             A11             42            A32          A42         7882     A61            A74                 2               A93                     A103                  4     A122   45              A143    A153                 1  A173           2      A191    A201              1\n4             A11             24            A33          A40         4870     A61            A73                 3               A93                     A101                  4     A124   53              A143    A153                 2  A173           2      A191    A201              2",
      "text/html": "<div>\n<style scoped>\n    .dataframe tbody tr th:only-of-type {\n        vertical-align: middle;\n    }\n\n    .dataframe tbody tr th {\n        vertical-align: top;\n    }\n\n    .dataframe thead th {\n        text-align: right;\n    }\n</style>\n<table border=\"1\" class=\"dataframe\">\n  <thead>\n    <tr style=\"text-align: right;\">\n      <th></th>\n      <th>Account_Balance</th>\n      <th>Loan_Duration</th>\n      <th>Credit_History</th>\n      <th>Loan_Purpose</th>\n      <th>Loan_Amount</th>\n      <th>Savings</th>\n      <th>Years_Employed</th>\n      <th>Installment_Rate</th>\n      <th>Gender_and_Status</th>\n      <th>Other_Debtors_Guarantors</th>\n      <th>Year_of_Residence</th>\n      <th>Property</th>\n      <th>Age</th>\n      <th>Installment_Plans</th>\n      <th>Housing</th>\n      <th>Existing_Credits</th>\n      <th>Job</th>\n      <th>Dependents</th>\n      <th>Telephone</th>\n      <th>Foreign</th>\n      <th>Credit_Rating</th>\n    </tr>\n  </thead>\n  <tbody>\n    <tr>\n      <th>0</th>\n      <td>A11</td>\n      <td>6</td>\n      <td>A34</td>\n      <td>A43</td>\n      <td>1169</td>\n      <td>A65</td>\n      <td>A75</td>\n      <td>4</td>\n      <td>A93</td>\n      <td>A101</td>\n      <td>4</td>\n      <td>A121</td>\n      <td>67</td>\n      <td>A143</td>\n      <td>A152</td>\n      <td>2</td>\n      <td>A173</td>\n      <td>1</td>\n      <td>A192</td>\n      <td>A201</td>\n      <td>1</td>\n    </tr>\n    <tr>\n      <th>1</th>\n      <td>A12</td>\n      <td>48</td>\n      <td>A32</td>\n      <td>A43</td>\n      <td>5951</td>\n      <td>A61</td>\n      <td>A73</td>\n      <td>2</td>\n      <td>A92</td>\n      <td>A101</td>\n      <td>2</td>\n      <td>A121</td>\n      <td>22</td>\n      <td>A143</td>\n      <td>A152</td>\n      <td>1</td>\n      <td>A173</td>\n      <td>1</td>\n      <td>A191</td>\n      <td>A201</td>\n      <td>2</td>\n    </tr>\n    <tr>\n      <th>2</th>\n      <td>A14</td>\n      <td>12</td>\n      <td>A34</td>\n      <td>A46</td>\n      <td>2096</td>\n      <td>A61</td>\n      <td>A74</td>\n      <td>2</td>\n      <td>A93</td>\n      <td>A101</td>\n      <td>3</td>\n      <td>A121</td>\n      <td>49</td>\n      <td>A143</td>\n      <td>A152</td>\n      <td>1</td>\n      <td>A172</td>\n      <td>2</td>\n      <td>A191</td>\n      <td>A201</td>\n      <td>1</td>\n    </tr>\n    <tr>\n      <th>3</th>\n      <td>A11</td>\n      <td>42</td>\n      <td>A32</td>\n      <td>A42</td>\n      <td>7882</td>\n      <td>A61</td>\n      <td>A74</td>\n      <td>2</td>\n      <td>A93</td>\n      <td>A103</td>\n      <td>4</td>\n      <td>A122</td>\n      <td>45</td>\n      <td>A143</td>\n      <td>A153</td>\n      <td>1</td>\n      <td>A173</td>\n      <td>2</td>\n      <td>A191</td>\n      <td>A201</td>\n      <td>1</td>\n    </tr>\n    <tr>\n      <th>4</th>\n      <td>A11</td>\n      <td>24</td>\n      <td>A33</td>\n      <td>A40</td>\n      <td>4870</td>\n      <td>A61</td>\n      <td>A73</td>\n      <td>3</td>\n      <td>A93</td>\n      <td>A101</td>\n      <td>4</td>\n      <td>A124</td>\n      <td>53</td>\n      <td>A143</td>\n      <td>A153</td>\n      <td>2</td>\n      <td>A173</td>\n      <td>2</td>\n      <td>A191</td>\n      <td>A201</td>\n      <td>2</td>\n    </tr>\n  </tbody>\n</table>\n</div>"
     },
     "execution_count": 53,
     "metadata": {},
     "output_type": "execute_result"
    }
   ],
   "source": [
    "df.columns = [\"Account_Balance\", \"Loan_Duration\", \"Credit_History\",\n",
    "              \"Loan_Purpose\", \"Loan_Amount\", \"Savings\", \"Years_Employed\",\n",
    "              \"Installment_Rate\", \"Gender_and_Status\", \"Other_Debtors_Guarantors\",\n",
    "              \"Year_of_Residence\", \"Property\", \"Age\", \"Installment_Plans\", \"Housing\", \"Existing_Credits\", \"Job\", \"Dependents\",\n",
    "              \"Telephone\", \"Foreign\",\n",
    "              \"Credit_Rating\"]\n",
    "df.head(5)"
   ],
   "metadata": {
    "collapsed": false
   }
  },
  {
   "cell_type": "code",
   "execution_count": 54,
   "outputs": [
    {
     "name": "stdout",
     "output_type": "stream",
     "text": [
      "<class 'pandas.core.frame.DataFrame'>\n",
      "RangeIndex: 1000 entries, 0 to 999\n",
      "Data columns (total 21 columns):\n",
      " #   Column                    Non-Null Count  Dtype \n",
      "---  ------                    --------------  ----- \n",
      " 0   Account_Balance           1000 non-null   object\n",
      " 1   Loan_Duration             1000 non-null   int64 \n",
      " 2   Credit_History            1000 non-null   object\n",
      " 3   Loan_Purpose              1000 non-null   object\n",
      " 4   Loan_Amount               1000 non-null   int64 \n",
      " 5   Savings                   1000 non-null   object\n",
      " 6   Years_Employed            1000 non-null   object\n",
      " 7   Installment_Rate          1000 non-null   int64 \n",
      " 8   Gender_and_Status         1000 non-null   object\n",
      " 9   Other_Debtors_Guarantors  1000 non-null   object\n",
      " 10  Year_of_Residence         1000 non-null   int64 \n",
      " 11  Property                  1000 non-null   object\n",
      " 12  Age                       1000 non-null   int64 \n",
      " 13  Installment_Plans         1000 non-null   object\n",
      " 14  Housing                   1000 non-null   object\n",
      " 15  Existing_Credits          1000 non-null   int64 \n",
      " 16  Job                       1000 non-null   object\n",
      " 17  Dependents                1000 non-null   int64 \n",
      " 18  Telephone                 1000 non-null   object\n",
      " 19  Foreign                   1000 non-null   object\n",
      " 20  Credit_Rating             1000 non-null   int64 \n",
      "dtypes: int64(8), object(13)\n",
      "memory usage: 164.2+ KB\n"
     ]
    }
   ],
   "source": [
    "df.info()"
   ],
   "metadata": {
    "collapsed": false
   }
  },
  {
   "cell_type": "code",
   "execution_count": 55,
   "outputs": [
    {
     "data": {
      "text/plain": "['Description of the German credit dataset.',\n '',\n '1. Title: German Credit data',\n '',\n '2. Source Information',\n '',\n 'Professor Dr. Hans Hofmann',\n 'Institut f\"ur Statistik und \"Okonometrie',\n 'Universit\"at Hamburg',\n 'FB Wirtschaftswissenschaften']"
     },
     "execution_count": 55,
     "metadata": {},
     "output_type": "execute_result"
    }
   ],
   "source": [
    "lines = [line.strip() for line in open(\"orig/german.doc\").readlines()]\n",
    "lines[:10]"
   ],
   "metadata": {
    "collapsed": false
   }
  },
  {
   "cell_type": "code",
   "execution_count": 56,
   "outputs": [
    {
     "data": {
      "text/plain": "True"
     },
     "execution_count": 56,
     "metadata": {},
     "output_type": "execute_result"
    }
   ],
   "source": [
    "is_code_line = lambda line: len(line) > 2 and line[0]==\"A\" and line[1].isdigit()\n",
    "is_code_line(\"A12 : 0 <= ... <  200 DM\")"
   ],
   "metadata": {
    "collapsed": false
   }
  },
  {
   "cell_type": "code",
   "execution_count": 57,
   "outputs": [
    {
     "data": {
      "text/plain": "['A11 :      ... <    0 DM',\n 'A12 : 0 <= ... <  200 DM',\n 'A13 :      ... >= 200 DM /',\n 'A14 : no checking account',\n 'A30 : no credits taken/',\n 'A31 : all credits at this bank paid back duly',\n 'A32 : existing credits paid back duly till now',\n 'A33 : delay in paying off in the past',\n 'A34 : critical account/',\n 'A40 : car (new)']"
     },
     "execution_count": 57,
     "metadata": {},
     "output_type": "execute_result"
    }
   ],
   "source": [
    "lines = [line for line in lines if is_code_line(line)]\n",
    "lines[:10]"
   ],
   "metadata": {
    "collapsed": false
   }
  },
  {
   "cell_type": "code",
   "execution_count": 58,
   "outputs": [
    {
     "data": {
      "text/plain": "['A41 ', ' car (used)']"
     },
     "execution_count": 58,
     "metadata": {},
     "output_type": "execute_result"
    }
   ],
   "source": [
    "lines[10].split(\":\")"
   ],
   "metadata": {
    "collapsed": false
   }
  },
  {
   "cell_type": "code",
   "execution_count": 59,
   "outputs": [],
   "source": [
    "import re\n",
    "total_strip = lambda s: re.sub(\"[ ]+\", \" \", s.strip())"
   ],
   "metadata": {
    "collapsed": false
   }
  },
  {
   "cell_type": "code",
   "execution_count": 60,
   "outputs": [
    {
     "name": "stdout",
     "output_type": "stream",
     "text": [
      "{'A101': 'none',\n",
      " 'A102': 'co-applicant',\n",
      " 'A103': 'guarantor',\n",
      " 'A11': '... < 0 DM',\n",
      " 'A12': '0 <= ... < 200 DM',\n",
      " 'A121': 'real estate',\n",
      " 'A122': 'if not A121 : building society savings agreement/',\n",
      " 'A123': 'if not A121/A122 : car or other, not in attribute 6',\n",
      " 'A124': 'unknown / no property',\n",
      " 'A13': '... >= 200 DM /',\n",
      " 'A14': 'no checking account',\n",
      " 'A141': 'bank',\n",
      " 'A142': 'stores',\n",
      " 'A143': 'none',\n",
      " 'A151': 'rent',\n",
      " 'A152': 'own',\n",
      " 'A153': 'for free',\n",
      " 'A171': 'unemployed/ unskilled - non-resident',\n",
      " 'A172': 'unskilled - resident',\n",
      " 'A173': 'skilled employee / official',\n",
      " 'A174': 'management/ self-employed/',\n",
      " 'A191': 'none',\n",
      " 'A192': 'yes, registered under the customers name',\n",
      " 'A201': 'yes',\n",
      " 'A202': 'no',\n",
      " 'A30': 'no credits taken/',\n",
      " 'A31': 'all credits at this bank paid back duly',\n",
      " 'A32': 'existing credits paid back duly till now',\n",
      " 'A33': 'delay in paying off in the past',\n",
      " 'A34': 'critical account/',\n",
      " 'A40': 'car (new)',\n",
      " 'A41': 'car (used)',\n",
      " 'A410': 'others',\n",
      " 'A42': 'furniture/equipment',\n",
      " 'A43': 'radio/television',\n",
      " 'A44': 'domestic appliances',\n",
      " 'A45': 'repairs',\n",
      " 'A46': 'education',\n",
      " 'A47': '(vacation - does not exist?)',\n",
      " 'A48': 'retraining',\n",
      " 'A49': 'business',\n",
      " 'A61': '... < 100 DM',\n",
      " 'A62': '100 <= ... < 500 DM',\n",
      " 'A63': '500 <= ... < 1000 DM',\n",
      " 'A64': '.. >= 1000 DM',\n",
      " 'A65': 'unknown/ no savings account',\n",
      " 'A71': 'unemployed',\n",
      " 'A72': '... < 1 year',\n",
      " 'A73': '1 <= ... < 4 years',\n",
      " 'A74': '4 <= ... < 7 years',\n",
      " 'A75': '.. >= 7 years',\n",
      " 'A91': 'male : divorced/separated',\n",
      " 'A92': 'female : divorced/separated/married',\n",
      " 'A93': 'male : single',\n",
      " 'A94': 'male : married/widowed',\n",
      " 'A95': 'female : single'}\n"
     ]
    }
   ],
   "source": [
    "mapping = {\n",
    "    total_strip(code): total_strip(text)\n",
    "    for code, text in [line.split(\":\", 1) for line in lines]\n",
    "}\n",
    "if DEBUG: pprint(mapping)"
   ],
   "metadata": {
    "collapsed": false
   }
  },
  {
   "cell_type": "code",
   "execution_count": 61,
   "outputs": [
    {
     "name": "stdout",
     "output_type": "stream",
     "text": [
      "{'A101': '(A101) none',\n",
      " 'A102': '(A102) co-applicant',\n",
      " 'A103': '(A103) guarantor',\n",
      " 'A11': '(A11) ... < 0 DM',\n",
      " 'A12': '(A12) 0 <= ... < 200 DM',\n",
      " 'A121': '(A121) real estate',\n",
      " 'A122': '(A122) if not A121 : building society savings agreement/',\n",
      " 'A123': '(A123) if not A121/A122 : car or other, not in attribute 6',\n",
      " 'A124': '(A124) unknown / no property',\n",
      " 'A13': '(A13) ... >= 200 DM /',\n",
      " 'A14': '(A14) no checking account',\n",
      " 'A141': '(A141) bank',\n",
      " 'A142': '(A142) stores',\n",
      " 'A143': '(A143) none',\n",
      " 'A151': '(A151) rent',\n",
      " 'A152': '(A152) own',\n",
      " 'A153': '(A153) for free',\n",
      " 'A171': '(A171) unemployed/ unskilled - non-resident',\n",
      " 'A172': '(A172) unskilled - resident',\n",
      " 'A173': '(A173) skilled employee / official',\n",
      " 'A174': '(A174) management/ self-employed/',\n",
      " 'A191': '(A191) none',\n",
      " 'A192': '(A192) yes, registered under the customers name',\n",
      " 'A201': '(A201) yes',\n",
      " 'A202': '(A202) no',\n",
      " 'A30': '(A30) no credits taken/',\n",
      " 'A31': '(A31) all credits at this bank paid back duly',\n",
      " 'A32': '(A32) existing credits paid back duly till now',\n",
      " 'A33': '(A33) delay in paying off in the past',\n",
      " 'A34': '(A34) critical account/',\n",
      " 'A40': '(A40) car (new)',\n",
      " 'A41': '(A41) car (used)',\n",
      " 'A410': '(A410) others',\n",
      " 'A42': '(A42) furniture/equipment',\n",
      " 'A43': '(A43) radio/television',\n",
      " 'A44': '(A44) domestic appliances',\n",
      " 'A45': '(A45) repairs',\n",
      " 'A46': '(A46) education',\n",
      " 'A47': '(A47) (vacation - does not exist?)',\n",
      " 'A48': '(A48) retraining',\n",
      " 'A49': '(A49) business',\n",
      " 'A61': '(A61) ... < 100 DM',\n",
      " 'A62': '(A62) 100 <= ... < 500 DM',\n",
      " 'A63': '(A63) 500 <= ... < 1000 DM',\n",
      " 'A64': '(A64) .. >= 1000 DM',\n",
      " 'A65': '(A65) unknown/ no savings account',\n",
      " 'A71': '(A71) unemployed',\n",
      " 'A72': '(A72) ... < 1 year',\n",
      " 'A73': '(A73) 1 <= ... < 4 years',\n",
      " 'A74': '(A74) 4 <= ... < 7 years',\n",
      " 'A75': '(A75) .. >= 7 years',\n",
      " 'A91': '(A91) male : divorced/separated',\n",
      " 'A92': '(A92) female : divorced/separated/married',\n",
      " 'A93': '(A93) male : single',\n",
      " 'A94': '(A94) male : married/widowed',\n",
      " 'A95': '(A95) female : single'}\n"
     ]
    }
   ],
   "source": [
    "mapping = {k:f\"({k}) {v}\" for k, v in mapping.items()}\n",
    "if DEBUG: pprint(mapping)"
   ],
   "metadata": {
    "collapsed": false
   }
  },
  {
   "cell_type": "code",
   "execution_count": 62,
   "outputs": [
    {
     "data": {
      "text/plain": "Index(['Account_Balance', 'Credit_History', 'Loan_Purpose', 'Savings', 'Years_Employed', 'Gender_and_Status', 'Other_Debtors_Guarantors', 'Property', 'Installment_Plans', 'Housing', 'Job', 'Telephone', 'Foreign'], dtype='object')"
     },
     "execution_count": 62,
     "metadata": {},
     "output_type": "execute_result"
    }
   ],
   "source": [
    "code_columns = df.select_dtypes(\"object\").columns\n",
    "code_columns"
   ],
   "metadata": {
    "collapsed": false
   }
  },
  {
   "cell_type": "code",
   "execution_count": 63,
   "outputs": [],
   "source": [
    "df_labeled = df.copy()\n",
    "for c in code_columns:\n",
    "    df_labeled[c] = df_labeled[c].map(mapping)"
   ],
   "metadata": {
    "collapsed": false
   }
  },
  {
   "cell_type": "code",
   "execution_count": 64,
   "outputs": [
    {
     "data": {
      "text/plain": "Account_Balance             0\nLoan_Duration               0\nCredit_History              0\nLoan_Purpose                0\nLoan_Amount                 0\nSavings                     0\nYears_Employed              0\nInstallment_Rate            0\nGender_and_Status           0\nOther_Debtors_Guarantors    0\nYear_of_Residence           0\nProperty                    0\nAge                         0\nInstallment_Plans           0\nHousing                     0\nExisting_Credits            0\nJob                         0\nDependents                  0\nTelephone                   0\nForeign                     0\nCredit_Rating               0\ndtype: int64"
     },
     "execution_count": 64,
     "metadata": {},
     "output_type": "execute_result"
    }
   ],
   "source": [
    "df_labeled.isna().sum()"
   ],
   "metadata": {
    "collapsed": false
   }
  },
  {
   "cell_type": "code",
   "execution_count": 65,
   "outputs": [],
   "source": [
    "df_labeled.to_pickle(\"data/df_labeled.pickle\")\n",
    "\n",
    "with open(\"data/mapping.yaml\", \"wt\") as stream:\n",
    "    yaml.safe_dump(mapping, stream)"
   ],
   "metadata": {
    "collapsed": false
   }
  }
 ],
 "metadata": {
  "kernelspec": {
   "display_name": "Python 3",
   "language": "python",
   "name": "python3"
  },
  "language_info": {
   "codemirror_mode": {
    "name": "ipython",
    "version": 2
   },
   "file_extension": ".py",
   "mimetype": "text/x-python",
   "name": "python",
   "nbconvert_exporter": "python",
   "pygments_lexer": "ipython2",
   "version": "2.7.6"
  }
 },
 "nbformat": 4,
 "nbformat_minor": 0
}
