{
 "cells": [
  {
   "cell_type": "markdown",
   "source": [
    "# German Credit - Data Exploration #"
   ],
   "metadata": {
    "collapsed": false
   }
  },
  {
   "cell_type": "code",
   "execution_count": 2,
   "outputs": [
    {
     "name": "stdout",
     "output_type": "stream",
     "text": [
      "(1000, 21)\n"
     ]
    },
    {
     "data": {
      "text/plain": "             Account_Balance  Loan_Duration  \\\n0           (A11) ... < 0 DM              6   \n1    (A12) 0 <= ... < 200 DM             48   \n2  (A14) no checking account             12   \n3           (A11) ... < 0 DM             42   \n4           (A11) ... < 0 DM             24   \n5  (A14) no checking account             36   \n6  (A14) no checking account             24   \n7    (A12) 0 <= ... < 200 DM             36   \n8  (A14) no checking account             12   \n9    (A12) 0 <= ... < 200 DM             30   \n\n                                   Credit_History               Loan_Purpose  \\\n0                         (A34) critical account/     (A43) radio/television   \n1  (A32) existing credits paid back duly till now     (A43) radio/television   \n2                         (A34) critical account/            (A46) education   \n3  (A32) existing credits paid back duly till now  (A42) furniture/equipment   \n4           (A33) delay in paying off in the past            (A40) car (new)   \n5  (A32) existing credits paid back duly till now            (A46) education   \n6  (A32) existing credits paid back duly till now  (A42) furniture/equipment   \n7  (A32) existing credits paid back duly till now           (A41) car (used)   \n8  (A32) existing credits paid back duly till now     (A43) radio/television   \n9                         (A34) critical account/            (A40) car (new)   \n\n   Loan_Amount                            Savings            Years_Employed  \\\n0         1169  (A65) unknown/ no savings account       (A75) .. >= 7 years   \n1         5951                 (A61) ... < 100 DM  (A73) 1 <= ... < 4 years   \n2         2096                 (A61) ... < 100 DM  (A74) 4 <= ... < 7 years   \n3         7882                 (A61) ... < 100 DM  (A74) 4 <= ... < 7 years   \n4         4870                 (A61) ... < 100 DM  (A73) 1 <= ... < 4 years   \n5         9055  (A65) unknown/ no savings account  (A73) 1 <= ... < 4 years   \n6         2835         (A63) 500 <= ... < 1000 DM       (A75) .. >= 7 years   \n7         6948                 (A61) ... < 100 DM  (A73) 1 <= ... < 4 years   \n8         3059                (A64) .. >= 1000 DM  (A74) 4 <= ... < 7 years   \n9         5234                 (A61) ... < 100 DM          (A71) unemployed   \n\n   Installment_Rate                          Gender_and_Status  \\\n0                 4                        (A93) male : single   \n1                 2  (A92) female : divorced/separated/married   \n2                 2                        (A93) male : single   \n3                 2                        (A93) male : single   \n4                 3                        (A93) male : single   \n5                 2                        (A93) male : single   \n6                 3                        (A93) male : single   \n7                 2                        (A93) male : single   \n8                 2            (A91) male : divorced/separated   \n9                 4               (A94) male : married/widowed   \n\n  Other_Debtors_Guarantors  ...  \\\n0              (A101) none  ...   \n1              (A101) none  ...   \n2              (A101) none  ...   \n3         (A103) guarantor  ...   \n4              (A101) none  ...   \n5              (A101) none  ...   \n6              (A101) none  ...   \n7              (A101) none  ...   \n8              (A101) none  ...   \n9              (A101) none  ...   \n\n                                            Property Age  Installment_Plans  \\\n0                                 (A121) real estate  67        (A143) none   \n1                                 (A121) real estate  22        (A143) none   \n2                                 (A121) real estate  49        (A143) none   \n3  (A122) if not A121 : building society savings ...  45        (A143) none   \n4                       (A124) unknown / no property  53        (A143) none   \n5                       (A124) unknown / no property  35        (A143) none   \n6  (A122) if not A121 : building society savings ...  53        (A143) none   \n7  (A123) if not A121/A122 : car or other, not in...  35        (A143) none   \n8                                 (A121) real estate  61        (A143) none   \n9  (A123) if not A121/A122 : car or other, not in...  28        (A143) none   \n\n           Housing Existing_Credits                                 Job  \\\n0       (A152) own                2  (A173) skilled employee / official   \n1       (A152) own                1  (A173) skilled employee / official   \n2       (A152) own                1         (A172) unskilled - resident   \n3  (A153) for free                1  (A173) skilled employee / official   \n4  (A153) for free                2  (A173) skilled employee / official   \n5  (A153) for free                1         (A172) unskilled - resident   \n6       (A152) own                1  (A173) skilled employee / official   \n7      (A151) rent                1   (A174) management/ self-employed/   \n8       (A152) own                1         (A172) unskilled - resident   \n9       (A152) own                2   (A174) management/ self-employed/   \n\n  Dependents                                        Telephone     Foreign  \\\n0          1  (A192) yes, registered under the customers name  (A201) yes   \n1          1                                      (A191) none  (A201) yes   \n2          2                                      (A191) none  (A201) yes   \n3          2                                      (A191) none  (A201) yes   \n4          2                                      (A191) none  (A201) yes   \n5          2  (A192) yes, registered under the customers name  (A201) yes   \n6          1                                      (A191) none  (A201) yes   \n7          1  (A192) yes, registered under the customers name  (A201) yes   \n8          1                                      (A191) none  (A201) yes   \n9          1                                      (A191) none  (A201) yes   \n\n  Credit_Rating  \n0             1  \n1             2  \n2             1  \n3             1  \n4             2  \n5             1  \n6             1  \n7             1  \n8             1  \n9             2  \n\n[10 rows x 21 columns]",
      "text/html": "<div>\n<style scoped>\n    .dataframe tbody tr th:only-of-type {\n        vertical-align: middle;\n    }\n\n    .dataframe tbody tr th {\n        vertical-align: top;\n    }\n\n    .dataframe thead th {\n        text-align: right;\n    }\n</style>\n<table border=\"1\" class=\"dataframe\">\n  <thead>\n    <tr style=\"text-align: right;\">\n      <th></th>\n      <th>Account_Balance</th>\n      <th>Loan_Duration</th>\n      <th>Credit_History</th>\n      <th>Loan_Purpose</th>\n      <th>Loan_Amount</th>\n      <th>Savings</th>\n      <th>Years_Employed</th>\n      <th>Installment_Rate</th>\n      <th>Gender_and_Status</th>\n      <th>Other_Debtors_Guarantors</th>\n      <th>...</th>\n      <th>Property</th>\n      <th>Age</th>\n      <th>Installment_Plans</th>\n      <th>Housing</th>\n      <th>Existing_Credits</th>\n      <th>Job</th>\n      <th>Dependents</th>\n      <th>Telephone</th>\n      <th>Foreign</th>\n      <th>Credit_Rating</th>\n    </tr>\n  </thead>\n  <tbody>\n    <tr>\n      <th>0</th>\n      <td>(A11) ... &lt; 0 DM</td>\n      <td>6</td>\n      <td>(A34) critical account/</td>\n      <td>(A43) radio/television</td>\n      <td>1169</td>\n      <td>(A65) unknown/ no savings account</td>\n      <td>(A75) .. &gt;= 7 years</td>\n      <td>4</td>\n      <td>(A93) male : single</td>\n      <td>(A101) none</td>\n      <td>...</td>\n      <td>(A121) real estate</td>\n      <td>67</td>\n      <td>(A143) none</td>\n      <td>(A152) own</td>\n      <td>2</td>\n      <td>(A173) skilled employee / official</td>\n      <td>1</td>\n      <td>(A192) yes, registered under the customers name</td>\n      <td>(A201) yes</td>\n      <td>1</td>\n    </tr>\n    <tr>\n      <th>1</th>\n      <td>(A12) 0 &lt;= ... &lt; 200 DM</td>\n      <td>48</td>\n      <td>(A32) existing credits paid back duly till now</td>\n      <td>(A43) radio/television</td>\n      <td>5951</td>\n      <td>(A61) ... &lt; 100 DM</td>\n      <td>(A73) 1 &lt;= ... &lt; 4 years</td>\n      <td>2</td>\n      <td>(A92) female : divorced/separated/married</td>\n      <td>(A101) none</td>\n      <td>...</td>\n      <td>(A121) real estate</td>\n      <td>22</td>\n      <td>(A143) none</td>\n      <td>(A152) own</td>\n      <td>1</td>\n      <td>(A173) skilled employee / official</td>\n      <td>1</td>\n      <td>(A191) none</td>\n      <td>(A201) yes</td>\n      <td>2</td>\n    </tr>\n    <tr>\n      <th>2</th>\n      <td>(A14) no checking account</td>\n      <td>12</td>\n      <td>(A34) critical account/</td>\n      <td>(A46) education</td>\n      <td>2096</td>\n      <td>(A61) ... &lt; 100 DM</td>\n      <td>(A74) 4 &lt;= ... &lt; 7 years</td>\n      <td>2</td>\n      <td>(A93) male : single</td>\n      <td>(A101) none</td>\n      <td>...</td>\n      <td>(A121) real estate</td>\n      <td>49</td>\n      <td>(A143) none</td>\n      <td>(A152) own</td>\n      <td>1</td>\n      <td>(A172) unskilled - resident</td>\n      <td>2</td>\n      <td>(A191) none</td>\n      <td>(A201) yes</td>\n      <td>1</td>\n    </tr>\n    <tr>\n      <th>3</th>\n      <td>(A11) ... &lt; 0 DM</td>\n      <td>42</td>\n      <td>(A32) existing credits paid back duly till now</td>\n      <td>(A42) furniture/equipment</td>\n      <td>7882</td>\n      <td>(A61) ... &lt; 100 DM</td>\n      <td>(A74) 4 &lt;= ... &lt; 7 years</td>\n      <td>2</td>\n      <td>(A93) male : single</td>\n      <td>(A103) guarantor</td>\n      <td>...</td>\n      <td>(A122) if not A121 : building society savings ...</td>\n      <td>45</td>\n      <td>(A143) none</td>\n      <td>(A153) for free</td>\n      <td>1</td>\n      <td>(A173) skilled employee / official</td>\n      <td>2</td>\n      <td>(A191) none</td>\n      <td>(A201) yes</td>\n      <td>1</td>\n    </tr>\n    <tr>\n      <th>4</th>\n      <td>(A11) ... &lt; 0 DM</td>\n      <td>24</td>\n      <td>(A33) delay in paying off in the past</td>\n      <td>(A40) car (new)</td>\n      <td>4870</td>\n      <td>(A61) ... &lt; 100 DM</td>\n      <td>(A73) 1 &lt;= ... &lt; 4 years</td>\n      <td>3</td>\n      <td>(A93) male : single</td>\n      <td>(A101) none</td>\n      <td>...</td>\n      <td>(A124) unknown / no property</td>\n      <td>53</td>\n      <td>(A143) none</td>\n      <td>(A153) for free</td>\n      <td>2</td>\n      <td>(A173) skilled employee / official</td>\n      <td>2</td>\n      <td>(A191) none</td>\n      <td>(A201) yes</td>\n      <td>2</td>\n    </tr>\n    <tr>\n      <th>5</th>\n      <td>(A14) no checking account</td>\n      <td>36</td>\n      <td>(A32) existing credits paid back duly till now</td>\n      <td>(A46) education</td>\n      <td>9055</td>\n      <td>(A65) unknown/ no savings account</td>\n      <td>(A73) 1 &lt;= ... &lt; 4 years</td>\n      <td>2</td>\n      <td>(A93) male : single</td>\n      <td>(A101) none</td>\n      <td>...</td>\n      <td>(A124) unknown / no property</td>\n      <td>35</td>\n      <td>(A143) none</td>\n      <td>(A153) for free</td>\n      <td>1</td>\n      <td>(A172) unskilled - resident</td>\n      <td>2</td>\n      <td>(A192) yes, registered under the customers name</td>\n      <td>(A201) yes</td>\n      <td>1</td>\n    </tr>\n    <tr>\n      <th>6</th>\n      <td>(A14) no checking account</td>\n      <td>24</td>\n      <td>(A32) existing credits paid back duly till now</td>\n      <td>(A42) furniture/equipment</td>\n      <td>2835</td>\n      <td>(A63) 500 &lt;= ... &lt; 1000 DM</td>\n      <td>(A75) .. &gt;= 7 years</td>\n      <td>3</td>\n      <td>(A93) male : single</td>\n      <td>(A101) none</td>\n      <td>...</td>\n      <td>(A122) if not A121 : building society savings ...</td>\n      <td>53</td>\n      <td>(A143) none</td>\n      <td>(A152) own</td>\n      <td>1</td>\n      <td>(A173) skilled employee / official</td>\n      <td>1</td>\n      <td>(A191) none</td>\n      <td>(A201) yes</td>\n      <td>1</td>\n    </tr>\n    <tr>\n      <th>7</th>\n      <td>(A12) 0 &lt;= ... &lt; 200 DM</td>\n      <td>36</td>\n      <td>(A32) existing credits paid back duly till now</td>\n      <td>(A41) car (used)</td>\n      <td>6948</td>\n      <td>(A61) ... &lt; 100 DM</td>\n      <td>(A73) 1 &lt;= ... &lt; 4 years</td>\n      <td>2</td>\n      <td>(A93) male : single</td>\n      <td>(A101) none</td>\n      <td>...</td>\n      <td>(A123) if not A121/A122 : car or other, not in...</td>\n      <td>35</td>\n      <td>(A143) none</td>\n      <td>(A151) rent</td>\n      <td>1</td>\n      <td>(A174) management/ self-employed/</td>\n      <td>1</td>\n      <td>(A192) yes, registered under the customers name</td>\n      <td>(A201) yes</td>\n      <td>1</td>\n    </tr>\n    <tr>\n      <th>8</th>\n      <td>(A14) no checking account</td>\n      <td>12</td>\n      <td>(A32) existing credits paid back duly till now</td>\n      <td>(A43) radio/television</td>\n      <td>3059</td>\n      <td>(A64) .. &gt;= 1000 DM</td>\n      <td>(A74) 4 &lt;= ... &lt; 7 years</td>\n      <td>2</td>\n      <td>(A91) male : divorced/separated</td>\n      <td>(A101) none</td>\n      <td>...</td>\n      <td>(A121) real estate</td>\n      <td>61</td>\n      <td>(A143) none</td>\n      <td>(A152) own</td>\n      <td>1</td>\n      <td>(A172) unskilled - resident</td>\n      <td>1</td>\n      <td>(A191) none</td>\n      <td>(A201) yes</td>\n      <td>1</td>\n    </tr>\n    <tr>\n      <th>9</th>\n      <td>(A12) 0 &lt;= ... &lt; 200 DM</td>\n      <td>30</td>\n      <td>(A34) critical account/</td>\n      <td>(A40) car (new)</td>\n      <td>5234</td>\n      <td>(A61) ... &lt; 100 DM</td>\n      <td>(A71) unemployed</td>\n      <td>4</td>\n      <td>(A94) male : married/widowed</td>\n      <td>(A101) none</td>\n      <td>...</td>\n      <td>(A123) if not A121/A122 : car or other, not in...</td>\n      <td>28</td>\n      <td>(A143) none</td>\n      <td>(A152) own</td>\n      <td>2</td>\n      <td>(A174) management/ self-employed/</td>\n      <td>1</td>\n      <td>(A191) none</td>\n      <td>(A201) yes</td>\n      <td>2</td>\n    </tr>\n  </tbody>\n</table>\n<p>10 rows × 21 columns</p>\n</div>"
     },
     "execution_count": 2,
     "metadata": {},
     "output_type": "execute_result"
    }
   ],
   "source": [
    "import pandas as pd\n",
    "import seaborn as sns\n",
    "\n",
    "df = pd.read_pickle(\"data/df_labeled.pickle\")\n",
    "print(df.shape)\n",
    "df.head(10)"
   ],
   "metadata": {
    "collapsed": false
   }
  },
  {
   "cell_type": "markdown",
   "source": [
    "Q1: What is the total of Loan_Amount?"
   ],
   "metadata": {
    "collapsed": false
   }
  },
  {
   "cell_type": "code",
   "execution_count": 3,
   "outputs": [
    {
     "data": {
      "text/plain": "3271258"
     },
     "execution_count": 3,
     "metadata": {},
     "output_type": "execute_result"
    }
   ],
   "source": [
    "df.Loan_Amount.sum()"
   ],
   "metadata": {
    "collapsed": false
   }
  },
  {
   "cell_type": "markdown",
   "source": [
    "Q2: What is the mean Loan_Duration to 2DP?"
   ],
   "metadata": {
    "collapsed": false
   }
  },
  {
   "cell_type": "code",
   "execution_count": 4,
   "outputs": [
    {
     "data": {
      "text/plain": "20.903"
     },
     "execution_count": 4,
     "metadata": {},
     "output_type": "execute_result"
    }
   ],
   "source": [
    "df.Loan_Duration.mean()"
   ],
   "metadata": {
    "collapsed": false
   }
  },
  {
   "cell_type": "markdown",
   "source": [
    "Q3: What is the standard deviation of Loan_Amount (to 2DP)?"
   ],
   "metadata": {
    "collapsed": false
   }
  },
  {
   "cell_type": "code",
   "execution_count": 5,
   "outputs": [
    {
     "data": {
      "text/plain": "2822.73687596044"
     },
     "execution_count": 5,
     "metadata": {},
     "output_type": "execute_result"
    }
   ],
   "source": [
    "df.Loan_Amount.std()"
   ],
   "metadata": {
    "collapsed": false
   }
  },
  {
   "cell_type": "markdown",
   "source": [
    "Q4: What is the mean Loan_Amount for applications that have Year_of_Residence equal to 1 (answer to 2DP)?"
   ],
   "metadata": {
    "collapsed": false
   }
  },
  {
   "cell_type": "code",
   "execution_count": 6,
   "outputs": [
    {
     "data": {
      "text/plain": "2926.776923076923"
     },
     "execution_count": 6,
     "metadata": {},
     "output_type": "execute_result"
    }
   ],
   "source": [
    "df.loc[df.Year_of_Residence == 1].Loan_Amount.mean()"
   ],
   "metadata": {
    "collapsed": false
   }
  },
  {
   "cell_type": "markdown",
   "source": [
    "Q5: What is the range of Loan_Amount?"
   ],
   "metadata": {
    "collapsed": false
   }
  },
  {
   "cell_type": "code",
   "execution_count": 7,
   "outputs": [
    {
     "data": {
      "text/plain": "18174"
     },
     "execution_count": 7,
     "metadata": {},
     "output_type": "execute_result"
    }
   ],
   "source": [
    "df.Loan_Amount.max() - df.Loan_Amount.min()"
   ],
   "metadata": {
    "collapsed": false
   }
  },
  {
   "cell_type": "markdown",
   "source": [
    "Q6: Classify the Age distribution as: Left-skewed, Symmetric, Right-skewed"
   ],
   "metadata": {
    "collapsed": false
   }
  },
  {
   "cell_type": "code",
   "execution_count": 8,
   "outputs": [
    {
     "data": {
      "text/plain": "<AxesSubplot: xlabel='Age', ylabel='Count'>"
     },
     "execution_count": 8,
     "metadata": {},
     "output_type": "execute_result"
    },
    {
     "data": {
      "text/plain": "<Figure size 640x480 with 1 Axes>",
      "image/png": "[encoded data removed]"
     },
     "metadata": {},
     "output_type": "display_data"
    }
   ],
   "source": [
    "sns.histplot(data = df, x = df.Age)"
   ],
   "metadata": {
    "collapsed": false
   }
  },
  {
   "cell_type": "markdown",
   "source": [
    "Q7: What is the interquartile range (IQR) of Loan_Amount (to 2DP)?"
   ],
   "metadata": {
    "collapsed": false
   }
  },
  {
   "cell_type": "code",
   "execution_count": 9,
   "outputs": [
    {
     "data": {
      "text/plain": "2606.75"
     },
     "execution_count": 9,
     "metadata": {},
     "output_type": "execute_result"
    }
   ],
   "source": [
    "df.Loan_Amount.quantile(0.75) - df.Loan_Amount.quantile(0.25)"
   ],
   "metadata": {
    "collapsed": false
   }
  },
  {
   "cell_type": "markdown",
   "source": [
    "Q8: Using the 1.5*IQR from the quartiles rule, how many outlier observations are in Loan_Amount?"
   ],
   "metadata": {
    "collapsed": false
   }
  },
  {
   "cell_type": "code",
   "execution_count": 10,
   "outputs": [
    {
     "data": {
      "text/plain": "3910.125"
     },
     "execution_count": 10,
     "metadata": {},
     "output_type": "execute_result"
    }
   ],
   "source": [
    "iqr = (df.Loan_Amount.quantile(0.75) - df.Loan_Amount.quantile(0.25)) * 1.5\n",
    "iqr"
   ],
   "metadata": {
    "collapsed": false
   }
  },
  {
   "cell_type": "code",
   "execution_count": 11,
   "outputs": [
    {
     "data": {
      "text/plain": "72"
     },
     "execution_count": 11,
     "metadata": {},
     "output_type": "execute_result"
    }
   ],
   "source": [
    "df.loc[df.Loan_Amount < df.Loan_Amount.quantile(0.25) - iqr].Loan_Amount.count() +\\\n",
    "df.loc[df.Loan_Amount > df.Loan_Amount.quantile(0.75) + iqr].Loan_Amount.count()"
   ],
   "metadata": {
    "collapsed": false
   }
  },
  {
   "cell_type": "markdown",
   "source": [
    "Q9: What is the third most popular reason cited for loan?"
   ],
   "metadata": {
    "collapsed": false
   }
  },
  {
   "cell_type": "code",
   "execution_count": 12,
   "outputs": [
    {
     "data": {
      "text/plain": "(A43) radio/television       280\n(A40) car (new)              234\n(A42) furniture/equipment    181\n(A41) car (used)             103\n(A49) business                97\n(A46) education               50\n(A45) repairs                 22\n(A44) domestic appliances     12\n(A410) others                 12\n(A48) retraining               9\nName: Loan_Purpose, dtype: int64"
     },
     "execution_count": 12,
     "metadata": {},
     "output_type": "execute_result"
    }
   ],
   "source": [
    "df.Loan_Purpose.value_counts()"
   ],
   "metadata": {
    "collapsed": false
   }
  },
  {
   "cell_type": "markdown",
   "source": [
    "Q10: How many distinct reasons are cited for asking for a loan?"
   ],
   "metadata": {
    "collapsed": false
   }
  },
  {
   "cell_type": "code",
   "execution_count": 13,
   "outputs": [
    {
     "data": {
      "text/plain": "count                       1000\nunique                        10\ntop       (A43) radio/television\nfreq                         280\nName: Loan_Purpose, dtype: object"
     },
     "execution_count": 13,
     "metadata": {},
     "output_type": "execute_result"
    }
   ],
   "source": [
    "df.Loan_Purpose.describe()"
   ],
   "metadata": {
    "collapsed": false
   }
  },
  {
   "cell_type": "markdown",
   "source": [
    "Q11: Which reason cited for loan has the highest rate of bad claims?"
   ],
   "metadata": {
    "collapsed": false
   }
  },
  {
   "cell_type": "code",
   "execution_count": 14,
   "outputs": [
    {
     "data": {
      "text/plain": "(A40) car (new)    89\nName: Loan_Purpose, dtype: int64"
     },
     "execution_count": 14,
     "metadata": {},
     "output_type": "execute_result"
    }
   ],
   "source": [
    "df.Loan_Purpose.loc[df.Credit_Rating == 2].value_counts().head(1)"
   ],
   "metadata": {
    "collapsed": false
   }
  },
  {
   "cell_type": "markdown",
   "source": [
    "Q12: Which Credit_History has the lowest rate of bad claims?"
   ],
   "metadata": {
    "collapsed": false
   }
  },
  {
   "cell_type": "code",
   "execution_count": 15,
   "outputs": [
    {
     "data": {
      "text/plain": "(A30) no credits taken/    25\nName: Credit_History, dtype: int64"
     },
     "execution_count": 15,
     "metadata": {},
     "output_type": "execute_result"
    }
   ],
   "source": [
    "df.Credit_History.loc[df.Credit_Rating == 2].value_counts().tail(1)"
   ],
   "metadata": {
    "collapsed": false
   }
  },
  {
   "cell_type": "markdown",
   "source": [
    "Q13: What is the average age of applicants that have Credit_Rating of Bad?"
   ],
   "metadata": {
    "collapsed": false
   }
  },
  {
   "cell_type": "code",
   "execution_count": 16,
   "outputs": [
    {
     "data": {
      "text/plain": "33.96333333333333"
     },
     "execution_count": 16,
     "metadata": {},
     "output_type": "execute_result"
    }
   ],
   "source": [
    "df.loc[df.Credit_Rating == 2].Age.mean()"
   ],
   "metadata": {
    "collapsed": false
   }
  },
  {
   "cell_type": "markdown",
   "source": [
    "Q14: How many reasons cited for loans have a mean Loan_Duration greater than the mean of Loan_Duration overall?"
   ],
   "metadata": {
    "collapsed": false
   }
  },
  {
   "cell_type": "code",
   "execution_count": 17,
   "outputs": [
    {
     "data": {
      "text/plain": "4"
     },
     "execution_count": 17,
     "metadata": {},
     "output_type": "execute_result"
    }
   ],
   "source": [
    "(df.groupby(df.Loan_Purpose).Loan_Duration.mean() > df.Loan_Duration.mean()).sum()"
   ],
   "metadata": {
    "collapsed": false
   }
  },
  {
   "cell_type": "markdown",
   "source": [
    "Q15: What is the correlation between Loan_Duration and Loan_Amount (to 2DP)?"
   ],
   "metadata": {
    "collapsed": false
   }
  },
  {
   "cell_type": "code",
   "execution_count": 18,
   "outputs": [
    {
     "data": {
      "text/plain": "0.6249841983009832"
     },
     "execution_count": 18,
     "metadata": {},
     "output_type": "execute_result"
    }
   ],
   "source": [
    "df.Loan_Duration.corr(df.Loan_Amount)"
   ],
   "metadata": {
    "collapsed": false
   }
  },
  {
   "cell_type": "markdown",
   "source": [
    "Q16: What is the probability of an applicant is female? (enter answer as a decimal to 2DP)?"
   ],
   "metadata": {
    "collapsed": false
   }
  },
  {
   "cell_type": "code",
   "execution_count": 19,
   "outputs": [
    {
     "data": {
      "text/plain": "0.31"
     },
     "execution_count": 19,
     "metadata": {},
     "output_type": "execute_result"
    }
   ],
   "source": [
    "df.loc[df.Gender_and_Status.str.contains(\"female\")].Gender_and_Status.count() / len(df)"
   ],
   "metadata": {
    "collapsed": false
   }
  },
  {
   "cell_type": "markdown",
   "source": [
    "Q17: What is the probability of an applicant that owns their own property, does not have a telephone? (enter answer as a decimal to 2DP)?"
   ],
   "metadata": {
    "collapsed": false
   }
  },
  {
   "cell_type": "code",
   "execution_count": 20,
   "outputs": [
    {
     "data": {
      "text/plain": "0.433"
     },
     "execution_count": 20,
     "metadata": {},
     "output_type": "execute_result"
    }
   ],
   "source": [
    "df.loc[df.Housing.str.contains(\"own\")].loc[df.Telephone.str.contains(\"none\")].Gender_and_Status.count() / len(df)"
   ],
   "metadata": {
    "collapsed": false
   }
  },
  {
   "cell_type": "markdown",
   "source": [
    "Q18: Which categorical feature has the most impact on the target (using chi2 as the metric)?"
   ],
   "metadata": {
    "collapsed": false
   }
  },
  {
   "cell_type": "code",
   "execution_count": 22,
   "outputs": [
    {
     "data": {
      "text/plain": "               Account_Balance  Loan_Duration  \\\n0             (A11) ... < 0 DM              6   \n1      (A12) 0 <= ... < 200 DM             48   \n2    (A14) no checking account             12   \n3             (A11) ... < 0 DM             42   \n4             (A11) ... < 0 DM             24   \n..                         ...            ...   \n995  (A14) no checking account             12   \n996           (A11) ... < 0 DM             30   \n997  (A14) no checking account             12   \n998           (A11) ... < 0 DM             45   \n999    (A12) 0 <= ... < 200 DM             45   \n\n                                     Credit_History  \\\n0                           (A34) critical account/   \n1    (A32) existing credits paid back duly till now   \n2                           (A34) critical account/   \n3    (A32) existing credits paid back duly till now   \n4             (A33) delay in paying off in the past   \n..                                              ...   \n995  (A32) existing credits paid back duly till now   \n996  (A32) existing credits paid back duly till now   \n997  (A32) existing credits paid back duly till now   \n998  (A32) existing credits paid back duly till now   \n999                         (A34) critical account/   \n\n                  Loan_Purpose  Loan_Amount  \\\n0       (A43) radio/television         1169   \n1       (A43) radio/television         5951   \n2              (A46) education         2096   \n3    (A42) furniture/equipment         7882   \n4              (A40) car (new)         4870   \n..                         ...          ...   \n995  (A42) furniture/equipment         1736   \n996           (A41) car (used)         3857   \n997     (A43) radio/television          804   \n998     (A43) radio/television         1845   \n999           (A41) car (used)         4576   \n\n                               Savings            Years_Employed  \\\n0    (A65) unknown/ no savings account       (A75) .. >= 7 years   \n1                   (A61) ... < 100 DM  (A73) 1 <= ... < 4 years   \n2                   (A61) ... < 100 DM  (A74) 4 <= ... < 7 years   \n3                   (A61) ... < 100 DM  (A74) 4 <= ... < 7 years   \n4                   (A61) ... < 100 DM  (A73) 1 <= ... < 4 years   \n..                                 ...                       ...   \n995                 (A61) ... < 100 DM  (A74) 4 <= ... < 7 years   \n996                 (A61) ... < 100 DM  (A73) 1 <= ... < 4 years   \n997                 (A61) ... < 100 DM       (A75) .. >= 7 years   \n998                 (A61) ... < 100 DM  (A73) 1 <= ... < 4 years   \n999          (A62) 100 <= ... < 500 DM          (A71) unemployed   \n\n     Installment_Rate                          Gender_and_Status  \\\n0                   4                        (A93) male : single   \n1                   2  (A92) female : divorced/separated/married   \n2                   2                        (A93) male : single   \n3                   2                        (A93) male : single   \n4                   3                        (A93) male : single   \n..                ...                                        ...   \n995                 3  (A92) female : divorced/separated/married   \n996                 4            (A91) male : divorced/separated   \n997                 4                        (A93) male : single   \n998                 4                        (A93) male : single   \n999                 3                        (A93) male : single   \n\n    Other_Debtors_Guarantors  ...  \\\n0                (A101) none  ...   \n1                (A101) none  ...   \n2                (A101) none  ...   \n3           (A103) guarantor  ...   \n4                (A101) none  ...   \n..                       ...  ...   \n995              (A101) none  ...   \n996              (A101) none  ...   \n997              (A101) none  ...   \n998              (A101) none  ...   \n999              (A101) none  ...   \n\n                                              Property Age  Installment_Plans  \\\n0                                   (A121) real estate  67        (A143) none   \n1                                   (A121) real estate  22        (A143) none   \n2                                   (A121) real estate  49        (A143) none   \n3    (A122) if not A121 : building society savings ...  45        (A143) none   \n4                         (A124) unknown / no property  53        (A143) none   \n..                                                 ...  ..                ...   \n995                                 (A121) real estate  31        (A143) none   \n996  (A122) if not A121 : building society savings ...  40        (A143) none   \n997  (A123) if not A121/A122 : car or other, not in...  38        (A143) none   \n998                       (A124) unknown / no property  23        (A143) none   \n999  (A123) if not A121/A122 : car or other, not in...  27        (A143) none   \n\n             Housing Existing_Credits                                 Job  \\\n0         (A152) own                2  (A173) skilled employee / official   \n1         (A152) own                1  (A173) skilled employee / official   \n2         (A152) own                1         (A172) unskilled - resident   \n3    (A153) for free                1  (A173) skilled employee / official   \n4    (A153) for free                2  (A173) skilled employee / official   \n..               ...              ...                                 ...   \n995       (A152) own                1         (A172) unskilled - resident   \n996       (A152) own                1   (A174) management/ self-employed/   \n997       (A152) own                1  (A173) skilled employee / official   \n998  (A153) for free                1  (A173) skilled employee / official   \n999       (A152) own                1  (A173) skilled employee / official   \n\n    Dependents                                        Telephone     Foreign  \\\n0            1  (A192) yes, registered under the customers name  (A201) yes   \n1            1                                      (A191) none  (A201) yes   \n2            2                                      (A191) none  (A201) yes   \n3            2                                      (A191) none  (A201) yes   \n4            2                                      (A191) none  (A201) yes   \n..         ...                                              ...         ...   \n995          1                                      (A191) none  (A201) yes   \n996          1  (A192) yes, registered under the customers name  (A201) yes   \n997          1                                      (A191) none  (A201) yes   \n998          1  (A192) yes, registered under the customers name  (A201) yes   \n999          1                                      (A191) none  (A201) yes   \n\n    Credit_Rating  \n0               1  \n1               2  \n2               1  \n3               1  \n4               2  \n..            ...  \n995             1  \n996             1  \n997             1  \n998             2  \n999             1  \n\n[1000 rows x 21 columns]",
      "text/html": "<div>\n<style scoped>\n    .dataframe tbody tr th:only-of-type {\n        vertical-align: middle;\n    }\n\n    .dataframe tbody tr th {\n        vertical-align: top;\n    }\n\n    .dataframe thead th {\n        text-align: right;\n    }\n</style>\n<table border=\"1\" class=\"dataframe\">\n  <thead>\n    <tr style=\"text-align: right;\">\n      <th></th>\n      <th>Account_Balance</th>\n      <th>Loan_Duration</th>\n      <th>Credit_History</th>\n      <th>Loan_Purpose</th>\n      <th>Loan_Amount</th>\n      <th>Savings</th>\n      <th>Years_Employed</th>\n      <th>Installment_Rate</th>\n      <th>Gender_and_Status</th>\n      <th>Other_Debtors_Guarantors</th>\n      <th>...</th>\n      <th>Property</th>\n      <th>Age</th>\n      <th>Installment_Plans</th>\n      <th>Housing</th>\n      <th>Existing_Credits</th>\n      <th>Job</th>\n      <th>Dependents</th>\n      <th>Telephone</th>\n      <th>Foreign</th>\n      <th>Credit_Rating</th>\n    </tr>\n  </thead>\n  <tbody>\n    <tr>\n      <th>0</th>\n      <td>(A11) ... &lt; 0 DM</td>\n      <td>6</td>\n      <td>(A34) critical account/</td>\n      <td>(A43) radio/television</td>\n      <td>1169</td>\n      <td>(A65) unknown/ no savings account</td>\n      <td>(A75) .. &gt;= 7 years</td>\n      <td>4</td>\n      <td>(A93) male : single</td>\n      <td>(A101) none</td>\n      <td>...</td>\n      <td>(A121) real estate</td>\n      <td>67</td>\n      <td>(A143) none</td>\n      <td>(A152) own</td>\n      <td>2</td>\n      <td>(A173) skilled employee / official</td>\n      <td>1</td>\n      <td>(A192) yes, registered under the customers name</td>\n      <td>(A201) yes</td>\n      <td>1</td>\n    </tr>\n    <tr>\n      <th>1</th>\n      <td>(A12) 0 &lt;= ... &lt; 200 DM</td>\n      <td>48</td>\n      <td>(A32) existing credits paid back duly till now</td>\n      <td>(A43) radio/television</td>\n      <td>5951</td>\n      <td>(A61) ... &lt; 100 DM</td>\n      <td>(A73) 1 &lt;= ... &lt; 4 years</td>\n      <td>2</td>\n      <td>(A92) female : divorced/separated/married</td>\n      <td>(A101) none</td>\n      <td>...</td>\n      <td>(A121) real estate</td>\n      <td>22</td>\n      <td>(A143) none</td>\n      <td>(A152) own</td>\n      <td>1</td>\n      <td>(A173) skilled employee / official</td>\n      <td>1</td>\n      <td>(A191) none</td>\n      <td>(A201) yes</td>\n      <td>2</td>\n    </tr>\n    <tr>\n      <th>2</th>\n      <td>(A14) no checking account</td>\n      <td>12</td>\n      <td>(A34) critical account/</td>\n      <td>(A46) education</td>\n      <td>2096</td>\n      <td>(A61) ... &lt; 100 DM</td>\n      <td>(A74) 4 &lt;= ... &lt; 7 years</td>\n      <td>2</td>\n      <td>(A93) male : single</td>\n      <td>(A101) none</td>\n      <td>...</td>\n      <td>(A121) real estate</td>\n      <td>49</td>\n      <td>(A143) none</td>\n      <td>(A152) own</td>\n      <td>1</td>\n      <td>(A172) unskilled - resident</td>\n      <td>2</td>\n      <td>(A191) none</td>\n      <td>(A201) yes</td>\n      <td>1</td>\n    </tr>\n    <tr>\n      <th>3</th>\n      <td>(A11) ... &lt; 0 DM</td>\n      <td>42</td>\n      <td>(A32) existing credits paid back duly till now</td>\n      <td>(A42) furniture/equipment</td>\n      <td>7882</td>\n      <td>(A61) ... &lt; 100 DM</td>\n      <td>(A74) 4 &lt;= ... &lt; 7 years</td>\n      <td>2</td>\n      <td>(A93) male : single</td>\n      <td>(A103) guarantor</td>\n      <td>...</td>\n      <td>(A122) if not A121 : building society savings ...</td>\n      <td>45</td>\n      <td>(A143) none</td>\n      <td>(A153) for free</td>\n      <td>1</td>\n      <td>(A173) skilled employee / official</td>\n      <td>2</td>\n      <td>(A191) none</td>\n      <td>(A201) yes</td>\n      <td>1</td>\n    </tr>\n    <tr>\n      <th>4</th>\n      <td>(A11) ... &lt; 0 DM</td>\n      <td>24</td>\n      <td>(A33) delay in paying off in the past</td>\n      <td>(A40) car (new)</td>\n      <td>4870</td>\n      <td>(A61) ... &lt; 100 DM</td>\n      <td>(A73) 1 &lt;= ... &lt; 4 years</td>\n      <td>3</td>\n      <td>(A93) male : single</td>\n      <td>(A101) none</td>\n      <td>...</td>\n      <td>(A124) unknown / no property</td>\n      <td>53</td>\n      <td>(A143) none</td>\n      <td>(A153) for free</td>\n      <td>2</td>\n      <td>(A173) skilled employee / official</td>\n      <td>2</td>\n      <td>(A191) none</td>\n      <td>(A201) yes</td>\n      <td>2</td>\n    </tr>\n    <tr>\n      <th>...</th>\n      <td>...</td>\n      <td>...</td>\n      <td>...</td>\n      <td>...</td>\n      <td>...</td>\n      <td>...</td>\n      <td>...</td>\n      <td>...</td>\n      <td>...</td>\n      <td>...</td>\n      <td>...</td>\n      <td>...</td>\n      <td>...</td>\n      <td>...</td>\n      <td>...</td>\n      <td>...</td>\n      <td>...</td>\n      <td>...</td>\n      <td>...</td>\n      <td>...</td>\n      <td>...</td>\n    </tr>\n    <tr>\n      <th>995</th>\n      <td>(A14) no checking account</td>\n      <td>12</td>\n      <td>(A32) existing credits paid back duly till now</td>\n      <td>(A42) furniture/equipment</td>\n      <td>1736</td>\n      <td>(A61) ... &lt; 100 DM</td>\n      <td>(A74) 4 &lt;= ... &lt; 7 years</td>\n      <td>3</td>\n      <td>(A92) female : divorced/separated/married</td>\n      <td>(A101) none</td>\n      <td>...</td>\n      <td>(A121) real estate</td>\n      <td>31</td>\n      <td>(A143) none</td>\n      <td>(A152) own</td>\n      <td>1</td>\n      <td>(A172) unskilled - resident</td>\n      <td>1</td>\n      <td>(A191) none</td>\n      <td>(A201) yes</td>\n      <td>1</td>\n    </tr>\n    <tr>\n      <th>996</th>\n      <td>(A11) ... &lt; 0 DM</td>\n      <td>30</td>\n      <td>(A32) existing credits paid back duly till now</td>\n      <td>(A41) car (used)</td>\n      <td>3857</td>\n      <td>(A61) ... &lt; 100 DM</td>\n      <td>(A73) 1 &lt;= ... &lt; 4 years</td>\n      <td>4</td>\n      <td>(A91) male : divorced/separated</td>\n      <td>(A101) none</td>\n      <td>...</td>\n      <td>(A122) if not A121 : building society savings ...</td>\n      <td>40</td>\n      <td>(A143) none</td>\n      <td>(A152) own</td>\n      <td>1</td>\n      <td>(A174) management/ self-employed/</td>\n      <td>1</td>\n      <td>(A192) yes, registered under the customers name</td>\n      <td>(A201) yes</td>\n      <td>1</td>\n    </tr>\n    <tr>\n      <th>997</th>\n      <td>(A14) no checking account</td>\n      <td>12</td>\n      <td>(A32) existing credits paid back duly till now</td>\n      <td>(A43) radio/television</td>\n      <td>804</td>\n      <td>(A61) ... &lt; 100 DM</td>\n      <td>(A75) .. &gt;= 7 years</td>\n      <td>4</td>\n      <td>(A93) male : single</td>\n      <td>(A101) none</td>\n      <td>...</td>\n      <td>(A123) if not A121/A122 : car or other, not in...</td>\n      <td>38</td>\n      <td>(A143) none</td>\n      <td>(A152) own</td>\n      <td>1</td>\n      <td>(A173) skilled employee / official</td>\n      <td>1</td>\n      <td>(A191) none</td>\n      <td>(A201) yes</td>\n      <td>1</td>\n    </tr>\n    <tr>\n      <th>998</th>\n      <td>(A11) ... &lt; 0 DM</td>\n      <td>45</td>\n      <td>(A32) existing credits paid back duly till now</td>\n      <td>(A43) radio/television</td>\n      <td>1845</td>\n      <td>(A61) ... &lt; 100 DM</td>\n      <td>(A73) 1 &lt;= ... &lt; 4 years</td>\n      <td>4</td>\n      <td>(A93) male : single</td>\n      <td>(A101) none</td>\n      <td>...</td>\n      <td>(A124) unknown / no property</td>\n      <td>23</td>\n      <td>(A143) none</td>\n      <td>(A153) for free</td>\n      <td>1</td>\n      <td>(A173) skilled employee / official</td>\n      <td>1</td>\n      <td>(A192) yes, registered under the customers name</td>\n      <td>(A201) yes</td>\n      <td>2</td>\n    </tr>\n    <tr>\n      <th>999</th>\n      <td>(A12) 0 &lt;= ... &lt; 200 DM</td>\n      <td>45</td>\n      <td>(A34) critical account/</td>\n      <td>(A41) car (used)</td>\n      <td>4576</td>\n      <td>(A62) 100 &lt;= ... &lt; 500 DM</td>\n      <td>(A71) unemployed</td>\n      <td>3</td>\n      <td>(A93) male : single</td>\n      <td>(A101) none</td>\n      <td>...</td>\n      <td>(A123) if not A121/A122 : car or other, not in...</td>\n      <td>27</td>\n      <td>(A143) none</td>\n      <td>(A152) own</td>\n      <td>1</td>\n      <td>(A173) skilled employee / official</td>\n      <td>1</td>\n      <td>(A191) none</td>\n      <td>(A201) yes</td>\n      <td>1</td>\n    </tr>\n  </tbody>\n</table>\n<p>1000 rows × 21 columns</p>\n</div>"
     },
     "execution_count": 22,
     "metadata": {},
     "output_type": "execute_result"
    }
   ],
   "source": [
    "df"
   ],
   "metadata": {
    "collapsed": false
   }
  },
  {
   "cell_type": "code",
   "execution_count": 59,
   "outputs": [
    {
     "data": {
      "text/plain": "1.0"
     },
     "execution_count": 59,
     "metadata": {},
     "output_type": "execute_result"
    }
   ],
   "source": [
    "from scipy.stats import chi2_contingency\n",
    "con_table = pd.crosstab(df.Credit_Rating, [df.Foreign], normalize=\"all\");\n",
    "c, p, dof, expected = chi2_contingency(con_table)\n",
    "p"
   ],
   "metadata": {
    "collapsed": false
   }
  },
  {
   "cell_type": "code",
   "execution_count": 56,
   "outputs": [
    {
     "data": {
      "text/plain": "1.0"
     },
     "execution_count": 56,
     "metadata": {},
     "output_type": "execute_result"
    }
   ],
   "source": [
    "con_table = pd.crosstab(df.Credit_Rating, [df.Telephone], normalize=\"all\");\n",
    "c, p, dof, expected = chi2_contingency(con_table)\n",
    "p"
   ],
   "metadata": {
    "collapsed": false
   }
  },
  {
   "cell_type": "code",
   "execution_count": null,
   "outputs": [],
   "source": [],
   "metadata": {
    "collapsed": false
   }
  }
 ],
 "metadata": {
  "kernelspec": {
   "display_name": "Python 3",
   "language": "python",
   "name": "python3"
  },
  "language_info": {
   "codemirror_mode": {
    "name": "ipython",
    "version": 2
   },
   "file_extension": ".py",
   "mimetype": "text/x-python",
   "name": "python",
   "nbconvert_exporter": "python",
   "pygments_lexer": "ipython2",
   "version": "2.7.6"
  }
 },
 "nbformat": 4,
 "nbformat_minor": 0
}
