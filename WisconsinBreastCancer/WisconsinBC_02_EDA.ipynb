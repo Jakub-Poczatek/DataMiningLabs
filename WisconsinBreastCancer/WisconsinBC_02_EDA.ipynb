{
 "cells": [
  {
   "cell_type": "code",
   "execution_count": 1,
   "metadata": {
    "collapsed": true
   },
   "outputs": [
    {
     "name": "stderr",
     "output_type": "stream",
     "text": [
      "C:\\Users\\ichig\\AppData\\Local\\Temp\\ipykernel_29172\\1160185410.py:9: MatplotlibDeprecationWarning: The seaborn styles shipped by Matplotlib are deprecated since 3.6, as they no longer correspond to the styles shipped by seaborn. However, they will remain available as 'seaborn-v0_8-<style>'. Alternatively, directly use the seaborn API instead.\n",
      "  plt.style.use(\"seaborn-darkgrid\")\n"
     ]
    }
   ],
   "source": [
    "import numpy as np\n",
    "import pandas as pd\n",
    "import matplotlib.pyplot as plt\n",
    "import seaborn as sns\n",
    "from scipy import stats\n",
    "import yaml, time, sys, os\n",
    "\n",
    "from IPython.display import display, Markdown\n",
    "plt.style.use(\"seaborn-darkgrid\")\n",
    "pd.set_option('display.max_columns', None)\n",
    "sns.set_style(\"darkgrid\")\n",
    "\n",
    "DATASET = \"BC_Wisconsin\"\n",
    "\n",
    "COLAB = 'google.colab' in sys.modules\n",
    "if COLAB:\n",
    "    ROOT = f\"/content/gdrive/MyDrive/datasets/{DATASET.replace(' ','_')}/\"\n",
    "else:\n",
    "    ROOT = \"./\"\n",
    "\n",
    "DEBUG = True"
   ]
  },
  {
   "cell_type": "code",
   "execution_count": 2,
   "outputs": [],
   "source": [
    "if COLAB:\n",
    "    from google.colab import drive\n",
    "    if not os.path.isdir(\"/content/gdrive\"):\n",
    "        drive.mount(\"/content/gdrive\")\n",
    "        d = \"/content/gdrive/MyDrive/datasets\"\n",
    "        if not os.path.isdir(d): os.makedirs(d)\n",
    "    if not os.path.isdir(ROOT): os.makedirs(ROOT)\n",
    "\n",
    "def makedirs(d):\n",
    "    if COLAB:\n",
    "        if not os.path.isdir(ROOT+d): os.makedirs(ROOT+d)\n",
    "    else:\n",
    "        if not os.path.isdir(ROOT+d): os.makedirs(ROOT+d, mode=0o777, exist_ok=True)\n",
    "\n",
    "for d in ['orig','data','output']: makedirs(d)"
   ],
   "metadata": {
    "collapsed": false
   }
  },
  {
   "cell_type": "markdown",
   "source": [
    "## Load Data Set ##"
   ],
   "metadata": {
    "collapsed": false
   }
  },
  {
   "cell_type": "code",
   "execution_count": 3,
   "outputs": [
    {
     "name": "stdout",
     "output_type": "stream",
     "text": [
      "Using local copy of wdbc.data\n",
      "Using local copy of wdbc.names\n"
     ]
    }
   ],
   "source": [
    "UCI = \"https://archive.ics.uci.edu/ml/machine-learning-databases/breast-cancer-wisconsin/\"\n",
    "\n",
    "for filename in [\"wdbc.data\", \"wdbc.names\"]:\n",
    "    source = f\"{UCI}/{filename}\"\n",
    "    target = f\"{ROOT}/orig/{filename}\"\n",
    "    if not os.path.isfile(target):\n",
    "        print (f\"Downloading remote file {filename}\", sep=\"\")\n",
    "        import urllib.request\n",
    "        urllib.request.urlretrieve(source, target)\n",
    "    else:\n",
    "        print(f\"Using local copy of {filename}\")"
   ],
   "metadata": {
    "collapsed": false
   }
  },
  {
   "cell_type": "code",
   "execution_count": 4,
   "outputs": [
    {
     "name": "stdout",
     "output_type": "stream",
     "text": [
      "Load from folder data/ ...\n",
      "(569, 31)\n"
     ]
    },
    {
     "data": {
      "text/plain": "   diagnosis  radius_mean  texture_mean  perimeter_mean  area_mean  \\\n0          0        17.99         10.38          122.80     1001.0   \n1          0        20.57         17.77          132.90     1326.0   \n2          0        19.69         21.25          130.00     1203.0   \n3          0        11.42         20.38           77.58      386.1   \n4          0        20.29         14.34          135.10     1297.0   \n5          0        12.45         15.70           82.57      477.1   \n6          0        18.25         19.98          119.60     1040.0   \n7          0        13.71         20.83           90.20      577.9   \n8          0        13.00         21.82           87.50      519.8   \n9          0        12.46         24.04           83.97      475.9   \n\n   smoothness_mean  compactness_mean  concavity_mean  concave_points_mean  \\\n0          0.11840           0.27760         0.30010              0.14710   \n1          0.08474           0.07864         0.08690              0.07017   \n2          0.10960           0.15990         0.19740              0.12790   \n3          0.14250           0.28390         0.24140              0.10520   \n4          0.10030           0.13280         0.19800              0.10430   \n5          0.12780           0.17000         0.15780              0.08089   \n6          0.09463           0.10900         0.11270              0.07400   \n7          0.11890           0.16450         0.09366              0.05985   \n8          0.12730           0.19320         0.18590              0.09353   \n9          0.11860           0.23960         0.22730              0.08543   \n\n   symmetry_mean  fractal_dimension_mean  radius_se  texture_se  perimeter_se  \\\n0         0.2419                 0.07871     1.0950      0.9053         8.589   \n1         0.1812                 0.05667     0.5435      0.7339         3.398   \n2         0.2069                 0.05999     0.7456      0.7869         4.585   \n3         0.2597                 0.09744     0.4956      1.1560         3.445   \n4         0.1809                 0.05883     0.7572      0.7813         5.438   \n5         0.2087                 0.07613     0.3345      0.8902         2.217   \n6         0.1794                 0.05742     0.4467      0.7732         3.180   \n7         0.2196                 0.07451     0.5835      1.3770         3.856   \n8         0.2350                 0.07389     0.3063      1.0020         2.406   \n9         0.2030                 0.08243     0.2976      1.5990         2.039   \n\n   area_se  smoothness_se  compactness_se  concavity_se  concave_points_se  \\\n0   153.40       0.006399         0.04904       0.05373            0.01587   \n1    74.08       0.005225         0.01308       0.01860            0.01340   \n2    94.03       0.006150         0.04006       0.03832            0.02058   \n3    27.23       0.009110         0.07458       0.05661            0.01867   \n4    94.44       0.011490         0.02461       0.05688            0.01885   \n5    27.19       0.007510         0.03345       0.03672            0.01137   \n6    53.91       0.004314         0.01382       0.02254            0.01039   \n7    50.96       0.008805         0.03029       0.02488            0.01448   \n8    24.32       0.005731         0.03502       0.03553            0.01226   \n9    23.94       0.007149         0.07217       0.07743            0.01432   \n\n   symmetry_se  fractal_dimension_se  radius_worst  texture_worst  \\\n0      0.03003              0.006193         25.38          17.33   \n1      0.01389              0.003532         24.99          23.41   \n2      0.02250              0.004571         23.57          25.53   \n3      0.05963              0.009208         14.91          26.50   \n4      0.01756              0.005115         22.54          16.67   \n5      0.02165              0.005082         15.47          23.75   \n6      0.01369              0.002179         22.88          27.66   \n7      0.01486              0.005412         17.06          28.14   \n8      0.02143              0.003749         15.49          30.73   \n9      0.01789              0.010080         15.09          40.68   \n\n   perimeter_worst  area_worst  smoothness_worst  compactness_worst  \\\n0           184.60      2019.0            0.1622             0.6656   \n1           158.80      1956.0            0.1238             0.1866   \n2           152.50      1709.0            0.1444             0.4245   \n3            98.87       567.7            0.2098             0.8663   \n4           152.20      1575.0            0.1374             0.2050   \n5           103.40       741.6            0.1791             0.5249   \n6           153.20      1606.0            0.1442             0.2576   \n7           110.60       897.0            0.1654             0.3682   \n8           106.20       739.3            0.1703             0.5401   \n9            97.65       711.4            0.1853             1.0580   \n\n   concavity_worst  concave_points_worst  symmetry_worst  \\\n0           0.7119                0.2654          0.4601   \n1           0.2416                0.1860          0.2750   \n2           0.4504                0.2430          0.3613   \n3           0.6869                0.2575          0.6638   \n4           0.4000                0.1625          0.2364   \n5           0.5355                0.1741          0.3985   \n6           0.3784                0.1932          0.3063   \n7           0.2678                0.1556          0.3196   \n8           0.5390                0.2060          0.4378   \n9           1.1050                0.2210          0.4366   \n\n   fractal_dimension_worst  \n0                  0.11890  \n1                  0.08902  \n2                  0.08758  \n3                  0.17300  \n4                  0.07678  \n5                  0.12440  \n6                  0.08368  \n7                  0.11510  \n8                  0.10720  \n9                  0.20750  ",
      "text/html": "<div>\n<style scoped>\n    .dataframe tbody tr th:only-of-type {\n        vertical-align: middle;\n    }\n\n    .dataframe tbody tr th {\n        vertical-align: top;\n    }\n\n    .dataframe thead th {\n        text-align: right;\n    }\n</style>\n<table border=\"1\" class=\"dataframe\">\n  <thead>\n    <tr style=\"text-align: right;\">\n      <th></th>\n      <th>diagnosis</th>\n      <th>radius_mean</th>\n      <th>texture_mean</th>\n      <th>perimeter_mean</th>\n      <th>area_mean</th>\n      <th>smoothness_mean</th>\n      <th>compactness_mean</th>\n      <th>concavity_mean</th>\n      <th>concave_points_mean</th>\n      <th>symmetry_mean</th>\n      <th>fractal_dimension_mean</th>\n      <th>radius_se</th>\n      <th>texture_se</th>\n      <th>perimeter_se</th>\n      <th>area_se</th>\n      <th>smoothness_se</th>\n      <th>compactness_se</th>\n      <th>concavity_se</th>\n      <th>concave_points_se</th>\n      <th>symmetry_se</th>\n      <th>fractal_dimension_se</th>\n      <th>radius_worst</th>\n      <th>texture_worst</th>\n      <th>perimeter_worst</th>\n      <th>area_worst</th>\n      <th>smoothness_worst</th>\n      <th>compactness_worst</th>\n      <th>concavity_worst</th>\n      <th>concave_points_worst</th>\n      <th>symmetry_worst</th>\n      <th>fractal_dimension_worst</th>\n    </tr>\n  </thead>\n  <tbody>\n    <tr>\n      <th>0</th>\n      <td>0</td>\n      <td>17.99</td>\n      <td>10.38</td>\n      <td>122.80</td>\n      <td>1001.0</td>\n      <td>0.11840</td>\n      <td>0.27760</td>\n      <td>0.30010</td>\n      <td>0.14710</td>\n      <td>0.2419</td>\n      <td>0.07871</td>\n      <td>1.0950</td>\n      <td>0.9053</td>\n      <td>8.589</td>\n      <td>153.40</td>\n      <td>0.006399</td>\n      <td>0.04904</td>\n      <td>0.05373</td>\n      <td>0.01587</td>\n      <td>0.03003</td>\n      <td>0.006193</td>\n      <td>25.38</td>\n      <td>17.33</td>\n      <td>184.60</td>\n      <td>2019.0</td>\n      <td>0.1622</td>\n      <td>0.6656</td>\n      <td>0.7119</td>\n      <td>0.2654</td>\n      <td>0.4601</td>\n      <td>0.11890</td>\n    </tr>\n    <tr>\n      <th>1</th>\n      <td>0</td>\n      <td>20.57</td>\n      <td>17.77</td>\n      <td>132.90</td>\n      <td>1326.0</td>\n      <td>0.08474</td>\n      <td>0.07864</td>\n      <td>0.08690</td>\n      <td>0.07017</td>\n      <td>0.1812</td>\n      <td>0.05667</td>\n      <td>0.5435</td>\n      <td>0.7339</td>\n      <td>3.398</td>\n      <td>74.08</td>\n      <td>0.005225</td>\n      <td>0.01308</td>\n      <td>0.01860</td>\n      <td>0.01340</td>\n      <td>0.01389</td>\n      <td>0.003532</td>\n      <td>24.99</td>\n      <td>23.41</td>\n      <td>158.80</td>\n      <td>1956.0</td>\n      <td>0.1238</td>\n      <td>0.1866</td>\n      <td>0.2416</td>\n      <td>0.1860</td>\n      <td>0.2750</td>\n      <td>0.08902</td>\n    </tr>\n    <tr>\n      <th>2</th>\n      <td>0</td>\n      <td>19.69</td>\n      <td>21.25</td>\n      <td>130.00</td>\n      <td>1203.0</td>\n      <td>0.10960</td>\n      <td>0.15990</td>\n      <td>0.19740</td>\n      <td>0.12790</td>\n      <td>0.2069</td>\n      <td>0.05999</td>\n      <td>0.7456</td>\n      <td>0.7869</td>\n      <td>4.585</td>\n      <td>94.03</td>\n      <td>0.006150</td>\n      <td>0.04006</td>\n      <td>0.03832</td>\n      <td>0.02058</td>\n      <td>0.02250</td>\n      <td>0.004571</td>\n      <td>23.57</td>\n      <td>25.53</td>\n      <td>152.50</td>\n      <td>1709.0</td>\n      <td>0.1444</td>\n      <td>0.4245</td>\n      <td>0.4504</td>\n      <td>0.2430</td>\n      <td>0.3613</td>\n      <td>0.08758</td>\n    </tr>\n    <tr>\n      <th>3</th>\n      <td>0</td>\n      <td>11.42</td>\n      <td>20.38</td>\n      <td>77.58</td>\n      <td>386.1</td>\n      <td>0.14250</td>\n      <td>0.28390</td>\n      <td>0.24140</td>\n      <td>0.10520</td>\n      <td>0.2597</td>\n      <td>0.09744</td>\n      <td>0.4956</td>\n      <td>1.1560</td>\n      <td>3.445</td>\n      <td>27.23</td>\n      <td>0.009110</td>\n      <td>0.07458</td>\n      <td>0.05661</td>\n      <td>0.01867</td>\n      <td>0.05963</td>\n      <td>0.009208</td>\n      <td>14.91</td>\n      <td>26.50</td>\n      <td>98.87</td>\n      <td>567.7</td>\n      <td>0.2098</td>\n      <td>0.8663</td>\n      <td>0.6869</td>\n      <td>0.2575</td>\n      <td>0.6638</td>\n      <td>0.17300</td>\n    </tr>\n    <tr>\n      <th>4</th>\n      <td>0</td>\n      <td>20.29</td>\n      <td>14.34</td>\n      <td>135.10</td>\n      <td>1297.0</td>\n      <td>0.10030</td>\n      <td>0.13280</td>\n      <td>0.19800</td>\n      <td>0.10430</td>\n      <td>0.1809</td>\n      <td>0.05883</td>\n      <td>0.7572</td>\n      <td>0.7813</td>\n      <td>5.438</td>\n      <td>94.44</td>\n      <td>0.011490</td>\n      <td>0.02461</td>\n      <td>0.05688</td>\n      <td>0.01885</td>\n      <td>0.01756</td>\n      <td>0.005115</td>\n      <td>22.54</td>\n      <td>16.67</td>\n      <td>152.20</td>\n      <td>1575.0</td>\n      <td>0.1374</td>\n      <td>0.2050</td>\n      <td>0.4000</td>\n      <td>0.1625</td>\n      <td>0.2364</td>\n      <td>0.07678</td>\n    </tr>\n    <tr>\n      <th>5</th>\n      <td>0</td>\n      <td>12.45</td>\n      <td>15.70</td>\n      <td>82.57</td>\n      <td>477.1</td>\n      <td>0.12780</td>\n      <td>0.17000</td>\n      <td>0.15780</td>\n      <td>0.08089</td>\n      <td>0.2087</td>\n      <td>0.07613</td>\n      <td>0.3345</td>\n      <td>0.8902</td>\n      <td>2.217</td>\n      <td>27.19</td>\n      <td>0.007510</td>\n      <td>0.03345</td>\n      <td>0.03672</td>\n      <td>0.01137</td>\n      <td>0.02165</td>\n      <td>0.005082</td>\n      <td>15.47</td>\n      <td>23.75</td>\n      <td>103.40</td>\n      <td>741.6</td>\n      <td>0.1791</td>\n      <td>0.5249</td>\n      <td>0.5355</td>\n      <td>0.1741</td>\n      <td>0.3985</td>\n      <td>0.12440</td>\n    </tr>\n    <tr>\n      <th>6</th>\n      <td>0</td>\n      <td>18.25</td>\n      <td>19.98</td>\n      <td>119.60</td>\n      <td>1040.0</td>\n      <td>0.09463</td>\n      <td>0.10900</td>\n      <td>0.11270</td>\n      <td>0.07400</td>\n      <td>0.1794</td>\n      <td>0.05742</td>\n      <td>0.4467</td>\n      <td>0.7732</td>\n      <td>3.180</td>\n      <td>53.91</td>\n      <td>0.004314</td>\n      <td>0.01382</td>\n      <td>0.02254</td>\n      <td>0.01039</td>\n      <td>0.01369</td>\n      <td>0.002179</td>\n      <td>22.88</td>\n      <td>27.66</td>\n      <td>153.20</td>\n      <td>1606.0</td>\n      <td>0.1442</td>\n      <td>0.2576</td>\n      <td>0.3784</td>\n      <td>0.1932</td>\n      <td>0.3063</td>\n      <td>0.08368</td>\n    </tr>\n    <tr>\n      <th>7</th>\n      <td>0</td>\n      <td>13.71</td>\n      <td>20.83</td>\n      <td>90.20</td>\n      <td>577.9</td>\n      <td>0.11890</td>\n      <td>0.16450</td>\n      <td>0.09366</td>\n      <td>0.05985</td>\n      <td>0.2196</td>\n      <td>0.07451</td>\n      <td>0.5835</td>\n      <td>1.3770</td>\n      <td>3.856</td>\n      <td>50.96</td>\n      <td>0.008805</td>\n      <td>0.03029</td>\n      <td>0.02488</td>\n      <td>0.01448</td>\n      <td>0.01486</td>\n      <td>0.005412</td>\n      <td>17.06</td>\n      <td>28.14</td>\n      <td>110.60</td>\n      <td>897.0</td>\n      <td>0.1654</td>\n      <td>0.3682</td>\n      <td>0.2678</td>\n      <td>0.1556</td>\n      <td>0.3196</td>\n      <td>0.11510</td>\n    </tr>\n    <tr>\n      <th>8</th>\n      <td>0</td>\n      <td>13.00</td>\n      <td>21.82</td>\n      <td>87.50</td>\n      <td>519.8</td>\n      <td>0.12730</td>\n      <td>0.19320</td>\n      <td>0.18590</td>\n      <td>0.09353</td>\n      <td>0.2350</td>\n      <td>0.07389</td>\n      <td>0.3063</td>\n      <td>1.0020</td>\n      <td>2.406</td>\n      <td>24.32</td>\n      <td>0.005731</td>\n      <td>0.03502</td>\n      <td>0.03553</td>\n      <td>0.01226</td>\n      <td>0.02143</td>\n      <td>0.003749</td>\n      <td>15.49</td>\n      <td>30.73</td>\n      <td>106.20</td>\n      <td>739.3</td>\n      <td>0.1703</td>\n      <td>0.5401</td>\n      <td>0.5390</td>\n      <td>0.2060</td>\n      <td>0.4378</td>\n      <td>0.10720</td>\n    </tr>\n    <tr>\n      <th>9</th>\n      <td>0</td>\n      <td>12.46</td>\n      <td>24.04</td>\n      <td>83.97</td>\n      <td>475.9</td>\n      <td>0.11860</td>\n      <td>0.23960</td>\n      <td>0.22730</td>\n      <td>0.08543</td>\n      <td>0.2030</td>\n      <td>0.08243</td>\n      <td>0.2976</td>\n      <td>1.5990</td>\n      <td>2.039</td>\n      <td>23.94</td>\n      <td>0.007149</td>\n      <td>0.07217</td>\n      <td>0.07743</td>\n      <td>0.01432</td>\n      <td>0.01789</td>\n      <td>0.010080</td>\n      <td>15.09</td>\n      <td>40.68</td>\n      <td>97.65</td>\n      <td>711.4</td>\n      <td>0.1853</td>\n      <td>1.0580</td>\n      <td>1.1050</td>\n      <td>0.2210</td>\n      <td>0.4366</td>\n      <td>0.20750</td>\n    </tr>\n  </tbody>\n</table>\n</div>"
     },
     "execution_count": 4,
     "metadata": {},
     "output_type": "execute_result"
    }
   ],
   "source": [
    "names = ['id_number', 'diagnosis', 'radius_mean',\n",
    "         'texture_mean', 'perimeter_mean', 'area_mean',\n",
    "         'smoothness_mean', 'compactness_mean', 'concavity_mean',\n",
    "         'concave_points_mean', 'symmetry_mean',\n",
    "         'fractal_dimension_mean', 'radius_se', 'texture_se',\n",
    "         'perimeter_se', 'area_se', 'smoothness_se',\n",
    "         'compactness_se', 'concavity_se', 'concave_points_se',\n",
    "         'symmetry_se', 'fractal_dimension_se',\n",
    "         'radius_worst', 'texture_worst', 'perimeter_worst',\n",
    "         'area_worst', 'smoothness_worst',\n",
    "         'compactness_worst', 'concavity_worst',\n",
    "         'concave_points_worst', 'symmetry_worst',\n",
    "         'fractal_dimension_worst']\n",
    "\n",
    "if not os.path.isfile(f\"{ROOT}/data/wdbc.data\"):\n",
    "    print(\"Reading original data ...\")\n",
    "    df = pd.read_csv(f\"{ROOT}/orig/wdbc.data\",header=None, names=names)\n",
    "\n",
    "    print(\"Encoding target ...\")\n",
    "    df.diagnosis = df.diagnosis.map( {\"M\":0, \"B\":1} )\n",
    "\n",
    "    print(\"Drop unique identifieer ...\")\n",
    "    df.drop(columns=[\"id_number\"], inplace=True)\n",
    "\n",
    "    print(\"Save to folder data/  ...\")\n",
    "    df.to_csv(f\"{ROOT}/data/wdbc.data\", index=False)\n",
    "\n",
    "print(\"Load from folder data/ ...\")\n",
    "df = pd.read_csv(f\"{ROOT}/data/wdbc.data\")\n",
    "\n",
    "print(df.shape)\n",
    "df.head(10)"
   ],
   "metadata": {
    "collapsed": false
   }
  },
  {
   "cell_type": "markdown",
   "source": [
    "## Preprocessing"
   ],
   "metadata": {
    "collapsed": false
   }
  },
  {
   "cell_type": "code",
   "execution_count": 5,
   "outputs": [
    {
     "data": {
      "text/plain": "((569, 30), (569,))"
     },
     "execution_count": 5,
     "metadata": {},
     "output_type": "execute_result"
    }
   ],
   "source": [
    "X = df.values[:,1:]\n",
    "y = df.diagnosis.values\n",
    "X.shape, y.shape"
   ],
   "metadata": {
    "collapsed": false
   }
  }
 ],
 "metadata": {
  "kernelspec": {
   "display_name": "Python 3",
   "language": "python",
   "name": "python3"
  },
  "language_info": {
   "codemirror_mode": {
    "name": "ipython",
    "version": 2
   },
   "file_extension": ".py",
   "mimetype": "text/x-python",
   "name": "python",
   "nbconvert_exporter": "python",
   "pygments_lexer": "ipython2",
   "version": "2.7.6"
  }
 },
 "nbformat": 4,
 "nbformat_minor": 0
}
