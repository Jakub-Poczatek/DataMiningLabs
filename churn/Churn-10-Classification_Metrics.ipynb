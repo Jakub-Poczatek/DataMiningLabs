{
 "cells": [
  {
   "cell_type": "markdown",
   "id": "a1f2b007-031c-4351-85a0-2fb978d8e84a",
   "metadata": {},
   "source": [
    "# Churn &mdash; Baseline Model"
   ]
  },
  {
   "cell_type": "markdown",
   "id": "478f1ecf-c953-4a50-9a6f-4270d552ff8a",
   "metadata": {},
   "source": [
    "## Setup"
   ]
  },
  {
   "cell_type": "code",
   "execution_count": 60,
   "id": "84de3c73-eefd-40a6-a335-1e1eef871fdf",
   "metadata": {},
   "outputs": [
    {
     "name": "stderr",
     "output_type": "stream",
     "text": [
      "C:\\Users\\ichig\\AppData\\Local\\Temp\\ipykernel_14868\\250077564.py:7: MatplotlibDeprecationWarning: The seaborn styles shipped by Matplotlib are deprecated since 3.6, as they no longer correspond to the styles shipped by seaborn. However, they will remain available as 'seaborn-v0_8-<style>'. Alternatively, directly use the seaborn API instead.\n",
      "  plt.style.use(\"seaborn-darkgrid\")\n"
     ]
    }
   ],
   "source": [
    "import pandas as pd\n",
    "import numpy as np\n",
    "import matplotlib.pyplot as plt\n",
    "import seaborn as sns\n",
    "\n",
    "from IPython.display import display, Markdown\n",
    "plt.style.use(\"seaborn-darkgrid\")\n",
    "pd.set_option('display.max_columns', None)  \n",
    "\n",
    "import sys, os, yaml\n",
    "\n",
    "DATASET = \"Churn\"\n",
    "\n",
    "COLAB = 'google.colab' in sys.modules\n",
    "if COLAB:\n",
    "    ROOT = f\"/content/gdrive/MyDrive/datasets/{DATASET.replace(' ','_')}/\"\n",
    "else:\n",
    "    ROOT = \"./\"\n",
    "\n",
    "DEBUG = False\n",
    "SEED = 666"
   ]
  },
  {
   "cell_type": "code",
   "execution_count": 61,
   "outputs": [],
   "source": [
    "if COLAB:\n",
    "    from google.colab import drive\n",
    "    if not os.path.isdir(\"/content/gdrive\"):\n",
    "        drive.mount(\"/content/gdrive\")"
   ],
   "metadata": {
    "collapsed": false
   }
  },
  {
   "cell_type": "markdown",
   "id": "ff70475b-c3e0-4bc1-8dcd-b5ea42f68cce",
   "metadata": {},
   "source": [
    "## Load Dataset"
   ]
  },
  {
   "cell_type": "code",
   "execution_count": 62,
   "id": "2ff00544-67d8-4fc5-8c9b-28d11cce4516",
   "metadata": {},
   "outputs": [
    {
     "name": "stdout",
     "output_type": "stream",
     "text": [
      "(7032, 20)\n"
     ]
    },
    {
     "data": {
      "text/plain": "   Gender SeniorCitizen Partner Dependents  Tenure PhoneService MultipleLines  \\\n0  Female            No     Yes         No       1           No            No   \n\n  InternetService OnlineSecurity OnlineBackup DeviceProtection TechSupport  \\\n0             DSL             No          Yes               No          No   \n\n  StreamingTV StreamingMovies        Contract PaperlessBilling  \\\n0          No              No  Month-to-month              Yes   \n\n      PaymentMethod  MonthlyCharges  TotalCharges Churn  \n0  Electronic check           29.85         29.85    No  ",
      "text/html": "<div>\n<style scoped>\n    .dataframe tbody tr th:only-of-type {\n        vertical-align: middle;\n    }\n\n    .dataframe tbody tr th {\n        vertical-align: top;\n    }\n\n    .dataframe thead th {\n        text-align: right;\n    }\n</style>\n<table border=\"1\" class=\"dataframe\">\n  <thead>\n    <tr style=\"text-align: right;\">\n      <th></th>\n      <th>Gender</th>\n      <th>SeniorCitizen</th>\n      <th>Partner</th>\n      <th>Dependents</th>\n      <th>Tenure</th>\n      <th>PhoneService</th>\n      <th>MultipleLines</th>\n      <th>InternetService</th>\n      <th>OnlineSecurity</th>\n      <th>OnlineBackup</th>\n      <th>DeviceProtection</th>\n      <th>TechSupport</th>\n      <th>StreamingTV</th>\n      <th>StreamingMovies</th>\n      <th>Contract</th>\n      <th>PaperlessBilling</th>\n      <th>PaymentMethod</th>\n      <th>MonthlyCharges</th>\n      <th>TotalCharges</th>\n      <th>Churn</th>\n    </tr>\n  </thead>\n  <tbody>\n    <tr>\n      <th>0</th>\n      <td>Female</td>\n      <td>No</td>\n      <td>Yes</td>\n      <td>No</td>\n      <td>1</td>\n      <td>No</td>\n      <td>No</td>\n      <td>DSL</td>\n      <td>No</td>\n      <td>Yes</td>\n      <td>No</td>\n      <td>No</td>\n      <td>No</td>\n      <td>No</td>\n      <td>Month-to-month</td>\n      <td>Yes</td>\n      <td>Electronic check</td>\n      <td>29.85</td>\n      <td>29.85</td>\n      <td>No</td>\n    </tr>\n  </tbody>\n</table>\n</div>"
     },
     "execution_count": 62,
     "metadata": {},
     "output_type": "execute_result"
    }
   ],
   "source": [
    "df = pd.read_pickle(f\"{ROOT}/data/data.pkl\")\n",
    "print(df.shape)\n",
    "df.head(1)"
   ]
  },
  {
   "cell_type": "code",
   "execution_count": 63,
   "id": "669dc128-997c-470b-8633-74267820dc3c",
   "metadata": {},
   "outputs": [
    {
     "name": "stdout",
     "output_type": "stream",
     "text": [
      "(4219, 20) (2813, 20)\n"
     ]
    }
   ],
   "source": [
    "from sklearn.model_selection import train_test_split\n",
    "df_train, df_test = train_test_split(df, train_size=0.60, random_state=SEED, stratify=df.Churn)\n",
    "print(df_train.shape, df_test.shape)"
   ]
  },
  {
   "cell_type": "code",
   "execution_count": 64,
   "id": "e70c8456-3b80-40e8-8528-733c11d2b714",
   "metadata": {},
   "outputs": [
    {
     "name": "stdout",
     "output_type": "stream",
     "text": [
      "<class 'pandas.core.frame.DataFrame'>\n",
      "Int64Index: 7032 entries, 0 to 7042\n",
      "Data columns (total 20 columns):\n",
      " #   Column            Non-Null Count  Dtype   \n",
      "---  ------            --------------  -----   \n",
      " 0   Gender            7032 non-null   category\n",
      " 1   SeniorCitizen     7032 non-null   category\n",
      " 2   Partner           7032 non-null   category\n",
      " 3   Dependents        7032 non-null   category\n",
      " 4   Tenure            7032 non-null   int64   \n",
      " 5   PhoneService      7032 non-null   category\n",
      " 6   MultipleLines     7032 non-null   category\n",
      " 7   InternetService   7032 non-null   category\n",
      " 8   OnlineSecurity    7032 non-null   category\n",
      " 9   OnlineBackup      7032 non-null   category\n",
      " 10  DeviceProtection  7032 non-null   category\n",
      " 11  TechSupport       7032 non-null   category\n",
      " 12  StreamingTV       7032 non-null   category\n",
      " 13  StreamingMovies   7032 non-null   category\n",
      " 14  Contract          7032 non-null   category\n",
      " 15  PaperlessBilling  7032 non-null   category\n",
      " 16  PaymentMethod     7032 non-null   category\n",
      " 17  MonthlyCharges    7032 non-null   float64 \n",
      " 18  TotalCharges      7032 non-null   float64 \n",
      " 19  Churn             7032 non-null   category\n",
      "dtypes: category(17), float64(2), int64(1)\n",
      "memory usage: 336.8 KB\n"
     ]
    }
   ],
   "source": [
    "df.info()"
   ]
  },
  {
   "cell_type": "markdown",
   "source": [
    "## Preprocessing Dataset"
   ],
   "metadata": {
    "collapsed": false
   }
  },
  {
   "cell_type": "markdown",
   "source": [
    "### Identify target and features ###"
   ],
   "metadata": {
    "collapsed": false
   }
  },
  {
   "cell_type": "code",
   "execution_count": 65,
   "outputs": [
    {
     "name": "stdout",
     "output_type": "stream",
     "text": [
      "target : Churn\n",
      "Categorical Features (16) : ['Gender', 'SeniorCitizen', 'Partner', 'Dependents', 'PhoneService', 'MultipleLines', 'InternetService', 'OnlineSecurity', 'OnlineBackup', 'DeviceProtection', 'TechSupport', 'StreamingTV', 'StreamingMovies', 'Contract', 'PaperlessBilling', 'PaymentMethod']\n",
      "Numerical Features (3) : ['Tenure', 'MonthlyCharges', 'TotalCharges']\n"
     ]
    }
   ],
   "source": [
    "target = \"Churn\"\n",
    "print(f\"target : {target}\")\n",
    "\n",
    "cat_features = [c for c in df.select_dtypes(\"category\").columns if c != target]\n",
    "print(f\"Categorical Features ({len(cat_features)}) : {cat_features}\")\n",
    "\n",
    "num_features = [c for c in df.select_dtypes([\"int\", \"float\"]).columns if c != target]\n",
    "print(f\"Numerical Features ({len(num_features)}) : {num_features}\")"
   ],
   "metadata": {
    "collapsed": false
   }
  },
  {
   "cell_type": "markdown",
   "source": [
    "### Train/test split ###"
   ],
   "metadata": {
    "collapsed": false
   }
  },
  {
   "cell_type": "code",
   "execution_count": 66,
   "outputs": [
    {
     "name": "stdout",
     "output_type": "stream",
     "text": [
      "(4219, 20) (2813, 20)\n"
     ]
    }
   ],
   "source": [
    "from sklearn.model_selection import train_test_split\n",
    "\n",
    "df_train, df_test = train_test_split(df, test_size=0.40, stratify=df[target], random_state=SEED)\n",
    "print(df_train.shape, df_test.shape)"
   ],
   "metadata": {
    "collapsed": false
   }
  },
  {
   "cell_type": "markdown",
   "source": [
    "### Encode target ###"
   ],
   "metadata": {
    "collapsed": false
   }
  },
  {
   "cell_type": "code",
   "execution_count": 67,
   "outputs": [],
   "source": [
    "from sklearn.preprocessing import LabelEncoder\n",
    "labelEncoder = LabelEncoder()\n",
    "labelEncoder.fit(df_train[target])\n",
    "y_train = labelEncoder.transform(df_train[target])\n",
    "y_test = labelEncoder.transform(df_test[target])"
   ],
   "metadata": {
    "collapsed": false
   }
  },
  {
   "cell_type": "code",
   "execution_count": 68,
   "outputs": [
    {
     "data": {
      "text/plain": "193      No\n6108     No\n3580    Yes\n2195     No\n3809     No\nName: Churn, dtype: category\nCategories (2, object): ['No', 'Yes']"
     },
     "execution_count": 68,
     "metadata": {},
     "output_type": "execute_result"
    }
   ],
   "source": [
    "df_train[target].head()"
   ],
   "metadata": {
    "collapsed": false
   }
  },
  {
   "cell_type": "code",
   "execution_count": 69,
   "outputs": [
    {
     "data": {
      "text/plain": "array([0, 0, 1, 0, 0])"
     },
     "execution_count": 69,
     "metadata": {},
     "output_type": "execute_result"
    }
   ],
   "source": [
    "y_train[:5]"
   ],
   "metadata": {
    "collapsed": false
   }
  },
  {
   "cell_type": "code",
   "execution_count": 70,
   "outputs": [
    {
     "data": {
      "text/plain": "array(['No', 'No', 'Yes', 'No', 'No'], dtype=object)"
     },
     "execution_count": 70,
     "metadata": {},
     "output_type": "execute_result"
    }
   ],
   "source": [
    "labelEncoder.inverse_transform(y_train[:5])"
   ],
   "metadata": {
    "collapsed": false
   }
  },
  {
   "cell_type": "markdown",
   "source": [
    "### Encode categorical features ###"
   ],
   "metadata": {
    "collapsed": false
   }
  },
  {
   "cell_type": "code",
   "execution_count": 71,
   "outputs": [],
   "source": [
    "from sklearn.preprocessing import OneHotEncoder\n",
    "\n",
    "oneHotEncoder = OneHotEncoder()\n",
    "oneHotEncoder.fit(df_train[cat_features])\n",
    "x_cat_train = oneHotEncoder.transform(df_train[cat_features])\n",
    "x_cat_test = oneHotEncoder.transform(df_test[cat_features])"
   ],
   "metadata": {
    "collapsed": false
   }
  },
  {
   "cell_type": "code",
   "execution_count": 72,
   "outputs": [
    {
     "name": "stdout",
     "output_type": "stream",
     "text": [
      "(4219, 36) (2813, 36)\n"
     ]
    },
    {
     "data": {
      "text/plain": "   Gender_Female  Gender_Male  SeniorCitizen_No  SeniorCitizen_Yes  \\\n0            1.0          0.0               1.0                0.0   \n\n   Partner_No  Partner_Yes  Dependents_No  Dependents_Yes  PhoneService_No  \\\n0         0.0          1.0            0.0             1.0              0.0   \n\n   PhoneService_Yes  MultipleLines_No  MultipleLines_Yes  InternetService_DSL  \\\n0               1.0               0.0                1.0                  0.0   \n\n   InternetService_Fiber optic  InternetService_No  OnlineSecurity_No  \\\n0                          1.0                 0.0                0.0   \n\n   OnlineSecurity_Yes  OnlineBackup_No  OnlineBackup_Yes  DeviceProtection_No  \\\n0                 1.0              0.0               1.0                  0.0   \n\n   DeviceProtection_Yes  TechSupport_No  TechSupport_Yes  StreamingTV_No  \\\n0                   1.0             1.0              0.0             0.0   \n\n   StreamingTV_Yes  StreamingMovies_No  StreamingMovies_Yes  \\\n0              1.0                 0.0                  1.0   \n\n   Contract_Month-to-month  Contract_One year  Contract_Two year  \\\n0                      0.0                0.0                1.0   \n\n   PaperlessBilling_No  PaperlessBilling_Yes  \\\n0                  1.0                   0.0   \n\n   PaymentMethod_Bank transfer (automatic)  \\\n0                                      0.0   \n\n   PaymentMethod_Credit card (automatic)  PaymentMethod_Electronic check  \\\n0                                    1.0                             0.0   \n\n   PaymentMethod_Mailed check  \n0                         0.0  ",
      "text/html": "<div>\n<style scoped>\n    .dataframe tbody tr th:only-of-type {\n        vertical-align: middle;\n    }\n\n    .dataframe tbody tr th {\n        vertical-align: top;\n    }\n\n    .dataframe thead th {\n        text-align: right;\n    }\n</style>\n<table border=\"1\" class=\"dataframe\">\n  <thead>\n    <tr style=\"text-align: right;\">\n      <th></th>\n      <th>Gender_Female</th>\n      <th>Gender_Male</th>\n      <th>SeniorCitizen_No</th>\n      <th>SeniorCitizen_Yes</th>\n      <th>Partner_No</th>\n      <th>Partner_Yes</th>\n      <th>Dependents_No</th>\n      <th>Dependents_Yes</th>\n      <th>PhoneService_No</th>\n      <th>PhoneService_Yes</th>\n      <th>MultipleLines_No</th>\n      <th>MultipleLines_Yes</th>\n      <th>InternetService_DSL</th>\n      <th>InternetService_Fiber optic</th>\n      <th>InternetService_No</th>\n      <th>OnlineSecurity_No</th>\n      <th>OnlineSecurity_Yes</th>\n      <th>OnlineBackup_No</th>\n      <th>OnlineBackup_Yes</th>\n      <th>DeviceProtection_No</th>\n      <th>DeviceProtection_Yes</th>\n      <th>TechSupport_No</th>\n      <th>TechSupport_Yes</th>\n      <th>StreamingTV_No</th>\n      <th>StreamingTV_Yes</th>\n      <th>StreamingMovies_No</th>\n      <th>StreamingMovies_Yes</th>\n      <th>Contract_Month-to-month</th>\n      <th>Contract_One year</th>\n      <th>Contract_Two year</th>\n      <th>PaperlessBilling_No</th>\n      <th>PaperlessBilling_Yes</th>\n      <th>PaymentMethod_Bank transfer (automatic)</th>\n      <th>PaymentMethod_Credit card (automatic)</th>\n      <th>PaymentMethod_Electronic check</th>\n      <th>PaymentMethod_Mailed check</th>\n    </tr>\n  </thead>\n  <tbody>\n    <tr>\n      <th>0</th>\n      <td>1.0</td>\n      <td>0.0</td>\n      <td>1.0</td>\n      <td>0.0</td>\n      <td>0.0</td>\n      <td>1.0</td>\n      <td>0.0</td>\n      <td>1.0</td>\n      <td>0.0</td>\n      <td>1.0</td>\n      <td>0.0</td>\n      <td>1.0</td>\n      <td>0.0</td>\n      <td>1.0</td>\n      <td>0.0</td>\n      <td>0.0</td>\n      <td>1.0</td>\n      <td>0.0</td>\n      <td>1.0</td>\n      <td>0.0</td>\n      <td>1.0</td>\n      <td>1.0</td>\n      <td>0.0</td>\n      <td>0.0</td>\n      <td>1.0</td>\n      <td>0.0</td>\n      <td>1.0</td>\n      <td>0.0</td>\n      <td>0.0</td>\n      <td>1.0</td>\n      <td>1.0</td>\n      <td>0.0</td>\n      <td>0.0</td>\n      <td>1.0</td>\n      <td>0.0</td>\n      <td>0.0</td>\n    </tr>\n  </tbody>\n</table>\n</div>"
     },
     "execution_count": 72,
     "metadata": {},
     "output_type": "execute_result"
    }
   ],
   "source": [
    "df_cat_train = pd.DataFrame(x_cat_train.toarray(), columns=oneHotEncoder.get_feature_names_out())\n",
    "df_cat_test = pd.DataFrame(x_cat_test.toarray(), columns=oneHotEncoder.get_feature_names_out())\n",
    "print(df_cat_train.shape, df_cat_test.shape)\n",
    "df_cat_train.head(1)"
   ],
   "metadata": {
    "collapsed": false
   }
  },
  {
   "cell_type": "markdown",
   "source": [
    "### Scale / transform numerical features"
   ],
   "metadata": {
    "collapsed": false
   }
  },
  {
   "cell_type": "code",
   "execution_count": 73,
   "outputs": [],
   "source": [
    "from sklearn.preprocessing import StandardScaler\n",
    "\n",
    "standardScaler = StandardScaler()\n",
    "\n",
    "standardScaler.fit(df_train[num_features])\n",
    "x_num_train = standardScaler.transform(df_train[num_features])\n",
    "x_num_test = standardScaler.transform(df_test[num_features])"
   ],
   "metadata": {
    "collapsed": false
   }
  },
  {
   "cell_type": "code",
   "execution_count": 74,
   "outputs": [
    {
     "name": "stdout",
     "output_type": "stream",
     "text": [
      "(4219, 3) (2813, 3)\n"
     ]
    },
    {
     "data": {
      "text/plain": "     Tenure  MonthlyCharges  TotalCharges\n0  1.597275        1.487874      2.557942",
      "text/html": "<div>\n<style scoped>\n    .dataframe tbody tr th:only-of-type {\n        vertical-align: middle;\n    }\n\n    .dataframe tbody tr th {\n        vertical-align: top;\n    }\n\n    .dataframe thead th {\n        text-align: right;\n    }\n</style>\n<table border=\"1\" class=\"dataframe\">\n  <thead>\n    <tr style=\"text-align: right;\">\n      <th></th>\n      <th>Tenure</th>\n      <th>MonthlyCharges</th>\n      <th>TotalCharges</th>\n    </tr>\n  </thead>\n  <tbody>\n    <tr>\n      <th>0</th>\n      <td>1.597275</td>\n      <td>1.487874</td>\n      <td>2.557942</td>\n    </tr>\n  </tbody>\n</table>\n</div>"
     },
     "execution_count": 74,
     "metadata": {},
     "output_type": "execute_result"
    }
   ],
   "source": [
    "df_num_train = pd.DataFrame(x_num_train, columns=standardScaler.get_feature_names_out())\n",
    "df_num_test = pd.DataFrame(x_num_test, columns=standardScaler.get_feature_names_out())\n",
    "print(df_num_train.shape, df_num_test.shape)\n",
    "df_num_train.head(1)"
   ],
   "metadata": {
    "collapsed": false
   }
  },
  {
   "cell_type": "markdown",
   "source": [
    "### Construct dataframe for model features ###"
   ],
   "metadata": {
    "collapsed": false
   }
  },
  {
   "cell_type": "code",
   "execution_count": 75,
   "outputs": [
    {
     "name": "stdout",
     "output_type": "stream",
     "text": [
      "(4219, 39) (2813, 39)\n"
     ]
    }
   ],
   "source": [
    "df_model_train = pd.concat([df_cat_train, df_num_train], axis=1)\n",
    "df_model_test = pd.concat([df_cat_test, df_num_test], axis=1)\n",
    "print(df_model_train.shape, df_model_test.shape)"
   ],
   "metadata": {
    "collapsed": false
   }
  },
  {
   "cell_type": "markdown",
   "source": [
    "## Model selection ##"
   ],
   "metadata": {
    "collapsed": false
   }
  },
  {
   "cell_type": "code",
   "execution_count": 76,
   "outputs": [],
   "source": [
    "from sklearn.neighbors import KNeighborsClassifier\n",
    "from sklearn.tree import DecisionTreeClassifier\n",
    "from sklearn.linear_model import LogisticRegression\n",
    "from sklearn.ensemble import RandomForestClassifier, AdaBoostClassifier\n",
    "\n",
    "classifiers = {\n",
    "    \"KNN\" : KNeighborsClassifier(),\n",
    "    \"KNN (3)\" : KNeighborsClassifier(3),\n",
    "    \"DT\" : DecisionTreeClassifier(),\n",
    "    \"DT (max_depth=5\" : DecisionTreeClassifier(max_depth=5),\n",
    "    \"LR\" : LogisticRegression(max_iter=1000),\n",
    "    \"RF\" : RandomForestClassifier(),\n",
    "    \"AdaBoost\" : AdaBoostClassifier()\n",
    "}"
   ],
   "metadata": {
    "collapsed": false
   }
  },
  {
   "cell_type": "code",
   "execution_count": 77,
   "outputs": [
    {
     "name": "stdout",
     "output_type": "stream",
     "text": [
      "KNN                  accuracy: train = 84.14% test = 75.72%\n",
      "KNN (3)              accuracy: train = 87.08% test = 74.76%\n",
      "DT                   accuracy: train = 99.79% test = 71.99%\n",
      "DT (max_depth=5      accuracy: train = 80.28% test = 78.74%\n",
      "LR                   accuracy: train = 80.47% test = 80.38%\n",
      "RF                   accuracy: train = 99.76% test = 78.78%\n",
      "AdaBoost             accuracy: train = 80.80% test = 79.88%\n"
     ]
    }
   ],
   "source": [
    "from sklearn.metrics import accuracy_score\n",
    "for name, model in classifiers.items():\n",
    "    model.fit(df_model_train, y_train)\n",
    "\n",
    "    # Scoring on SEEN data - effectively \"useless\"\n",
    "    y_pred = model.predict(df_model_train)\n",
    "    train_accuracy = accuracy_score(y_train, y_pred)\n",
    "\n",
    "    # Scoring on UNSEEN data - important\n",
    "    y_pred = model.predict(df_model_test)\n",
    "    test_accuracy = accuracy_score(y_test, y_pred)\n",
    "    print(f\"{name:20s} accuracy: train = {train_accuracy:.2%} test = {test_accuracy:.2%}\")"
   ],
   "metadata": {
    "collapsed": false
   }
  },
  {
   "cell_type": "code",
   "execution_count": 78,
   "outputs": [
    {
     "name": "stdout",
     "output_type": "stream",
     "text": [
      "KNN                  accuracy CV = 76.61% std = 1.64%\n",
      "KNN (3)              accuracy CV = 74.99% std = 1.96%\n",
      "DT                   accuracy CV = 71.75% std = 2.00%\n",
      "DT (max_depth=5      accuracy CV = 78.38% std = 1.22%\n",
      "LR                   accuracy CV = 80.21% std = 1.58%\n",
      "RF                   accuracy CV = 78.55% std = 1.30%\n",
      "AdaBoost             accuracy CV = 79.85% std = 1.60%\n"
     ]
    }
   ],
   "source": [
    "from sklearn.model_selection import cross_val_score\n",
    "for name, model in classifiers.items():\n",
    "\n",
    "    scores = cross_val_score(model, df_model_train, y_train, cv=10)\n",
    "\n",
    "    print(f\"{name:20s} accuracy CV = {scores.mean():.2%} std = {scores.std():.2%}\")"
   ],
   "metadata": {
    "collapsed": false
   }
  },
  {
   "cell_type": "code",
   "execution_count": 79,
   "outputs": [],
   "source": [
    "from sklearn.metrics import precision_score, recall_score, f1_score, roc_auc_score\n",
    "metrics = {\n",
    "    \"accuracy\": accuracy_score,\n",
    "    \"precision\": precision_score,\n",
    "    \"recall\": recall_score,\n",
    "    \"f1\": f1_score,\n",
    "    \"roc_auc\": roc_auc_score\n",
    "}"
   ],
   "metadata": {
    "collapsed": false
   }
  },
  {
   "cell_type": "code",
   "execution_count": 80,
   "outputs": [],
   "source": [
    "data = []\n",
    "for name, model in classifiers.items():\n",
    "    row = {\"model\": name }\n",
    "    model.fit(df_model_train, y_train)\n",
    "    for key, metric in metrics.items():\n",
    "\n",
    "        # Scoring on SEEN data - effectively \"useless\"\n",
    "        y_pred = model.predict(df_model_train)\n",
    "        #train_accuracy = metric(y_train, y_pred)\n",
    "        row[\"train_\" + key] = metric(y_train, y_pred)\n",
    "\n",
    "        # Scoring on UNSEEN data - important\n",
    "        y_pred = model.predict(df_model_test)\n",
    "        #test_accuracy = metric(y_test, y_pred)\n",
    "        row[\"test_\" + key] = metric(y_test, y_pred)\n",
    "        #print(f\"{name} : {key:20s} train = {train_accuracy:.2%} test = {test_accuracy:.2%}\")\n",
    "    data.append(row)\n",
    "df_results = pd.DataFrame(data)"
   ],
   "metadata": {
    "collapsed": false
   }
  },
  {
   "cell_type": "code",
   "execution_count": 81,
   "outputs": [
    {
     "data": {
      "text/plain": "             model  train_accuracy  test_accuracy  train_precision  \\\n0              KNN        0.841432       0.757199         0.720273   \n1          KNN (3)        0.870822       0.747600         0.779612   \n2               DT        0.997867       0.718095         0.999102   \n3  DT (max_depth=5        0.802797       0.787416         0.622561   \n4               LR        0.804693       0.803768         0.660888   \n5               RF        0.997867       0.786349         0.995544   \n6         AdaBoost        0.808011       0.798791         0.672204   \n\n   test_precision  train_recall  test_recall  train_f1   test_f1  \\\n0        0.543276      0.659233     0.545455  0.688402  0.544363   \n1        0.525333      0.716325     0.526738  0.746629  0.526035   \n2        0.471627      0.992864     0.500000  0.995973  0.485399   \n3        0.589286      0.654773     0.661765  0.638261  0.623426   \n4        0.649847      0.544157     0.568182  0.596869  0.606277   \n5        0.625641      0.996432     0.489305  0.995988  0.549137   \n6        0.646302      0.541481     0.537433  0.599802  0.586861   \n\n   train_roc_auc  test_roc_auc  \n0       0.783296      0.689676  \n1       0.821526      0.677170  \n2       0.996270      0.648547  \n3       0.755566      0.747347  \n4       0.721562      0.728643  \n5       0.997409      0.691626  \n6       0.722968      0.715448  ",
      "text/html": "<div>\n<style scoped>\n    .dataframe tbody tr th:only-of-type {\n        vertical-align: middle;\n    }\n\n    .dataframe tbody tr th {\n        vertical-align: top;\n    }\n\n    .dataframe thead th {\n        text-align: right;\n    }\n</style>\n<table border=\"1\" class=\"dataframe\">\n  <thead>\n    <tr style=\"text-align: right;\">\n      <th></th>\n      <th>model</th>\n      <th>train_accuracy</th>\n      <th>test_accuracy</th>\n      <th>train_precision</th>\n      <th>test_precision</th>\n      <th>train_recall</th>\n      <th>test_recall</th>\n      <th>train_f1</th>\n      <th>test_f1</th>\n      <th>train_roc_auc</th>\n      <th>test_roc_auc</th>\n    </tr>\n  </thead>\n  <tbody>\n    <tr>\n      <th>0</th>\n      <td>KNN</td>\n      <td>0.841432</td>\n      <td>0.757199</td>\n      <td>0.720273</td>\n      <td>0.543276</td>\n      <td>0.659233</td>\n      <td>0.545455</td>\n      <td>0.688402</td>\n      <td>0.544363</td>\n      <td>0.783296</td>\n      <td>0.689676</td>\n    </tr>\n    <tr>\n      <th>1</th>\n      <td>KNN (3)</td>\n      <td>0.870822</td>\n      <td>0.747600</td>\n      <td>0.779612</td>\n      <td>0.525333</td>\n      <td>0.716325</td>\n      <td>0.526738</td>\n      <td>0.746629</td>\n      <td>0.526035</td>\n      <td>0.821526</td>\n      <td>0.677170</td>\n    </tr>\n    <tr>\n      <th>2</th>\n      <td>DT</td>\n      <td>0.997867</td>\n      <td>0.718095</td>\n      <td>0.999102</td>\n      <td>0.471627</td>\n      <td>0.992864</td>\n      <td>0.500000</td>\n      <td>0.995973</td>\n      <td>0.485399</td>\n      <td>0.996270</td>\n      <td>0.648547</td>\n    </tr>\n    <tr>\n      <th>3</th>\n      <td>DT (max_depth=5</td>\n      <td>0.802797</td>\n      <td>0.787416</td>\n      <td>0.622561</td>\n      <td>0.589286</td>\n      <td>0.654773</td>\n      <td>0.661765</td>\n      <td>0.638261</td>\n      <td>0.623426</td>\n      <td>0.755566</td>\n      <td>0.747347</td>\n    </tr>\n    <tr>\n      <th>4</th>\n      <td>LR</td>\n      <td>0.804693</td>\n      <td>0.803768</td>\n      <td>0.660888</td>\n      <td>0.649847</td>\n      <td>0.544157</td>\n      <td>0.568182</td>\n      <td>0.596869</td>\n      <td>0.606277</td>\n      <td>0.721562</td>\n      <td>0.728643</td>\n    </tr>\n    <tr>\n      <th>5</th>\n      <td>RF</td>\n      <td>0.997867</td>\n      <td>0.786349</td>\n      <td>0.995544</td>\n      <td>0.625641</td>\n      <td>0.996432</td>\n      <td>0.489305</td>\n      <td>0.995988</td>\n      <td>0.549137</td>\n      <td>0.997409</td>\n      <td>0.691626</td>\n    </tr>\n    <tr>\n      <th>6</th>\n      <td>AdaBoost</td>\n      <td>0.808011</td>\n      <td>0.798791</td>\n      <td>0.672204</td>\n      <td>0.646302</td>\n      <td>0.541481</td>\n      <td>0.537433</td>\n      <td>0.599802</td>\n      <td>0.586861</td>\n      <td>0.722968</td>\n      <td>0.715448</td>\n    </tr>\n  </tbody>\n</table>\n</div>"
     },
     "execution_count": 81,
     "metadata": {},
     "output_type": "execute_result"
    }
   ],
   "source": [
    "df_results"
   ],
   "metadata": {
    "collapsed": false
   }
  },
  {
   "cell_type": "code",
   "execution_count": null,
   "outputs": [],
   "source": [
    "def highlight_col(x):\n",
    "    r = 'background-color: red'\n",
    "    df1 = pd.DataFrame('', index=x.index, columns=x.columns)\n",
    "    df1.iloc[:, 0] = r\n",
    "    return df1#%% md\n",
    "# Churn &mdash; Baseline Model"
   ],
   "metadata": {
    "collapsed": false
   }
  },
  {
   "cell_type": "markdown",
   "source": [
    "## Setup"
   ],
   "metadata": {
    "collapsed": false
   }
  },
  {
   "cell_type": "code",
   "execution_count": null,
   "outputs": [],
   "source": [
    "import pandas as pd\n",
    "import numpy as np\n",
    "import matplotlib.pyplot as plt\n",
    "import seaborn as sns\n",
    "\n",
    "from IPython.display import display, Markdown\n",
    "plt.style.use(\"seaborn-darkgrid\")\n",
    "pd.set_option('display.max_columns', None)\n",
    "\n",
    "import sys, os, yaml\n",
    "\n",
    "DATASET = \"Churn\"\n",
    "\n",
    "COLAB = 'google.colab' in sys.modules\n",
    "if COLAB:\n",
    "    ROOT = f\"/content/gdrive/MyDrive/datasets/{DATASET.replace(' ','_')}/\"\n",
    "else:\n",
    "    ROOT = \"./\"\n",
    "\n",
    "DEBUG = False\n",
    "SEED = 666"
   ],
   "metadata": {
    "collapsed": false
   }
  },
  {
   "cell_type": "code",
   "execution_count": null,
   "outputs": [],
   "source": [
    "if COLAB:\n",
    "    from google.colab import drive\n",
    "    if not os.path.isdir(\"/content/gdrive\"):\n",
    "        drive.mount(\"/content/gdrive\")"
   ],
   "metadata": {
    "collapsed": false
   }
  },
  {
   "cell_type": "markdown",
   "source": [
    "## Load Dataset"
   ],
   "metadata": {
    "collapsed": false
   }
  },
  {
   "cell_type": "code",
   "execution_count": null,
   "outputs": [],
   "source": [
    "df = pd.read_pickle(f\"{ROOT}/data/data.pkl\")\n",
    "print(df.shape)\n",
    "df.head(1)"
   ],
   "metadata": {
    "collapsed": false
   }
  },
  {
   "cell_type": "code",
   "execution_count": null,
   "outputs": [],
   "source": [
    "from sklearn.model_selection import train_test_split\n",
    "df_train, df_test = train_test_split(df, train_size=0.60, random_state=SEED, stratify=df.Churn)\n",
    "print(df_train.shape, df_test.shape)"
   ],
   "metadata": {
    "collapsed": false
   }
  },
  {
   "cell_type": "code",
   "execution_count": null,
   "outputs": [],
   "source": [
    "df.info()"
   ],
   "metadata": {
    "collapsed": false
   }
  },
  {
   "cell_type": "markdown",
   "source": [
    "## Preprocessing Dataset"
   ],
   "metadata": {
    "collapsed": false
   }
  },
  {
   "cell_type": "markdown",
   "source": [
    "### Identify target and features ###"
   ],
   "metadata": {
    "collapsed": false
   }
  },
  {
   "cell_type": "code",
   "execution_count": null,
   "outputs": [],
   "source": [
    "target = \"Churn\"\n",
    "print(f\"target : {target}\")\n",
    "\n",
    "cat_features = [c for c in df.select_dtypes(\"category\").columns if c != target]\n",
    "print(f\"Categorical Features ({len(cat_features)}) : {cat_features}\")\n",
    "\n",
    "num_features = [c for c in df.select_dtypes([\"int\", \"float\"]).columns if c != target]\n",
    "print(f\"Numerical Features ({len(num_features)}) : {num_features}\")"
   ],
   "metadata": {
    "collapsed": false
   }
  },
  {
   "cell_type": "markdown",
   "source": [
    "### Train/test split ###"
   ],
   "metadata": {
    "collapsed": false
   }
  },
  {
   "cell_type": "code",
   "execution_count": null,
   "outputs": [],
   "source": [
    "from sklearn.model_selection import train_test_split\n",
    "\n",
    "df_train, df_test = train_test_split(df, test_size=0.40, stratify=df[target], random_state=SEED)\n",
    "print(df_train.shape, df_test.shape)"
   ],
   "metadata": {
    "collapsed": false
   }
  },
  {
   "cell_type": "markdown",
   "source": [
    "### Encode target ###"
   ],
   "metadata": {
    "collapsed": false
   }
  },
  {
   "cell_type": "code",
   "execution_count": null,
   "outputs": [],
   "source": [
    "from sklearn.preprocessing import LabelEncoder\n",
    "labelEncoder = LabelEncoder()\n",
    "labelEncoder.fit(df_train[target])\n",
    "y_train = labelEncoder.transform(df_train[target])\n",
    "y_test = labelEncoder.transform(df_test[target])"
   ],
   "metadata": {
    "collapsed": false
   }
  },
  {
   "cell_type": "code",
   "execution_count": null,
   "outputs": [],
   "source": [
    "df_train[target].head()"
   ],
   "metadata": {
    "collapsed": false
   }
  },
  {
   "cell_type": "code",
   "execution_count": null,
   "outputs": [],
   "source": [
    "y_train[:5]"
   ],
   "metadata": {
    "collapsed": false
   }
  },
  {
   "cell_type": "code",
   "execution_count": null,
   "outputs": [],
   "source": [
    "labelEncoder.inverse_transform(y_train[:5])"
   ],
   "metadata": {
    "collapsed": false
   }
  },
  {
   "cell_type": "markdown",
   "source": [
    "### Encode categorical features ###"
   ],
   "metadata": {
    "collapsed": false
   }
  },
  {
   "cell_type": "code",
   "execution_count": null,
   "outputs": [],
   "source": [
    "from sklearn.preprocessing import OneHotEncoder\n",
    "\n",
    "oneHotEncoder = OneHotEncoder()\n",
    "oneHotEncoder.fit(df_train[cat_features])\n",
    "x_cat_train = oneHotEncoder.transform(df_train[cat_features])\n",
    "x_cat_test = oneHotEncoder.transform(df_test[cat_features])"
   ],
   "metadata": {
    "collapsed": false
   }
  },
  {
   "cell_type": "code",
   "execution_count": null,
   "outputs": [],
   "source": [
    "df_cat_train = pd.DataFrame(x_cat_train.toarray(), columns=oneHotEncoder.get_feature_names_out())\n",
    "df_cat_test = pd.DataFrame(x_cat_test.toarray(), columns=oneHotEncoder.get_feature_names_out())\n",
    "print(df_cat_train.shape, df_cat_test.shape)\n",
    "df_cat_train.head(1)"
   ],
   "metadata": {
    "collapsed": false
   }
  },
  {
   "cell_type": "markdown",
   "source": [
    "### Scale / transform numerical features"
   ],
   "metadata": {
    "collapsed": false
   }
  },
  {
   "cell_type": "code",
   "execution_count": null,
   "outputs": [],
   "source": [
    "from sklearn.preprocessing import StandardScaler\n",
    "\n",
    "standardScaler = StandardScaler()\n",
    "\n",
    "standardScaler.fit(df_train[num_features])\n",
    "x_num_train = standardScaler.transform(df_train[num_features])\n",
    "x_num_test = standardScaler.transform(df_test[num_features])"
   ],
   "metadata": {
    "collapsed": false
   }
  },
  {
   "cell_type": "code",
   "execution_count": null,
   "outputs": [],
   "source": [
    "df_num_train = pd.DataFrame(x_num_train, columns=standardScaler.get_feature_names_out())\n",
    "df_num_test = pd.DataFrame(x_num_test, columns=standardScaler.get_feature_names_out())\n",
    "print(df_num_train.shape, df_num_test.shape)\n",
    "df_num_train.head(1)"
   ],
   "metadata": {
    "collapsed": false
   }
  },
  {
   "cell_type": "markdown",
   "source": [
    "### Construct dataframe for model features ###"
   ],
   "metadata": {
    "collapsed": false
   }
  },
  {
   "cell_type": "code",
   "execution_count": null,
   "outputs": [],
   "source": [
    "df_model_train = pd.concat([df_cat_train, df_num_train], axis=1)\n",
    "df_model_test = pd.concat([df_cat_test, df_num_test], axis=1)\n",
    "print(df_model_train.shape, df_model_test.shape)"
   ],
   "metadata": {
    "collapsed": false
   }
  },
  {
   "cell_type": "markdown",
   "source": [
    "## Model selection ##"
   ],
   "metadata": {
    "collapsed": false
   }
  },
  {
   "cell_type": "code",
   "execution_count": null,
   "outputs": [],
   "source": [
    "from sklearn.neighbors import KNeighborsClassifier\n",
    "from sklearn.tree import DecisionTreeClassifier\n",
    "from sklearn.linear_model import LogisticRegression\n",
    "from sklearn.ensemble import RandomForestClassifier, AdaBoostClassifier\n",
    "\n",
    "classifiers = {\n",
    "    \"KNN\" : KNeighborsClassifier(),\n",
    "    \"KNN (3)\" : KNeighborsClassifier(3),\n",
    "    \"DT\" : DecisionTreeClassifier(),\n",
    "    \"DT (max_depth=5\" : DecisionTreeClassifier(max_depth=5),\n",
    "    \"LR\" : LogisticRegression(max_iter=1000),\n",
    "    \"RF\" : RandomForestClassifier(),\n",
    "    \"AdaBoost\" : AdaBoostClassifier()\n",
    "}"
   ],
   "metadata": {
    "collapsed": false
   }
  },
  {
   "cell_type": "code",
   "execution_count": null,
   "outputs": [],
   "source": [
    "from sklearn.metrics import accuracy_score\n",
    "for name, model in classifiers.items():\n",
    "    model.fit(df_model_train, y_train)\n",
    "\n",
    "    # Scoring on SEEN data - effectively \"useless\"\n",
    "    y_pred = model.predict(df_model_train)\n",
    "    train_accuracy = accuracy_score(y_train, y_pred)\n",
    "\n",
    "    # Scoring on UNSEEN data - important\n",
    "    y_pred = model.predict(df_model_test)\n",
    "    test_accuracy = accuracy_score(y_test, y_pred)\n",
    "    print(f\"{name:20s} accuracy: train = {train_accuracy:.2%} test = {test_accuracy:.2%}\")"
   ],
   "metadata": {
    "collapsed": false
   }
  },
  {
   "cell_type": "code",
   "execution_count": null,
   "outputs": [],
   "source": [
    "from sklearn.model_selection import cross_val_score\n",
    "for name, model in classifiers.items():\n",
    "\n",
    "    scores = cross_val_score(model, df_model_train, y_train, cv=10)\n",
    "\n",
    "    print(f\"{name:20s} accuracy CV = {scores.mean():.2%} std = {scores.std():.2%}\")"
   ],
   "metadata": {
    "collapsed": false
   }
  },
  {
   "cell_type": "code",
   "execution_count": null,
   "outputs": [],
   "source": [
    "from sklearn.metrics import precision_score, recall_score, f1_score, roc_auc_score\n",
    "metrics = {\n",
    "    \"accuracy\": accuracy_score,\n",
    "    \"precision\": precision_score,\n",
    "    \"recall\": recall_score,\n",
    "    \"f1\": f1_score,\n",
    "    \"roc_auc\": roc_auc_score\n",
    "}"
   ],
   "metadata": {
    "collapsed": false
   }
  },
  {
   "cell_type": "code",
   "execution_count": 184,
   "outputs": [],
   "source": [
    "from sklearn.metrics import confusion_matrix\n",
    "def business_benefit_score(y_test, y_pred):\n",
    "    cm = confusion_matrix(y_test, y_pred)\n",
    "    # TN, FP, FN, TP\n",
    "    # false positive : 60% of population\n",
    "    # true positive: 0.63% * 975 & 0.27 * -25\n",
    "    # false positive:\n",
    "    benefits = [\n",
    "        1000 * cm[0][0],\n",
    "        (1000 * (cm[0][1] * 0.4)) + (975 * (cm[0][1] * 0.6)),\n",
    "        0,\n",
    "        (975 * (cm[1][1] * (0.9 * 0.7))) - (25 * (cm[1][1] * (0.9 * 0.3)))\n",
    "    ]\n",
    "    return sum(benefits) / cm.sum()\n",
    "#.sum() / cm.sum()\n",
    "#(benefits * cm)"
   ],
   "metadata": {
    "collapsed": false
   }
  },
  {
   "cell_type": "code",
   "execution_count": null,
   "outputs": [],
   "source": [
    "data = []\n",
    "for name, model in classifiers.items():\n",
    "    row = {\"model\": name }\n",
    "    model.fit(df_model_train, y_train)\n",
    "    for key, metric in metrics.items():\n",
    "\n",
    "        # Scoring on SEEN data - effectively \"useless\"\n",
    "        y_pred = model.predict(df_model_train)\n",
    "        #train_accuracy = metric(y_train, y_pred)\n",
    "        row[\"train_\" + key] = metric(y_train, y_pred)\n",
    "\n",
    "        # Scoring on UNSEEN data - important\n",
    "        y_pred = model.predict(df_model_test)\n",
    "        #test_accuracy = metric(y_test, y_pred)\n",
    "        row[\"test_\" + key] = metric(y_test, y_pred)\n",
    "        #print(f\"{name} : {key:20s} train = {train_accuracy:.2%} test = {test_accuracy:.2%}\")\n",
    "    data.append(row)\n",
    "df_results = pd.DataFrame(data)"
   ],
   "metadata": {
    "collapsed": false
   }
  },
  {
   "cell_type": "code",
   "execution_count": 84,
   "outputs": [
    {
     "data": {
      "text/plain": "             model  train_accuracy  test_accuracy  train_precision  \\\n0              KNN        0.841432       0.757199         0.720273   \n1          KNN (3)        0.870822       0.747600         0.779612   \n2               DT        0.997867       0.718095         0.999102   \n3  DT (max_depth=5        0.802797       0.787416         0.622561   \n4               LR        0.804693       0.803768         0.660888   \n5               RF        0.997867       0.786349         0.995544   \n6         AdaBoost        0.808011       0.798791         0.672204   \n\n   test_precision  train_recall  test_recall  train_f1   test_f1  \\\n0        0.543276      0.659233     0.545455  0.688402  0.544363   \n1        0.525333      0.716325     0.526738  0.746629  0.526035   \n2        0.471627      0.992864     0.500000  0.995973  0.485399   \n3        0.589286      0.654773     0.661765  0.638261  0.623426   \n4        0.649847      0.544157     0.568182  0.596869  0.606277   \n5        0.625641      0.996432     0.489305  0.995988  0.549137   \n6        0.646302      0.541481     0.537433  0.599802  0.586861   \n\n   train_roc_auc  test_roc_auc  \n0       0.783296      0.689676  \n1       0.821526      0.677170  \n2       0.996270      0.648547  \n3       0.755566      0.747347  \n4       0.721562      0.728643  \n5       0.997409      0.691626  \n6       0.722968      0.715448  ",
      "text/html": "<div>\n<style scoped>\n    .dataframe tbody tr th:only-of-type {\n        vertical-align: middle;\n    }\n\n    .dataframe tbody tr th {\n        vertical-align: top;\n    }\n\n    .dataframe thead th {\n        text-align: right;\n    }\n</style>\n<table border=\"1\" class=\"dataframe\">\n  <thead>\n    <tr style=\"text-align: right;\">\n      <th></th>\n      <th>model</th>\n      <th>train_accuracy</th>\n      <th>test_accuracy</th>\n      <th>train_precision</th>\n      <th>test_precision</th>\n      <th>train_recall</th>\n      <th>test_recall</th>\n      <th>train_f1</th>\n      <th>test_f1</th>\n      <th>train_roc_auc</th>\n      <th>test_roc_auc</th>\n    </tr>\n  </thead>\n  <tbody>\n    <tr>\n      <th>0</th>\n      <td>KNN</td>\n      <td>0.841432</td>\n      <td>0.757199</td>\n      <td>0.720273</td>\n      <td>0.543276</td>\n      <td>0.659233</td>\n      <td>0.545455</td>\n      <td>0.688402</td>\n      <td>0.544363</td>\n      <td>0.783296</td>\n      <td>0.689676</td>\n    </tr>\n    <tr>\n      <th>1</th>\n      <td>KNN (3)</td>\n      <td>0.870822</td>\n      <td>0.747600</td>\n      <td>0.779612</td>\n      <td>0.525333</td>\n      <td>0.716325</td>\n      <td>0.526738</td>\n      <td>0.746629</td>\n      <td>0.526035</td>\n      <td>0.821526</td>\n      <td>0.677170</td>\n    </tr>\n    <tr>\n      <th>2</th>\n      <td>DT</td>\n      <td>0.997867</td>\n      <td>0.718095</td>\n      <td>0.999102</td>\n      <td>0.471627</td>\n      <td>0.992864</td>\n      <td>0.500000</td>\n      <td>0.995973</td>\n      <td>0.485399</td>\n      <td>0.996270</td>\n      <td>0.648547</td>\n    </tr>\n    <tr>\n      <th>3</th>\n      <td>DT (max_depth=5</td>\n      <td>0.802797</td>\n      <td>0.787416</td>\n      <td>0.622561</td>\n      <td>0.589286</td>\n      <td>0.654773</td>\n      <td>0.661765</td>\n      <td>0.638261</td>\n      <td>0.623426</td>\n      <td>0.755566</td>\n      <td>0.747347</td>\n    </tr>\n    <tr>\n      <th>4</th>\n      <td>LR</td>\n      <td>0.804693</td>\n      <td>0.803768</td>\n      <td>0.660888</td>\n      <td>0.649847</td>\n      <td>0.544157</td>\n      <td>0.568182</td>\n      <td>0.596869</td>\n      <td>0.606277</td>\n      <td>0.721562</td>\n      <td>0.728643</td>\n    </tr>\n    <tr>\n      <th>5</th>\n      <td>RF</td>\n      <td>0.997867</td>\n      <td>0.786349</td>\n      <td>0.995544</td>\n      <td>0.625641</td>\n      <td>0.996432</td>\n      <td>0.489305</td>\n      <td>0.995988</td>\n      <td>0.549137</td>\n      <td>0.997409</td>\n      <td>0.691626</td>\n    </tr>\n    <tr>\n      <th>6</th>\n      <td>AdaBoost</td>\n      <td>0.808011</td>\n      <td>0.798791</td>\n      <td>0.672204</td>\n      <td>0.646302</td>\n      <td>0.541481</td>\n      <td>0.537433</td>\n      <td>0.599802</td>\n      <td>0.586861</td>\n      <td>0.722968</td>\n      <td>0.715448</td>\n    </tr>\n  </tbody>\n</table>\n</div>"
     },
     "execution_count": 84,
     "metadata": {},
     "output_type": "execute_result"
    }
   ],
   "source": [
    "df_results"
   ],
   "metadata": {
    "collapsed": false
   }
  },
  {
   "cell_type": "code",
   "execution_count": 129,
   "outputs": [],
   "source": [
    "def highlight_col(x):\n",
    "    green = 'background-color: darkgreen'\n",
    "    blue = \"background-color: darkblue\"\n",
    "    yellow = \"background-color: darkred\"\n",
    "    df1 = pd.DataFrame('', index=x.index, columns=x.columns)\n",
    "    df1.iloc[:, 0] = green\n",
    "    df1.iloc[:, [1, 2, 5, 6, 9, 10]] = blue\n",
    "    df1.iloc[:, [3, 4, 7, 8]] = yellow\n",
    "    return df1"
   ],
   "metadata": {
    "collapsed": false
   }
  },
  {
   "cell_type": "code",
   "execution_count": 130,
   "outputs": [
    {
     "data": {
      "text/plain": "<pandas.io.formats.style.Styler at 0x1eae2f44340>",
      "text/html": "<style type=\"text/css\">\n#T_c116e_row0_col0, #T_c116e_row1_col0, #T_c116e_row2_col0, #T_c116e_row3_col0, #T_c116e_row4_col0, #T_c116e_row5_col0, #T_c116e_row6_col0 {\n  background-color: darkgreen;\n}\n#T_c116e_row0_col1, #T_c116e_row0_col2, #T_c116e_row0_col5, #T_c116e_row0_col6, #T_c116e_row0_col9, #T_c116e_row0_col10, #T_c116e_row1_col1, #T_c116e_row1_col2, #T_c116e_row1_col5, #T_c116e_row1_col6, #T_c116e_row1_col9, #T_c116e_row1_col10, #T_c116e_row2_col1, #T_c116e_row2_col2, #T_c116e_row2_col5, #T_c116e_row2_col6, #T_c116e_row2_col9, #T_c116e_row2_col10, #T_c116e_row3_col1, #T_c116e_row3_col2, #T_c116e_row3_col5, #T_c116e_row3_col6, #T_c116e_row3_col9, #T_c116e_row3_col10, #T_c116e_row4_col1, #T_c116e_row4_col2, #T_c116e_row4_col5, #T_c116e_row4_col6, #T_c116e_row4_col9, #T_c116e_row4_col10, #T_c116e_row5_col1, #T_c116e_row5_col2, #T_c116e_row5_col5, #T_c116e_row5_col6, #T_c116e_row5_col9, #T_c116e_row5_col10, #T_c116e_row6_col1, #T_c116e_row6_col2, #T_c116e_row6_col5, #T_c116e_row6_col6, #T_c116e_row6_col9, #T_c116e_row6_col10 {\n  background-color: darkblue;\n}\n#T_c116e_row0_col3, #T_c116e_row0_col4, #T_c116e_row0_col7, #T_c116e_row0_col8, #T_c116e_row1_col3, #T_c116e_row1_col4, #T_c116e_row1_col7, #T_c116e_row1_col8, #T_c116e_row2_col3, #T_c116e_row2_col4, #T_c116e_row2_col7, #T_c116e_row2_col8, #T_c116e_row3_col3, #T_c116e_row3_col4, #T_c116e_row3_col7, #T_c116e_row3_col8, #T_c116e_row4_col3, #T_c116e_row4_col4, #T_c116e_row4_col7, #T_c116e_row4_col8, #T_c116e_row5_col3, #T_c116e_row5_col4, #T_c116e_row5_col7, #T_c116e_row5_col8, #T_c116e_row6_col3, #T_c116e_row6_col4, #T_c116e_row6_col7, #T_c116e_row6_col8 {\n  background-color: darkred;\n}\n</style>\n<table id=\"T_c116e\">\n  <thead>\n    <tr>\n      <th class=\"blank level0\" >&nbsp;</th>\n      <th id=\"T_c116e_level0_col0\" class=\"col_heading level0 col0\" >model</th>\n      <th id=\"T_c116e_level0_col1\" class=\"col_heading level0 col1\" >train_accuracy</th>\n      <th id=\"T_c116e_level0_col2\" class=\"col_heading level0 col2\" >test_accuracy</th>\n      <th id=\"T_c116e_level0_col3\" class=\"col_heading level0 col3\" >train_precision</th>\n      <th id=\"T_c116e_level0_col4\" class=\"col_heading level0 col4\" >test_precision</th>\n      <th id=\"T_c116e_level0_col5\" class=\"col_heading level0 col5\" >train_recall</th>\n      <th id=\"T_c116e_level0_col6\" class=\"col_heading level0 col6\" >test_recall</th>\n      <th id=\"T_c116e_level0_col7\" class=\"col_heading level0 col7\" >train_f1</th>\n      <th id=\"T_c116e_level0_col8\" class=\"col_heading level0 col8\" >test_f1</th>\n      <th id=\"T_c116e_level0_col9\" class=\"col_heading level0 col9\" >train_roc_auc</th>\n      <th id=\"T_c116e_level0_col10\" class=\"col_heading level0 col10\" >test_roc_auc</th>\n    </tr>\n  </thead>\n  <tbody>\n    <tr>\n      <th id=\"T_c116e_level0_row0\" class=\"row_heading level0 row0\" >0</th>\n      <td id=\"T_c116e_row0_col0\" class=\"data row0 col0\" >KNN</td>\n      <td id=\"T_c116e_row0_col1\" class=\"data row0 col1\" >0.841432</td>\n      <td id=\"T_c116e_row0_col2\" class=\"data row0 col2\" >0.757199</td>\n      <td id=\"T_c116e_row0_col3\" class=\"data row0 col3\" >0.720273</td>\n      <td id=\"T_c116e_row0_col4\" class=\"data row0 col4\" >0.543276</td>\n      <td id=\"T_c116e_row0_col5\" class=\"data row0 col5\" >0.659233</td>\n      <td id=\"T_c116e_row0_col6\" class=\"data row0 col6\" >0.545455</td>\n      <td id=\"T_c116e_row0_col7\" class=\"data row0 col7\" >0.688402</td>\n      <td id=\"T_c116e_row0_col8\" class=\"data row0 col8\" >0.544363</td>\n      <td id=\"T_c116e_row0_col9\" class=\"data row0 col9\" >0.783296</td>\n      <td id=\"T_c116e_row0_col10\" class=\"data row0 col10\" >0.689676</td>\n    </tr>\n    <tr>\n      <th id=\"T_c116e_level0_row1\" class=\"row_heading level0 row1\" >1</th>\n      <td id=\"T_c116e_row1_col0\" class=\"data row1 col0\" >KNN (3)</td>\n      <td id=\"T_c116e_row1_col1\" class=\"data row1 col1\" >0.870822</td>\n      <td id=\"T_c116e_row1_col2\" class=\"data row1 col2\" >0.747600</td>\n      <td id=\"T_c116e_row1_col3\" class=\"data row1 col3\" >0.779612</td>\n      <td id=\"T_c116e_row1_col4\" class=\"data row1 col4\" >0.525333</td>\n      <td id=\"T_c116e_row1_col5\" class=\"data row1 col5\" >0.716325</td>\n      <td id=\"T_c116e_row1_col6\" class=\"data row1 col6\" >0.526738</td>\n      <td id=\"T_c116e_row1_col7\" class=\"data row1 col7\" >0.746629</td>\n      <td id=\"T_c116e_row1_col8\" class=\"data row1 col8\" >0.526035</td>\n      <td id=\"T_c116e_row1_col9\" class=\"data row1 col9\" >0.821526</td>\n      <td id=\"T_c116e_row1_col10\" class=\"data row1 col10\" >0.677170</td>\n    </tr>\n    <tr>\n      <th id=\"T_c116e_level0_row2\" class=\"row_heading level0 row2\" >2</th>\n      <td id=\"T_c116e_row2_col0\" class=\"data row2 col0\" >DT</td>\n      <td id=\"T_c116e_row2_col1\" class=\"data row2 col1\" >0.997867</td>\n      <td id=\"T_c116e_row2_col2\" class=\"data row2 col2\" >0.718095</td>\n      <td id=\"T_c116e_row2_col3\" class=\"data row2 col3\" >0.999102</td>\n      <td id=\"T_c116e_row2_col4\" class=\"data row2 col4\" >0.471627</td>\n      <td id=\"T_c116e_row2_col5\" class=\"data row2 col5\" >0.992864</td>\n      <td id=\"T_c116e_row2_col6\" class=\"data row2 col6\" >0.500000</td>\n      <td id=\"T_c116e_row2_col7\" class=\"data row2 col7\" >0.995973</td>\n      <td id=\"T_c116e_row2_col8\" class=\"data row2 col8\" >0.485399</td>\n      <td id=\"T_c116e_row2_col9\" class=\"data row2 col9\" >0.996270</td>\n      <td id=\"T_c116e_row2_col10\" class=\"data row2 col10\" >0.648547</td>\n    </tr>\n    <tr>\n      <th id=\"T_c116e_level0_row3\" class=\"row_heading level0 row3\" >3</th>\n      <td id=\"T_c116e_row3_col0\" class=\"data row3 col0\" >DT (max_depth=5</td>\n      <td id=\"T_c116e_row3_col1\" class=\"data row3 col1\" >0.802797</td>\n      <td id=\"T_c116e_row3_col2\" class=\"data row3 col2\" >0.787416</td>\n      <td id=\"T_c116e_row3_col3\" class=\"data row3 col3\" >0.622561</td>\n      <td id=\"T_c116e_row3_col4\" class=\"data row3 col4\" >0.589286</td>\n      <td id=\"T_c116e_row3_col5\" class=\"data row3 col5\" >0.654773</td>\n      <td id=\"T_c116e_row3_col6\" class=\"data row3 col6\" >0.661765</td>\n      <td id=\"T_c116e_row3_col7\" class=\"data row3 col7\" >0.638261</td>\n      <td id=\"T_c116e_row3_col8\" class=\"data row3 col8\" >0.623426</td>\n      <td id=\"T_c116e_row3_col9\" class=\"data row3 col9\" >0.755566</td>\n      <td id=\"T_c116e_row3_col10\" class=\"data row3 col10\" >0.747347</td>\n    </tr>\n    <tr>\n      <th id=\"T_c116e_level0_row4\" class=\"row_heading level0 row4\" >4</th>\n      <td id=\"T_c116e_row4_col0\" class=\"data row4 col0\" >LR</td>\n      <td id=\"T_c116e_row4_col1\" class=\"data row4 col1\" >0.804693</td>\n      <td id=\"T_c116e_row4_col2\" class=\"data row4 col2\" >0.803768</td>\n      <td id=\"T_c116e_row4_col3\" class=\"data row4 col3\" >0.660888</td>\n      <td id=\"T_c116e_row4_col4\" class=\"data row4 col4\" >0.649847</td>\n      <td id=\"T_c116e_row4_col5\" class=\"data row4 col5\" >0.544157</td>\n      <td id=\"T_c116e_row4_col6\" class=\"data row4 col6\" >0.568182</td>\n      <td id=\"T_c116e_row4_col7\" class=\"data row4 col7\" >0.596869</td>\n      <td id=\"T_c116e_row4_col8\" class=\"data row4 col8\" >0.606277</td>\n      <td id=\"T_c116e_row4_col9\" class=\"data row4 col9\" >0.721562</td>\n      <td id=\"T_c116e_row4_col10\" class=\"data row4 col10\" >0.728643</td>\n    </tr>\n    <tr>\n      <th id=\"T_c116e_level0_row5\" class=\"row_heading level0 row5\" >5</th>\n      <td id=\"T_c116e_row5_col0\" class=\"data row5 col0\" >RF</td>\n      <td id=\"T_c116e_row5_col1\" class=\"data row5 col1\" >0.997867</td>\n      <td id=\"T_c116e_row5_col2\" class=\"data row5 col2\" >0.786349</td>\n      <td id=\"T_c116e_row5_col3\" class=\"data row5 col3\" >0.995544</td>\n      <td id=\"T_c116e_row5_col4\" class=\"data row5 col4\" >0.625641</td>\n      <td id=\"T_c116e_row5_col5\" class=\"data row5 col5\" >0.996432</td>\n      <td id=\"T_c116e_row5_col6\" class=\"data row5 col6\" >0.489305</td>\n      <td id=\"T_c116e_row5_col7\" class=\"data row5 col7\" >0.995988</td>\n      <td id=\"T_c116e_row5_col8\" class=\"data row5 col8\" >0.549137</td>\n      <td id=\"T_c116e_row5_col9\" class=\"data row5 col9\" >0.997409</td>\n      <td id=\"T_c116e_row5_col10\" class=\"data row5 col10\" >0.691626</td>\n    </tr>\n    <tr>\n      <th id=\"T_c116e_level0_row6\" class=\"row_heading level0 row6\" >6</th>\n      <td id=\"T_c116e_row6_col0\" class=\"data row6 col0\" >AdaBoost</td>\n      <td id=\"T_c116e_row6_col1\" class=\"data row6 col1\" >0.808011</td>\n      <td id=\"T_c116e_row6_col2\" class=\"data row6 col2\" >0.798791</td>\n      <td id=\"T_c116e_row6_col3\" class=\"data row6 col3\" >0.672204</td>\n      <td id=\"T_c116e_row6_col4\" class=\"data row6 col4\" >0.646302</td>\n      <td id=\"T_c116e_row6_col5\" class=\"data row6 col5\" >0.541481</td>\n      <td id=\"T_c116e_row6_col6\" class=\"data row6 col6\" >0.537433</td>\n      <td id=\"T_c116e_row6_col7\" class=\"data row6 col7\" >0.599802</td>\n      <td id=\"T_c116e_row6_col8\" class=\"data row6 col8\" >0.586861</td>\n      <td id=\"T_c116e_row6_col9\" class=\"data row6 col9\" >0.722968</td>\n      <td id=\"T_c116e_row6_col10\" class=\"data row6 col10\" >0.715448</td>\n    </tr>\n  </tbody>\n</table>\n"
     },
     "execution_count": 130,
     "metadata": {},
     "output_type": "execute_result"
    }
   ],
   "source": [
    "df_results.style.apply(highlight_col, axis=None)"
   ],
   "metadata": {
    "collapsed": false
   }
  },
  {
   "cell_type": "code",
   "execution_count": 182,
   "outputs": [
    {
     "data": {
      "text/plain": "array([[1845,  220],\n       [ 346,  402]], dtype=int64)"
     },
     "execution_count": 182,
     "metadata": {},
     "output_type": "execute_result"
    }
   ],
   "source": [
    "confusion_matrix(y_test, y_pred)"
   ],
   "metadata": {
    "collapsed": false
   }
  },
  {
   "cell_type": "code",
   "execution_count": 183,
   "outputs": [
    {
     "data": {
      "text/plain": "819.7351581940989"
     },
     "execution_count": 183,
     "metadata": {},
     "output_type": "execute_result"
    }
   ],
   "source": [
    "business_benefit_score(y_test, y_pred)"
   ],
   "metadata": {
    "collapsed": false
   }
  },
  {
   "cell_type": "code",
   "execution_count": 177,
   "outputs": [
    {
     "data": {
      "text/plain": "216700"
     },
     "execution_count": 177,
     "metadata": {},
     "output_type": "execute_result"
    }
   ],
   "source": [
    "216700"
   ],
   "metadata": {
    "collapsed": false
   }
  },
  {
   "cell_type": "code",
   "execution_count": null,
   "outputs": [],
   "source": [],
   "metadata": {
    "collapsed": false
   }
  }
 ],
 "metadata": {
  "kernelspec": {
   "display_name": "Python 3 (ipykernel)",
   "language": "python",
   "name": "python3"
  },
  "language_info": {
   "codemirror_mode": {
    "name": "ipython",
    "version": 3
   },
   "file_extension": ".py",
   "mimetype": "text/x-python",
   "name": "python",
   "nbconvert_exporter": "python",
   "pygments_lexer": "ipython3",
   "version": "3.9.13"
  }
 },
 "nbformat": 4,
 "nbformat_minor": 5
}
