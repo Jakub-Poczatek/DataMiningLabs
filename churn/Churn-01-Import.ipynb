{
 "cells": [
  {
   "cell_type": "markdown",
   "id": "a1f2b007-031c-4351-85a0-2fb978d8e84a",
   "metadata": {},
   "source": [
    "# Churn &mdash; Import"
   ]
  },
  {
   "cell_type": "markdown",
   "id": "478f1ecf-c953-4a50-9a6f-4270d552ff8a",
   "metadata": {},
   "source": [
    "## Setup"
   ]
  },
  {
   "cell_type": "code",
   "execution_count": 8,
   "id": "84de3c73-eefd-40a6-a335-1e1eef871fdf",
   "metadata": {},
   "outputs": [
    {
     "name": "stderr",
     "output_type": "stream",
     "text": [
      "C:\\Users\\Kuba\\AppData\\Local\\Temp\\ipykernel_24916\\250077564.py:7: MatplotlibDeprecationWarning: The seaborn styles shipped by Matplotlib are deprecated since 3.6, as they no longer correspond to the styles shipped by seaborn. However, they will remain available as 'seaborn-v0_8-<style>'. Alternatively, directly use the seaborn API instead.\n",
      "  plt.style.use(\"seaborn-darkgrid\")\n"
     ]
    }
   ],
   "source": [
    "import pandas as pd\n",
    "import numpy as np\n",
    "import matplotlib.pyplot as plt\n",
    "import seaborn as sns\n",
    "\n",
    "from IPython.display import display, Markdown\n",
    "plt.style.use(\"seaborn-darkgrid\")\n",
    "pd.set_option('display.max_columns', None)  \n",
    "\n",
    "import sys, os, yaml\n",
    "\n",
    "DATASET = \"Churn\"\n",
    "\n",
    "COLAB = 'google.colab' in sys.modules\n",
    "if COLAB:\n",
    "    ROOT = f\"/content/gdrive/MyDrive/datasets/{DATASET.replace(' ','_')}/\"\n",
    "else:\n",
    "    ROOT = \"./\"\n",
    "\n",
    "DEBUG = False\n",
    "SEED = 666"
   ]
  },
  {
   "cell_type": "code",
   "execution_count": 9,
   "id": "6a2e70bc-efcc-414e-9adb-fb7656189436",
   "metadata": {},
   "outputs": [],
   "source": [
    "if COLAB:\n",
    "  from google.colab import drive\n",
    "  if not os.path.isdir(\"/content/gdrive\"):\n",
    "    drive.mount(\"/content/gdrive\")\n",
    "    d = \"/content/gdrive/MyDrive/datasets\"\n",
    "    if not os.path.isdir(d): os.makedirs(d)\n",
    "  if not os.path.isdir(ROOT): os.makedirs(ROOT)\n",
    "\n",
    "def makedirs(d):\n",
    "  if COLAB:\n",
    "    if not os.path.isdir(ROOT+d): os.makedirs(ROOT+d)\n",
    "  else:\n",
    "    if not os.path.isdir(ROOT+d): os.makedirs(ROOT+d, mode=0o777, exist_ok=True)\n",
    "\n",
    "for d in ['orig','data','output']: makedirs(d)"
   ]
  },
  {
   "cell_type": "markdown",
   "id": "ff70475b-c3e0-4bc1-8dcd-b5ea42f68cce",
   "metadata": {},
   "source": [
    "## Load Dataset"
   ]
  },
  {
   "cell_type": "code",
   "execution_count": 10,
   "id": "113e2629-dbf2-4b71-ad8d-cf10022d617d",
   "metadata": {},
   "outputs": [
    {
     "name": "stdout",
     "output_type": "stream",
     "text": [
      "Using local copy of data.csv\n",
      "Using local copy of datasheet.yaml\n"
     ]
    }
   ],
   "source": [
    "BASE_URL = \"https://SETU-DataMining2.github.io/live/resources/churn\"\n",
    "\n",
    "for filename in ['data.csv','datasheet.yaml']:\n",
    "    source = f\"{BASE_URL}/{filename}\"\n",
    "    target = f\"{ROOT}/orig/{filename}\"\n",
    "\n",
    "    if not os.path.isfile(target):\n",
    "        print (f\"Downloading remote file {filename}\", sep=\"\")\n",
    "        import urllib.request\n",
    "        urllib.request.urlretrieve(source, target)\n",
    "    else:\n",
    "        print(f\"Using local copy of {filename}\")"
   ]
  },
  {
   "cell_type": "code",
   "execution_count": 11,
   "id": "2ff00544-67d8-4fc5-8c9b-28d11cce4516",
   "metadata": {},
   "outputs": [
    {
     "name": "stdout",
     "output_type": "stream",
     "text": [
      "(7043, 21)\n"
     ]
    },
    {
     "data": {
      "text/plain": "   customerID  gender  SeniorCitizen Partner Dependents  tenure PhoneService  \\\n0           1  Female              0     Yes         No       1           No   \n1           2    Male              0      No         No      34          Yes   \n2           3    Male              0      No         No       2          Yes   \n3           4    Male              0      No         No      45           No   \n4           5  Female              0      No         No       2          Yes   \n\n  MultipleLines InternetService OnlineSecurity OnlineBackup DeviceProtection  \\\n0            No             DSL             No          Yes               No   \n1            No             DSL            Yes           No              Yes   \n2            No             DSL            Yes          Yes               No   \n3            No             DSL            Yes           No              Yes   \n4            No     Fiber optic             No           No               No   \n\n  TechSupport StreamingTV StreamingMovies        Contract PaperlessBilling  \\\n0          No          No              No  Month-to-month              Yes   \n1          No          No              No        One year               No   \n2          No          No              No  Month-to-month              Yes   \n3         Yes          No              No        One year               No   \n4          No          No              No  Month-to-month              Yes   \n\n               PaymentMethod  MonthlyCharges TotalCharges Churn  \n0           Electronic check           29.85        29.85    No  \n1               Mailed check           56.95       1889.5    No  \n2               Mailed check           53.85       108.15   Yes  \n3  Bank transfer (automatic)           42.30      1840.75    No  \n4           Electronic check           70.70       151.65   Yes  ",
      "text/html": "<div>\n<style scoped>\n    .dataframe tbody tr th:only-of-type {\n        vertical-align: middle;\n    }\n\n    .dataframe tbody tr th {\n        vertical-align: top;\n    }\n\n    .dataframe thead th {\n        text-align: right;\n    }\n</style>\n<table border=\"1\" class=\"dataframe\">\n  <thead>\n    <tr style=\"text-align: right;\">\n      <th></th>\n      <th>customerID</th>\n      <th>gender</th>\n      <th>SeniorCitizen</th>\n      <th>Partner</th>\n      <th>Dependents</th>\n      <th>tenure</th>\n      <th>PhoneService</th>\n      <th>MultipleLines</th>\n      <th>InternetService</th>\n      <th>OnlineSecurity</th>\n      <th>OnlineBackup</th>\n      <th>DeviceProtection</th>\n      <th>TechSupport</th>\n      <th>StreamingTV</th>\n      <th>StreamingMovies</th>\n      <th>Contract</th>\n      <th>PaperlessBilling</th>\n      <th>PaymentMethod</th>\n      <th>MonthlyCharges</th>\n      <th>TotalCharges</th>\n      <th>Churn</th>\n    </tr>\n  </thead>\n  <tbody>\n    <tr>\n      <th>0</th>\n      <td>1</td>\n      <td>Female</td>\n      <td>0</td>\n      <td>Yes</td>\n      <td>No</td>\n      <td>1</td>\n      <td>No</td>\n      <td>No</td>\n      <td>DSL</td>\n      <td>No</td>\n      <td>Yes</td>\n      <td>No</td>\n      <td>No</td>\n      <td>No</td>\n      <td>No</td>\n      <td>Month-to-month</td>\n      <td>Yes</td>\n      <td>Electronic check</td>\n      <td>29.85</td>\n      <td>29.85</td>\n      <td>No</td>\n    </tr>\n    <tr>\n      <th>1</th>\n      <td>2</td>\n      <td>Male</td>\n      <td>0</td>\n      <td>No</td>\n      <td>No</td>\n      <td>34</td>\n      <td>Yes</td>\n      <td>No</td>\n      <td>DSL</td>\n      <td>Yes</td>\n      <td>No</td>\n      <td>Yes</td>\n      <td>No</td>\n      <td>No</td>\n      <td>No</td>\n      <td>One year</td>\n      <td>No</td>\n      <td>Mailed check</td>\n      <td>56.95</td>\n      <td>1889.5</td>\n      <td>No</td>\n    </tr>\n    <tr>\n      <th>2</th>\n      <td>3</td>\n      <td>Male</td>\n      <td>0</td>\n      <td>No</td>\n      <td>No</td>\n      <td>2</td>\n      <td>Yes</td>\n      <td>No</td>\n      <td>DSL</td>\n      <td>Yes</td>\n      <td>Yes</td>\n      <td>No</td>\n      <td>No</td>\n      <td>No</td>\n      <td>No</td>\n      <td>Month-to-month</td>\n      <td>Yes</td>\n      <td>Mailed check</td>\n      <td>53.85</td>\n      <td>108.15</td>\n      <td>Yes</td>\n    </tr>\n    <tr>\n      <th>3</th>\n      <td>4</td>\n      <td>Male</td>\n      <td>0</td>\n      <td>No</td>\n      <td>No</td>\n      <td>45</td>\n      <td>No</td>\n      <td>No</td>\n      <td>DSL</td>\n      <td>Yes</td>\n      <td>No</td>\n      <td>Yes</td>\n      <td>Yes</td>\n      <td>No</td>\n      <td>No</td>\n      <td>One year</td>\n      <td>No</td>\n      <td>Bank transfer (automatic)</td>\n      <td>42.30</td>\n      <td>1840.75</td>\n      <td>No</td>\n    </tr>\n    <tr>\n      <th>4</th>\n      <td>5</td>\n      <td>Female</td>\n      <td>0</td>\n      <td>No</td>\n      <td>No</td>\n      <td>2</td>\n      <td>Yes</td>\n      <td>No</td>\n      <td>Fiber optic</td>\n      <td>No</td>\n      <td>No</td>\n      <td>No</td>\n      <td>No</td>\n      <td>No</td>\n      <td>No</td>\n      <td>Month-to-month</td>\n      <td>Yes</td>\n      <td>Electronic check</td>\n      <td>70.70</td>\n      <td>151.65</td>\n      <td>Yes</td>\n    </tr>\n  </tbody>\n</table>\n</div>"
     },
     "execution_count": 11,
     "metadata": {},
     "output_type": "execute_result"
    }
   ],
   "source": [
    "df = pd.read_csv(f\"{ROOT}/orig/data.csv\")\n",
    "print(df.shape)\n",
    "df.head()"
   ]
  },
  {
   "cell_type": "code",
   "execution_count": 12,
   "id": "93db680a-d9ec-427b-a4ef-3806dd8c1e0c",
   "metadata": {},
   "outputs": [
    {
     "name": "stdout",
     "output_type": "stream",
     "text": [
      "<class 'pandas.core.frame.DataFrame'>\n",
      "RangeIndex: 7043 entries, 0 to 7042\n",
      "Data columns (total 21 columns):\n",
      " #   Column            Non-Null Count  Dtype  \n",
      "---  ------            --------------  -----  \n",
      " 0   customerID        7043 non-null   int64  \n",
      " 1   gender            7043 non-null   object \n",
      " 2   SeniorCitizen     7043 non-null   int64  \n",
      " 3   Partner           7043 non-null   object \n",
      " 4   Dependents        7043 non-null   object \n",
      " 5   tenure            7043 non-null   int64  \n",
      " 6   PhoneService      7043 non-null   object \n",
      " 7   MultipleLines     7043 non-null   object \n",
      " 8   InternetService   7043 non-null   object \n",
      " 9   OnlineSecurity    7043 non-null   object \n",
      " 10  OnlineBackup      7043 non-null   object \n",
      " 11  DeviceProtection  7043 non-null   object \n",
      " 12  TechSupport       7043 non-null   object \n",
      " 13  StreamingTV       7043 non-null   object \n",
      " 14  StreamingMovies   7043 non-null   object \n",
      " 15  Contract          7043 non-null   object \n",
      " 16  PaperlessBilling  7043 non-null   object \n",
      " 17  PaymentMethod     7043 non-null   object \n",
      " 18  MonthlyCharges    7043 non-null   float64\n",
      " 19  TotalCharges      7043 non-null   object \n",
      " 20  Churn             7043 non-null   object \n",
      "dtypes: float64(1), int64(3), object(17)\n",
      "memory usage: 1.1+ MB\n"
     ]
    }
   ],
   "source": [
    "df.info()"
   ]
  },
  {
   "cell_type": "markdown",
   "id": "1865dd25-ea90-4061-b7d7-ae3d7dfe26e3",
   "metadata": {},
   "source": [
    "Standardising column names"
   ]
  },
  {
   "cell_type": "code",
   "execution_count": 13,
   "id": "45bfd6a9-d603-466b-af3a-e78ef5969d60",
   "metadata": {},
   "outputs": [],
   "source": [
    "df.columns = [c[0].upper()+c[1:] for c in df.columns]"
   ]
  },
  {
   "cell_type": "markdown",
   "id": "7b56c9a9-a0e7-4ef6-8962-b0731ba52a60",
   "metadata": {},
   "source": [
    "Fix `TotalCharges` to be numeric.\n",
    "Results 11 missing values. Since number is small, just drop these rows."
   ]
  },
  {
   "cell_type": "code",
   "execution_count": 14,
   "id": "2f4f4d52-0404-4928-9fae-01d38e5cdb18",
   "metadata": {},
   "outputs": [],
   "source": [
    "df.TotalCharges = pd.to_numeric(df.TotalCharges, errors='coerce')"
   ]
  },
  {
   "cell_type": "code",
   "execution_count": 15,
   "id": "5cd0071a-6a34-4036-9ec5-6fa577e1933b",
   "metadata": {},
   "outputs": [
    {
     "data": {
      "text/plain": "11"
     },
     "execution_count": 15,
     "metadata": {},
     "output_type": "execute_result"
    }
   ],
   "source": [
    "df.TotalCharges.isna().sum()"
   ]
  },
  {
   "cell_type": "code",
   "execution_count": 16,
   "id": "a30e6d9e-53c2-46bc-b50b-b7198517990f",
   "metadata": {},
   "outputs": [
    {
     "name": "stdout",
     "output_type": "stream",
     "text": [
      "(7043, 21)\n",
      "(7032, 21)\n"
     ]
    }
   ],
   "source": [
    "print(df.shape)\n",
    "df.dropna(inplace=True)\n",
    "print(df.shape)"
   ]
  },
  {
   "cell_type": "markdown",
   "id": "7797c041-913e-4b82-9fae-50154e817ad0",
   "metadata": {},
   "source": [
    "Describe what/why Im doing ..."
   ]
  },
  {
   "cell_type": "code",
   "execution_count": 17,
   "id": "02e16eb9-f6df-4602-9add-d34eb8b1feba",
   "metadata": {},
   "outputs": [
    {
     "data": {
      "text/plain": "0    No\nName: SeniorCitizen, dtype: object"
     },
     "execution_count": 17,
     "metadata": {},
     "output_type": "execute_result"
    }
   ],
   "source": [
    "if 0 in df.SeniorCitizen.unique():\n",
    "    df.SeniorCitizen = df.SeniorCitizen.map({0:\"No\", 1:\"Yes\"})\n",
    "df.SeniorCitizen.head(1)"
   ]
  },
  {
   "cell_type": "markdown",
   "id": "952a3253-66f3-4260-a540-9d68b582cd25",
   "metadata": {},
   "source": [
    "Describe what/why Im doing ..."
   ]
  },
  {
   "cell_type": "code",
   "execution_count": 18,
   "id": "1b7b3c1e-9a3f-4043-8820-fc5e68aa47d1",
   "metadata": {},
   "outputs": [],
   "source": [
    "for c in df.select_dtypes(\"object\").columns:\n",
    "    df[c] = pd.Categorical(df[c])"
   ]
  },
  {
   "cell_type": "code",
   "execution_count": 19,
   "id": "e76f8c09-4d07-4997-9fb0-b2e1229cc1c3",
   "metadata": {},
   "outputs": [],
   "source": [
    "df.Contract = pd.Categorical(df.Contract, \n",
    "    categories=['Month-to-month', 'One year', 'Two year'],\n",
    "    ordered=True)"
   ]
  },
  {
   "cell_type": "markdown",
   "id": "0795de9a-b40f-4ff8-b813-e5b50639c660",
   "metadata": {},
   "source": [
    "Describe what/why Im doing ..."
   ]
  },
  {
   "cell_type": "code",
   "execution_count": 20,
   "id": "25cd452b-01fa-4be2-97c8-a5510eaa9673",
   "metadata": {},
   "outputs": [],
   "source": [
    "df.drop(columns=[\"CustomerID\"], inplace=True)"
   ]
  },
  {
   "cell_type": "markdown",
   "id": "ec3003c9-d93b-447a-9b89-58700f4b300f",
   "metadata": {},
   "source": [
    "## Save dataset"
   ]
  },
  {
   "cell_type": "code",
   "execution_count": 21,
   "id": "682513d9-b2a0-40e6-b8ff-28eee66d386d",
   "metadata": {},
   "outputs": [
    {
     "name": "stdout",
     "output_type": "stream",
     "text": [
      "<class 'pandas.core.frame.DataFrame'>\n",
      "Int64Index: 7032 entries, 0 to 7042\n",
      "Data columns (total 20 columns):\n",
      " #   Column            Non-Null Count  Dtype   \n",
      "---  ------            --------------  -----   \n",
      " 0   Gender            7032 non-null   category\n",
      " 1   SeniorCitizen     7032 non-null   category\n",
      " 2   Partner           7032 non-null   category\n",
      " 3   Dependents        7032 non-null   category\n",
      " 4   Tenure            7032 non-null   int64   \n",
      " 5   PhoneService      7032 non-null   category\n",
      " 6   MultipleLines     7032 non-null   category\n",
      " 7   InternetService   7032 non-null   category\n",
      " 8   OnlineSecurity    7032 non-null   category\n",
      " 9   OnlineBackup      7032 non-null   category\n",
      " 10  DeviceProtection  7032 non-null   category\n",
      " 11  TechSupport       7032 non-null   category\n",
      " 12  StreamingTV       7032 non-null   category\n",
      " 13  StreamingMovies   7032 non-null   category\n",
      " 14  Contract          7032 non-null   category\n",
      " 15  PaperlessBilling  7032 non-null   category\n",
      " 16  PaymentMethod     7032 non-null   category\n",
      " 17  MonthlyCharges    7032 non-null   float64 \n",
      " 18  TotalCharges      7032 non-null   float64 \n",
      " 19  Churn             7032 non-null   category\n",
      "dtypes: category(17), float64(2), int64(1)\n",
      "memory usage: 338.6 KB\n"
     ]
    }
   ],
   "source": [
    "df.info()"
   ]
  },
  {
   "cell_type": "code",
   "execution_count": 22,
   "id": "cde359ee-7443-4861-a1aa-7cb000dd058f",
   "metadata": {},
   "outputs": [
    {
     "data": {
      "text/plain": "   Gender SeniorCitizen Partner Dependents  Tenure PhoneService MultipleLines  \\\n0  Female            No     Yes         No       1           No            No   \n1    Male            No      No         No      34          Yes            No   \n2    Male            No      No         No       2          Yes            No   \n3    Male            No      No         No      45           No            No   \n4  Female            No      No         No       2          Yes            No   \n\n  InternetService OnlineSecurity OnlineBackup DeviceProtection TechSupport  \\\n0             DSL             No          Yes               No          No   \n1             DSL            Yes           No              Yes          No   \n2             DSL            Yes          Yes               No          No   \n3             DSL            Yes           No              Yes         Yes   \n4     Fiber optic             No           No               No          No   \n\n  StreamingTV StreamingMovies        Contract PaperlessBilling  \\\n0          No              No  Month-to-month              Yes   \n1          No              No        One year               No   \n2          No              No  Month-to-month              Yes   \n3          No              No        One year               No   \n4          No              No  Month-to-month              Yes   \n\n               PaymentMethod  MonthlyCharges  TotalCharges Churn  \n0           Electronic check           29.85         29.85    No  \n1               Mailed check           56.95       1889.50    No  \n2               Mailed check           53.85        108.15   Yes  \n3  Bank transfer (automatic)           42.30       1840.75    No  \n4           Electronic check           70.70        151.65   Yes  ",
      "text/html": "<div>\n<style scoped>\n    .dataframe tbody tr th:only-of-type {\n        vertical-align: middle;\n    }\n\n    .dataframe tbody tr th {\n        vertical-align: top;\n    }\n\n    .dataframe thead th {\n        text-align: right;\n    }\n</style>\n<table border=\"1\" class=\"dataframe\">\n  <thead>\n    <tr style=\"text-align: right;\">\n      <th></th>\n      <th>Gender</th>\n      <th>SeniorCitizen</th>\n      <th>Partner</th>\n      <th>Dependents</th>\n      <th>Tenure</th>\n      <th>PhoneService</th>\n      <th>MultipleLines</th>\n      <th>InternetService</th>\n      <th>OnlineSecurity</th>\n      <th>OnlineBackup</th>\n      <th>DeviceProtection</th>\n      <th>TechSupport</th>\n      <th>StreamingTV</th>\n      <th>StreamingMovies</th>\n      <th>Contract</th>\n      <th>PaperlessBilling</th>\n      <th>PaymentMethod</th>\n      <th>MonthlyCharges</th>\n      <th>TotalCharges</th>\n      <th>Churn</th>\n    </tr>\n  </thead>\n  <tbody>\n    <tr>\n      <th>0</th>\n      <td>Female</td>\n      <td>No</td>\n      <td>Yes</td>\n      <td>No</td>\n      <td>1</td>\n      <td>No</td>\n      <td>No</td>\n      <td>DSL</td>\n      <td>No</td>\n      <td>Yes</td>\n      <td>No</td>\n      <td>No</td>\n      <td>No</td>\n      <td>No</td>\n      <td>Month-to-month</td>\n      <td>Yes</td>\n      <td>Electronic check</td>\n      <td>29.85</td>\n      <td>29.85</td>\n      <td>No</td>\n    </tr>\n    <tr>\n      <th>1</th>\n      <td>Male</td>\n      <td>No</td>\n      <td>No</td>\n      <td>No</td>\n      <td>34</td>\n      <td>Yes</td>\n      <td>No</td>\n      <td>DSL</td>\n      <td>Yes</td>\n      <td>No</td>\n      <td>Yes</td>\n      <td>No</td>\n      <td>No</td>\n      <td>No</td>\n      <td>One year</td>\n      <td>No</td>\n      <td>Mailed check</td>\n      <td>56.95</td>\n      <td>1889.50</td>\n      <td>No</td>\n    </tr>\n    <tr>\n      <th>2</th>\n      <td>Male</td>\n      <td>No</td>\n      <td>No</td>\n      <td>No</td>\n      <td>2</td>\n      <td>Yes</td>\n      <td>No</td>\n      <td>DSL</td>\n      <td>Yes</td>\n      <td>Yes</td>\n      <td>No</td>\n      <td>No</td>\n      <td>No</td>\n      <td>No</td>\n      <td>Month-to-month</td>\n      <td>Yes</td>\n      <td>Mailed check</td>\n      <td>53.85</td>\n      <td>108.15</td>\n      <td>Yes</td>\n    </tr>\n    <tr>\n      <th>3</th>\n      <td>Male</td>\n      <td>No</td>\n      <td>No</td>\n      <td>No</td>\n      <td>45</td>\n      <td>No</td>\n      <td>No</td>\n      <td>DSL</td>\n      <td>Yes</td>\n      <td>No</td>\n      <td>Yes</td>\n      <td>Yes</td>\n      <td>No</td>\n      <td>No</td>\n      <td>One year</td>\n      <td>No</td>\n      <td>Bank transfer (automatic)</td>\n      <td>42.30</td>\n      <td>1840.75</td>\n      <td>No</td>\n    </tr>\n    <tr>\n      <th>4</th>\n      <td>Female</td>\n      <td>No</td>\n      <td>No</td>\n      <td>No</td>\n      <td>2</td>\n      <td>Yes</td>\n      <td>No</td>\n      <td>Fiber optic</td>\n      <td>No</td>\n      <td>No</td>\n      <td>No</td>\n      <td>No</td>\n      <td>No</td>\n      <td>No</td>\n      <td>Month-to-month</td>\n      <td>Yes</td>\n      <td>Electronic check</td>\n      <td>70.70</td>\n      <td>151.65</td>\n      <td>Yes</td>\n    </tr>\n  </tbody>\n</table>\n</div>"
     },
     "execution_count": 22,
     "metadata": {},
     "output_type": "execute_result"
    }
   ],
   "source": [
    "df.head()"
   ]
  },
  {
   "cell_type": "code",
   "execution_count": 23,
   "id": "89ba601a-d6b2-4618-b819-59f19e5432fd",
   "metadata": {},
   "outputs": [],
   "source": [
    "df.to_pickle(f\"{ROOT}/data/data.pkl\")"
   ]
  }
 ],
 "metadata": {
  "kernelspec": {
   "display_name": "Python 3 (ipykernel)",
   "language": "python",
   "name": "python3"
  },
  "language_info": {
   "codemirror_mode": {
    "name": "ipython",
    "version": 3
   },
   "file_extension": ".py",
   "mimetype": "text/x-python",
   "name": "python",
   "nbconvert_exporter": "python",
   "pygments_lexer": "ipython3",
   "version": "3.9.13"
  }
 },
 "nbformat": 4,
 "nbformat_minor": 5
}
