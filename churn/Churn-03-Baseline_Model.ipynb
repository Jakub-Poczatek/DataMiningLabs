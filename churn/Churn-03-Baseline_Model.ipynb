{
 "cells": [
  {
   "cell_type": "markdown",
   "id": "a1f2b007-031c-4351-85a0-2fb978d8e84a",
   "metadata": {},
   "source": [
    "# Churn &mdash; Baseline Model"
   ]
  },
  {
   "cell_type": "markdown",
   "id": "478f1ecf-c953-4a50-9a6f-4270d552ff8a",
   "metadata": {},
   "source": [
    "## Setup"
   ]
  },
  {
   "cell_type": "code",
   "execution_count": 2,
   "id": "84de3c73-eefd-40a6-a335-1e1eef871fdf",
   "metadata": {},
   "outputs": [
    {
     "name": "stderr",
     "output_type": "stream",
     "text": [
      "C:\\Users\\Kuba\\AppData\\Local\\Temp\\ipykernel_2116\\250077564.py:7: MatplotlibDeprecationWarning: The seaborn styles shipped by Matplotlib are deprecated since 3.6, as they no longer correspond to the styles shipped by seaborn. However, they will remain available as 'seaborn-v0_8-<style>'. Alternatively, directly use the seaborn API instead.\n",
      "  plt.style.use(\"seaborn-darkgrid\")\n"
     ]
    }
   ],
   "source": [
    "import pandas as pd\n",
    "import numpy as np\n",
    "import matplotlib.pyplot as plt\n",
    "import seaborn as sns\n",
    "\n",
    "from IPython.display import display, Markdown\n",
    "plt.style.use(\"seaborn-darkgrid\")\n",
    "pd.set_option('display.max_columns', None)  \n",
    "\n",
    "import sys, os, yaml\n",
    "\n",
    "DATASET = \"Churn\"\n",
    "\n",
    "COLAB = 'google.colab' in sys.modules\n",
    "if COLAB:\n",
    "    ROOT = f\"/content/gdrive/MyDrive/datasets/{DATASET.replace(' ','_')}/\"\n",
    "else:\n",
    "    ROOT = \"./\"\n",
    "\n",
    "DEBUG = False\n",
    "SEED = 666"
   ]
  },
  {
   "cell_type": "code",
   "execution_count": 3,
   "outputs": [],
   "source": [
    "if COLAB:\n",
    "    from google.colab import drive\n",
    "    if not os.path.isdir(\"/content/gdrive\"):\n",
    "        drive.mount(\"/content/gdrive\")"
   ],
   "metadata": {
    "collapsed": false
   }
  },
  {
   "cell_type": "markdown",
   "id": "ff70475b-c3e0-4bc1-8dcd-b5ea42f68cce",
   "metadata": {},
   "source": [
    "## Load Dataset"
   ]
  },
  {
   "cell_type": "code",
   "execution_count": 4,
   "id": "2ff00544-67d8-4fc5-8c9b-28d11cce4516",
   "metadata": {},
   "outputs": [
    {
     "name": "stdout",
     "output_type": "stream",
     "text": [
      "(7032, 20)\n"
     ]
    },
    {
     "data": {
      "text/plain": "   Gender SeniorCitizen Partner Dependents  Tenure PhoneService MultipleLines  \\\n0  Female            No     Yes         No       1           No            No   \n\n  InternetService OnlineSecurity OnlineBackup DeviceProtection TechSupport  \\\n0             DSL             No          Yes               No          No   \n\n  StreamingTV StreamingMovies        Contract PaperlessBilling  \\\n0          No              No  Month-to-month              Yes   \n\n      PaymentMethod  MonthlyCharges  TotalCharges Churn  \n0  Electronic check           29.85         29.85    No  ",
      "text/html": "<div>\n<style scoped>\n    .dataframe tbody tr th:only-of-type {\n        vertical-align: middle;\n    }\n\n    .dataframe tbody tr th {\n        vertical-align: top;\n    }\n\n    .dataframe thead th {\n        text-align: right;\n    }\n</style>\n<table border=\"1\" class=\"dataframe\">\n  <thead>\n    <tr style=\"text-align: right;\">\n      <th></th>\n      <th>Gender</th>\n      <th>SeniorCitizen</th>\n      <th>Partner</th>\n      <th>Dependents</th>\n      <th>Tenure</th>\n      <th>PhoneService</th>\n      <th>MultipleLines</th>\n      <th>InternetService</th>\n      <th>OnlineSecurity</th>\n      <th>OnlineBackup</th>\n      <th>DeviceProtection</th>\n      <th>TechSupport</th>\n      <th>StreamingTV</th>\n      <th>StreamingMovies</th>\n      <th>Contract</th>\n      <th>PaperlessBilling</th>\n      <th>PaymentMethod</th>\n      <th>MonthlyCharges</th>\n      <th>TotalCharges</th>\n      <th>Churn</th>\n    </tr>\n  </thead>\n  <tbody>\n    <tr>\n      <th>0</th>\n      <td>Female</td>\n      <td>No</td>\n      <td>Yes</td>\n      <td>No</td>\n      <td>1</td>\n      <td>No</td>\n      <td>No</td>\n      <td>DSL</td>\n      <td>No</td>\n      <td>Yes</td>\n      <td>No</td>\n      <td>No</td>\n      <td>No</td>\n      <td>No</td>\n      <td>Month-to-month</td>\n      <td>Yes</td>\n      <td>Electronic check</td>\n      <td>29.85</td>\n      <td>29.85</td>\n      <td>No</td>\n    </tr>\n  </tbody>\n</table>\n</div>"
     },
     "execution_count": 4,
     "metadata": {},
     "output_type": "execute_result"
    }
   ],
   "source": [
    "df = pd.read_pickle(f\"{ROOT}/data/data.pkl\")\n",
    "print(df.shape)\n",
    "df.head(1)"
   ]
  },
  {
   "cell_type": "code",
   "execution_count": 5,
   "id": "669dc128-997c-470b-8633-74267820dc3c",
   "metadata": {},
   "outputs": [
    {
     "name": "stdout",
     "output_type": "stream",
     "text": [
      "(4219, 20) (2813, 20)\n"
     ]
    }
   ],
   "source": [
    "from sklearn.model_selection import train_test_split\n",
    "df_train, df_test = train_test_split(df, train_size=0.60, random_state=SEED, stratify=df.Churn)\n",
    "print(df_train.shape, df_test.shape)"
   ]
  },
  {
   "cell_type": "code",
   "execution_count": 6,
   "id": "e70c8456-3b80-40e8-8528-733c11d2b714",
   "metadata": {},
   "outputs": [
    {
     "name": "stdout",
     "output_type": "stream",
     "text": [
      "<class 'pandas.core.frame.DataFrame'>\n",
      "Int64Index: 7032 entries, 0 to 7042\n",
      "Data columns (total 20 columns):\n",
      " #   Column            Non-Null Count  Dtype   \n",
      "---  ------            --------------  -----   \n",
      " 0   Gender            7032 non-null   category\n",
      " 1   SeniorCitizen     7032 non-null   category\n",
      " 2   Partner           7032 non-null   category\n",
      " 3   Dependents        7032 non-null   category\n",
      " 4   Tenure            7032 non-null   int64   \n",
      " 5   PhoneService      7032 non-null   category\n",
      " 6   MultipleLines     7032 non-null   category\n",
      " 7   InternetService   7032 non-null   category\n",
      " 8   OnlineSecurity    7032 non-null   category\n",
      " 9   OnlineBackup      7032 non-null   category\n",
      " 10  DeviceProtection  7032 non-null   category\n",
      " 11  TechSupport       7032 non-null   category\n",
      " 12  StreamingTV       7032 non-null   category\n",
      " 13  StreamingMovies   7032 non-null   category\n",
      " 14  Contract          7032 non-null   category\n",
      " 15  PaperlessBilling  7032 non-null   category\n",
      " 16  PaymentMethod     7032 non-null   category\n",
      " 17  MonthlyCharges    7032 non-null   float64 \n",
      " 18  TotalCharges      7032 non-null   float64 \n",
      " 19  Churn             7032 non-null   category\n",
      "dtypes: category(17), float64(2), int64(1)\n",
      "memory usage: 336.8 KB\n"
     ]
    }
   ],
   "source": [
    "df.info()"
   ]
  },
  {
   "cell_type": "markdown",
   "source": [
    "## Preprocessing Dataset"
   ],
   "metadata": {
    "collapsed": false
   }
  },
  {
   "cell_type": "markdown",
   "source": [
    "### Identify target and features ###"
   ],
   "metadata": {
    "collapsed": false
   }
  },
  {
   "cell_type": "code",
   "execution_count": 7,
   "outputs": [
    {
     "name": "stdout",
     "output_type": "stream",
     "text": [
      "target : Churn\n",
      "Categorical Features (16) : ['Gender', 'SeniorCitizen', 'Partner', 'Dependents', 'PhoneService', 'MultipleLines', 'InternetService', 'OnlineSecurity', 'OnlineBackup', 'DeviceProtection', 'TechSupport', 'StreamingTV', 'StreamingMovies', 'Contract', 'PaperlessBilling', 'PaymentMethod']\n",
      "Numerical Features (3) : ['Tenure', 'MonthlyCharges', 'TotalCharges']\n"
     ]
    }
   ],
   "source": [
    "target = \"Churn\"\n",
    "print(f\"target : {target}\")\n",
    "\n",
    "cat_features = [c for c in df.select_dtypes(\"category\").columns if c != target]\n",
    "print(f\"Categorical Features ({len(cat_features)}) : {cat_features}\")\n",
    "\n",
    "num_features = [c for c in df.select_dtypes([\"int\", \"float\"]).columns if c != target]\n",
    "print(f\"Numerical Features ({len(num_features)}) : {num_features}\")"
   ],
   "metadata": {
    "collapsed": false
   }
  },
  {
   "cell_type": "markdown",
   "source": [
    "### Train/test split ###"
   ],
   "metadata": {
    "collapsed": false
   }
  },
  {
   "cell_type": "code",
   "execution_count": 8,
   "outputs": [
    {
     "name": "stdout",
     "output_type": "stream",
     "text": [
      "(4219, 20) (2813, 20)\n"
     ]
    }
   ],
   "source": [
    "from sklearn.model_selection import train_test_split\n",
    "\n",
    "df_train, df_test = train_test_split(df, test_size=0.40, stratify=df[target], random_state=SEED)\n",
    "print(df_train.shape, df_test.shape)"
   ],
   "metadata": {
    "collapsed": false
   }
  },
  {
   "cell_type": "markdown",
   "source": [
    "### Encode target ###"
   ],
   "metadata": {
    "collapsed": false
   }
  },
  {
   "cell_type": "code",
   "execution_count": 9,
   "outputs": [],
   "source": [
    "from sklearn.preprocessing import LabelEncoder\n",
    "labelEncoder = LabelEncoder()\n",
    "labelEncoder.fit(df_train[target])\n",
    "y_train = labelEncoder.transform(df_train[target])\n",
    "y_test = labelEncoder.transform(df_test[target])"
   ],
   "metadata": {
    "collapsed": false
   }
  },
  {
   "cell_type": "code",
   "execution_count": 10,
   "outputs": [
    {
     "data": {
      "text/plain": "193      No\n6108     No\n3580    Yes\n2195     No\n3809     No\nName: Churn, dtype: category\nCategories (2, object): ['No', 'Yes']"
     },
     "execution_count": 10,
     "metadata": {},
     "output_type": "execute_result"
    }
   ],
   "source": [
    "df_train[target].head()"
   ],
   "metadata": {
    "collapsed": false
   }
  },
  {
   "cell_type": "code",
   "execution_count": 11,
   "outputs": [
    {
     "data": {
      "text/plain": "array([0, 0, 1, 0, 0])"
     },
     "execution_count": 11,
     "metadata": {},
     "output_type": "execute_result"
    }
   ],
   "source": [
    "y_train[:5]"
   ],
   "metadata": {
    "collapsed": false
   }
  },
  {
   "cell_type": "code",
   "execution_count": 12,
   "outputs": [
    {
     "data": {
      "text/plain": "array(['No', 'No', 'Yes', 'No', 'No'], dtype=object)"
     },
     "execution_count": 12,
     "metadata": {},
     "output_type": "execute_result"
    }
   ],
   "source": [
    "labelEncoder.inverse_transform(y_train[:5])"
   ],
   "metadata": {
    "collapsed": false
   }
  },
  {
   "cell_type": "markdown",
   "source": [
    "### Encode categorical features ###"
   ],
   "metadata": {
    "collapsed": false
   }
  },
  {
   "cell_type": "code",
   "execution_count": 13,
   "outputs": [],
   "source": [
    "from sklearn.preprocessing import OneHotEncoder\n",
    "\n",
    "oneHotEncoder = OneHotEncoder()\n",
    "oneHotEncoder.fit(df_train[cat_features])\n",
    "x_cat_train = oneHotEncoder.transform(df_train[cat_features])\n",
    "x_cat_test = oneHotEncoder.transform(df_test[cat_features])"
   ],
   "metadata": {
    "collapsed": false
   }
  },
  {
   "cell_type": "code",
   "execution_count": 14,
   "outputs": [
    {
     "name": "stdout",
     "output_type": "stream",
     "text": [
      "(4219, 36) (2813, 36)\n"
     ]
    },
    {
     "data": {
      "text/plain": "   Gender_Female  Gender_Male  SeniorCitizen_No  SeniorCitizen_Yes  \\\n0            1.0          0.0               1.0                0.0   \n\n   Partner_No  Partner_Yes  Dependents_No  Dependents_Yes  PhoneService_No  \\\n0         0.0          1.0            0.0             1.0              0.0   \n\n   PhoneService_Yes  MultipleLines_No  MultipleLines_Yes  InternetService_DSL  \\\n0               1.0               0.0                1.0                  0.0   \n\n   InternetService_Fiber optic  InternetService_No  OnlineSecurity_No  \\\n0                          1.0                 0.0                0.0   \n\n   OnlineSecurity_Yes  OnlineBackup_No  OnlineBackup_Yes  DeviceProtection_No  \\\n0                 1.0              0.0               1.0                  0.0   \n\n   DeviceProtection_Yes  TechSupport_No  TechSupport_Yes  StreamingTV_No  \\\n0                   1.0             1.0              0.0             0.0   \n\n   StreamingTV_Yes  StreamingMovies_No  StreamingMovies_Yes  \\\n0              1.0                 0.0                  1.0   \n\n   Contract_Month-to-month  Contract_One year  Contract_Two year  \\\n0                      0.0                0.0                1.0   \n\n   PaperlessBilling_No  PaperlessBilling_Yes  \\\n0                  1.0                   0.0   \n\n   PaymentMethod_Bank transfer (automatic)  \\\n0                                      0.0   \n\n   PaymentMethod_Credit card (automatic)  PaymentMethod_Electronic check  \\\n0                                    1.0                             0.0   \n\n   PaymentMethod_Mailed check  \n0                         0.0  ",
      "text/html": "<div>\n<style scoped>\n    .dataframe tbody tr th:only-of-type {\n        vertical-align: middle;\n    }\n\n    .dataframe tbody tr th {\n        vertical-align: top;\n    }\n\n    .dataframe thead th {\n        text-align: right;\n    }\n</style>\n<table border=\"1\" class=\"dataframe\">\n  <thead>\n    <tr style=\"text-align: right;\">\n      <th></th>\n      <th>Gender_Female</th>\n      <th>Gender_Male</th>\n      <th>SeniorCitizen_No</th>\n      <th>SeniorCitizen_Yes</th>\n      <th>Partner_No</th>\n      <th>Partner_Yes</th>\n      <th>Dependents_No</th>\n      <th>Dependents_Yes</th>\n      <th>PhoneService_No</th>\n      <th>PhoneService_Yes</th>\n      <th>MultipleLines_No</th>\n      <th>MultipleLines_Yes</th>\n      <th>InternetService_DSL</th>\n      <th>InternetService_Fiber optic</th>\n      <th>InternetService_No</th>\n      <th>OnlineSecurity_No</th>\n      <th>OnlineSecurity_Yes</th>\n      <th>OnlineBackup_No</th>\n      <th>OnlineBackup_Yes</th>\n      <th>DeviceProtection_No</th>\n      <th>DeviceProtection_Yes</th>\n      <th>TechSupport_No</th>\n      <th>TechSupport_Yes</th>\n      <th>StreamingTV_No</th>\n      <th>StreamingTV_Yes</th>\n      <th>StreamingMovies_No</th>\n      <th>StreamingMovies_Yes</th>\n      <th>Contract_Month-to-month</th>\n      <th>Contract_One year</th>\n      <th>Contract_Two year</th>\n      <th>PaperlessBilling_No</th>\n      <th>PaperlessBilling_Yes</th>\n      <th>PaymentMethod_Bank transfer (automatic)</th>\n      <th>PaymentMethod_Credit card (automatic)</th>\n      <th>PaymentMethod_Electronic check</th>\n      <th>PaymentMethod_Mailed check</th>\n    </tr>\n  </thead>\n  <tbody>\n    <tr>\n      <th>0</th>\n      <td>1.0</td>\n      <td>0.0</td>\n      <td>1.0</td>\n      <td>0.0</td>\n      <td>0.0</td>\n      <td>1.0</td>\n      <td>0.0</td>\n      <td>1.0</td>\n      <td>0.0</td>\n      <td>1.0</td>\n      <td>0.0</td>\n      <td>1.0</td>\n      <td>0.0</td>\n      <td>1.0</td>\n      <td>0.0</td>\n      <td>0.0</td>\n      <td>1.0</td>\n      <td>0.0</td>\n      <td>1.0</td>\n      <td>0.0</td>\n      <td>1.0</td>\n      <td>1.0</td>\n      <td>0.0</td>\n      <td>0.0</td>\n      <td>1.0</td>\n      <td>0.0</td>\n      <td>1.0</td>\n      <td>0.0</td>\n      <td>0.0</td>\n      <td>1.0</td>\n      <td>1.0</td>\n      <td>0.0</td>\n      <td>0.0</td>\n      <td>1.0</td>\n      <td>0.0</td>\n      <td>0.0</td>\n    </tr>\n  </tbody>\n</table>\n</div>"
     },
     "execution_count": 14,
     "metadata": {},
     "output_type": "execute_result"
    }
   ],
   "source": [
    "df_cat_train = pd.DataFrame(x_cat_train.toarray(), columns=oneHotEncoder.get_feature_names_out())\n",
    "df_cat_test = pd.DataFrame(x_cat_test.toarray(), columns=oneHotEncoder.get_feature_names_out())\n",
    "print(df_cat_train.shape, df_cat_test.shape)\n",
    "df_cat_train.head(1)"
   ],
   "metadata": {
    "collapsed": false
   }
  },
  {
   "cell_type": "markdown",
   "source": [
    "### Scale / transform numerical features"
   ],
   "metadata": {
    "collapsed": false
   }
  },
  {
   "cell_type": "code",
   "execution_count": 15,
   "outputs": [],
   "source": [
    "from sklearn.preprocessing import StandardScaler\n",
    "\n",
    "standardScaler = StandardScaler()\n",
    "\n",
    "standardScaler.fit(df_train[num_features])\n",
    "x_num_train = standardScaler.transform(df_train[num_features])\n",
    "x_num_test = standardScaler.transform(df_test[num_features])"
   ],
   "metadata": {
    "collapsed": false
   }
  },
  {
   "cell_type": "code",
   "execution_count": 16,
   "outputs": [
    {
     "name": "stdout",
     "output_type": "stream",
     "text": [
      "(4219, 3) (2813, 3)\n"
     ]
    },
    {
     "data": {
      "text/plain": "     Tenure  MonthlyCharges  TotalCharges\n0  1.597275        1.487874      2.557942",
      "text/html": "<div>\n<style scoped>\n    .dataframe tbody tr th:only-of-type {\n        vertical-align: middle;\n    }\n\n    .dataframe tbody tr th {\n        vertical-align: top;\n    }\n\n    .dataframe thead th {\n        text-align: right;\n    }\n</style>\n<table border=\"1\" class=\"dataframe\">\n  <thead>\n    <tr style=\"text-align: right;\">\n      <th></th>\n      <th>Tenure</th>\n      <th>MonthlyCharges</th>\n      <th>TotalCharges</th>\n    </tr>\n  </thead>\n  <tbody>\n    <tr>\n      <th>0</th>\n      <td>1.597275</td>\n      <td>1.487874</td>\n      <td>2.557942</td>\n    </tr>\n  </tbody>\n</table>\n</div>"
     },
     "execution_count": 16,
     "metadata": {},
     "output_type": "execute_result"
    }
   ],
   "source": [
    "df_num_train = pd.DataFrame(x_num_train, columns=standardScaler.get_feature_names_out())\n",
    "df_num_test = pd.DataFrame(x_num_test, columns=standardScaler.get_feature_names_out())\n",
    "print(df_num_train.shape, df_num_test.shape)\n",
    "df_num_train.head(1)"
   ],
   "metadata": {
    "collapsed": false
   }
  },
  {
   "cell_type": "markdown",
   "source": [
    "### Construct dataframe for model features ###"
   ],
   "metadata": {
    "collapsed": false
   }
  },
  {
   "cell_type": "code",
   "execution_count": 18,
   "outputs": [
    {
     "name": "stdout",
     "output_type": "stream",
     "text": [
      "(4219, 39) (2813, 39)\n"
     ]
    }
   ],
   "source": [
    "df_model_train = pd.concat([df_cat_train, df_num_train], axis=1)\n",
    "df_model_test = pd.concat([df_cat_test, df_num_test], axis=1)\n",
    "print(df_model_train.shape, df_model_test.shape)"
   ],
   "metadata": {
    "collapsed": false
   }
  },
  {
   "cell_type": "markdown",
   "source": [
    "## Model selection ##"
   ],
   "metadata": {
    "collapsed": false
   }
  },
  {
   "cell_type": "code",
   "execution_count": 29,
   "outputs": [],
   "source": [
    "from sklearn.neighbors import KNeighborsClassifier\n",
    "from sklearn.tree import DecisionTreeClassifier\n",
    "from sklearn.linear_model import LogisticRegression\n",
    "from sklearn.ensemble import RandomForestClassifier, AdaBoostClassifier\n",
    "\n",
    "classifiers = {\n",
    "    \"KNN\" : KNeighborsClassifier(),\n",
    "    \"KNN (3)\" : KNeighborsClassifier(3),\n",
    "    \"DT\" : DecisionTreeClassifier(),\n",
    "    \"DT (max_depth=5\" : DecisionTreeClassifier(max_depth=5),\n",
    "    \"LR\" : LogisticRegression(max_iter=1000),\n",
    "    \"RF\" : RandomForestClassifier(),\n",
    "    \"AdaBoost\" : AdaBoostClassifier()\n",
    "}"
   ],
   "metadata": {
    "collapsed": false
   }
  },
  {
   "cell_type": "code",
   "execution_count": 30,
   "outputs": [
    {
     "name": "stdout",
     "output_type": "stream",
     "text": [
      "KNN                  accuracy: train = 84.14% test = 75.72%\n",
      "KNN (3)              accuracy: train = 87.08% test = 74.76%\n",
      "DT                   accuracy: train = 99.79% test = 72.20%\n",
      "DT (max_depth=5      accuracy: train = 80.28% test = 78.74%\n",
      "LR                   accuracy: train = 80.47% test = 80.38%\n",
      "RF                   accuracy: train = 99.79% test = 78.56%\n",
      "AdaBoost             accuracy: train = 80.80% test = 79.88%\n"
     ]
    }
   ],
   "source": [
    "from sklearn.metrics import accuracy_score\n",
    "for name, model in classifiers.items():\n",
    "    model.fit(df_model_train, y_train)\n",
    "\n",
    "    # Scoring on SEEN data - effectively \"useless\"\n",
    "    y_pred = model.predict(df_model_train)\n",
    "    train_accuracy = accuracy_score(y_train, y_pred)\n",
    "\n",
    "    # Scoring on UNSEEN data - important\n",
    "    y_pred = model.predict(df_model_test)\n",
    "    test_accuracy = accuracy_score(y_test, y_pred)\n",
    "    print(f\"{name:20s} accuracy: train = {train_accuracy:.2%} test = {test_accuracy:.2%}\")"
   ],
   "metadata": {
    "collapsed": false
   }
  },
  {
   "cell_type": "code",
   "execution_count": 31,
   "outputs": [
    {
     "name": "stdout",
     "output_type": "stream",
     "text": [
      "KNN                  accuracy CV = 76.61% std = 1.64%\n",
      "KNN (3)              accuracy CV = 74.99% std = 1.96%\n",
      "DT                   accuracy CV = 72.20% std = 1.68%\n",
      "DT (max_depth=5      accuracy CV = 78.38% std = 1.28%\n",
      "LR                   accuracy CV = 80.21% std = 1.58%\n",
      "RF                   accuracy CV = 78.57% std = 1.21%\n",
      "AdaBoost             accuracy CV = 79.85% std = 1.60%\n"
     ]
    }
   ],
   "source": [
    "from sklearn.model_selection import cross_val_score\n",
    "for name, model in classifiers.items():\n",
    "\n",
    "    scores = cross_val_score(model, df_model_train, y_train, cv=10)\n",
    "\n",
    "    print(f\"{name:20s} accuracy CV = {scores.mean():.2%} std = {scores.std():.2%}\")"
   ],
   "metadata": {
    "collapsed": false
   }
  }
 ],
 "metadata": {
  "kernelspec": {
   "display_name": "Python 3 (ipykernel)",
   "language": "python",
   "name": "python3"
  },
  "language_info": {
   "codemirror_mode": {
    "name": "ipython",
    "version": 3
   },
   "file_extension": ".py",
   "mimetype": "text/x-python",
   "name": "python",
   "nbconvert_exporter": "python",
   "pygments_lexer": "ipython3",
   "version": "3.9.13"
  }
 },
 "nbformat": 4,
 "nbformat_minor": 5
}
