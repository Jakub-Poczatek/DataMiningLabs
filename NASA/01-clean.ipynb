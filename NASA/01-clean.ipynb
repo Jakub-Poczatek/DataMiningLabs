{
 "cells": [
  {
   "cell_type": "markdown",
   "source": [
    "# NASA - 01 - Clean #"
   ],
   "metadata": {
    "collapsed": false
   }
  },
  {
   "cell_type": "code",
   "execution_count": 2,
   "outputs": [],
   "source": [
    "import numpy as np\n",
    "import pandas as pd\n",
    "import matplotlib.pyplot as plt\n",
    "import seaborn as sns\n",
    "from scipy import stats\n",
    "import yaml\n",
    "\n",
    "pd.set_option('display.max_columns', None)\n",
    "pd.set_option('display.width', 1000)\n",
    "pd.set_option('display.max_rows', None)\n",
    "\n",
    "sns.set_style(\"darkgrid\")\n",
    "\n",
    "from IPython.display import display, Markdown\n",
    "from pprint import pprint\n",
    "\n",
    "DEBUG = True"
   ],
   "metadata": {
    "collapsed": false
   }
  },
  {
   "cell_type": "code",
   "execution_count": 3,
   "outputs": [],
   "source": [
    "import sys, os, yaml\n",
    "\n",
    "DATASET = \"NASA\"\n",
    "\n",
    "COLAB = 'google.colab' in sys.modules\n",
    "if COLAB:\n",
    "    ROOT = f\"/content/gdrive/MyDrive/datasets/{DATASET.replace(' ','_')}/\"\n",
    "else:\n",
    "    ROOT = \"./\"\n",
    "\n",
    "DEBUG = False\n",
    "SEED = 1612"
   ],
   "metadata": {
    "collapsed": false
   }
  },
  {
   "cell_type": "code",
   "execution_count": 4,
   "outputs": [],
   "source": [
    "if COLAB:\n",
    "    from google.colab import drive\n",
    "    if not os.path.isdir(\"/content/gdrive\"):\n",
    "        drive.mount(\"/content/gdrive\")\n",
    "        d = \"/content/gdrive/MyDrive/datasets\"\n",
    "        if not os.path.isdir(d): os.makedirs(d)\n",
    "        if not os.path.isdir(ROOT): os.makedirs(ROOT)\n",
    "\n",
    "def makedirs(d):\n",
    "    if COLAB:\n",
    "        if not os.path.isdir(ROOT+d): os.makedirs(ROOT+d)\n",
    "    else:\n",
    "        if not os.path.isdir(ROOT+d): os.makedirs(ROOT+d, mode=0o777, exist_ok=True)\n",
    "\n",
    "for d in ['orig','data','output']: makedirs(d)"
   ],
   "metadata": {
    "collapsed": false
   }
  },
  {
   "cell_type": "code",
   "execution_count": 5,
   "outputs": [
    {
     "name": "stdout",
     "output_type": "stream",
     "text": [
      "Using local copy...\n",
      "(5589, 37)\n"
     ]
    },
    {
     "data": {
      "text/plain": "   BRANCH_COUNT  CALL_PAIRS  LOC_CODE_AND_COMMENT  LOC_COMMENTS  CONDITION_COUNT  CYCLOMATIC_COMPLEXITY  CYCLOMATIC_DENSITY  DECISION_COUNT  DECISION_DENSITY  DESIGN_COMPLEXITY  DESIGN_DENSITY  EDGE_COUNT  ESSENTIAL_COMPLEXITY  ESSENTIAL_DENSITY  LOC_EXECUTABLE  PARAMETER_COUNT  HALSTEAD_CONTENT  HALSTEAD_DIFFICULTY  HALSTEAD_EFFORT  HALSTEAD_ERROR_EST  HALSTEAD_LENGTH  HALSTEAD_LEVEL  HALSTEAD_PROG_TIME  HALSTEAD_VOLUME  MAINTENANCE_SEVERITY  MODIFIED_CONDITION_COUNT  MULTIPLE_CONDITION_COUNT  NODE_COUNT  NORMALIZED_CYLOMATIC_COMPLEXITY  NUM_OPERANDS  NUM_OPERATORS  NUM_UNIQUE_OPERANDS  NUM_UNIQUE_OPERATORS  NUMBER_OF_LINES  PERCENT_COMMENTS  LOC_TOTAL  defects\n0           1.0         0.0                   0.0           0.0              0.0                    1.0                1.00             0.0               0.0                1.0             1.0         1.0                   1.0                0.0             0.0              2.0              5.33                 1.50            12.00                0.00              4.0            0.67                0.67             8.00                   1.0                       0.0                       0.0         2.0                             0.50           1.0            3.0                  1.0                   3.0              2.0              0.00        0.0    False\n1           1.0         1.0                   0.0           0.0              0.0                    1.0                1.00             0.0               0.0                1.0             1.0         2.0                   1.0                0.0             0.0              1.0              0.00                 0.00             0.00                0.00              1.0            0.00                0.00             0.00                   1.0                       0.0                       0.0         3.0                             1.00           1.0            0.0                  1.0                   0.0              1.0              0.00        0.0    False\n2           1.0         4.0                   7.0          24.0              0.0                    1.0                0.13             0.0               0.0                1.0             1.0         6.0                   1.0                0.0             1.0              0.0             17.88                 7.43           986.77                0.04             34.0            0.13               54.82           132.83                   1.0                       0.0                       0.0         7.0                             0.03          13.0           21.0                  7.0                   8.0             34.0             96.88        8.0    False\n3           1.0         1.0                  11.0           3.0              0.0                    1.0                0.08             0.0               0.0                1.0             1.0         2.0                   1.0                0.0             1.0              0.0             42.62                 7.81          2598.31                0.11             77.0            0.13              144.35           332.79                   1.0                       0.0                       0.0         3.0                             0.06          29.0           48.0                 13.0                   7.0             17.0             93.33       12.0    False\n4           1.0         1.0                   0.0           0.0              0.0                    1.0                1.00             0.0               0.0                1.0             1.0         2.0                   1.0                0.0             1.0              3.0             33.44                 0.63            13.06                0.01              9.0            1.60                0.73            20.90                   1.0                       0.0                       0.0         3.0                             0.33           5.0            4.0                  4.0                   1.0              3.0              0.00        1.0    False",
      "text/html": "<div>\n<style scoped>\n    .dataframe tbody tr th:only-of-type {\n        vertical-align: middle;\n    }\n\n    .dataframe tbody tr th {\n        vertical-align: top;\n    }\n\n    .dataframe thead th {\n        text-align: right;\n    }\n</style>\n<table border=\"1\" class=\"dataframe\">\n  <thead>\n    <tr style=\"text-align: right;\">\n      <th></th>\n      <th>BRANCH_COUNT</th>\n      <th>CALL_PAIRS</th>\n      <th>LOC_CODE_AND_COMMENT</th>\n      <th>LOC_COMMENTS</th>\n      <th>CONDITION_COUNT</th>\n      <th>CYCLOMATIC_COMPLEXITY</th>\n      <th>CYCLOMATIC_DENSITY</th>\n      <th>DECISION_COUNT</th>\n      <th>DECISION_DENSITY</th>\n      <th>DESIGN_COMPLEXITY</th>\n      <th>DESIGN_DENSITY</th>\n      <th>EDGE_COUNT</th>\n      <th>ESSENTIAL_COMPLEXITY</th>\n      <th>ESSENTIAL_DENSITY</th>\n      <th>LOC_EXECUTABLE</th>\n      <th>PARAMETER_COUNT</th>\n      <th>HALSTEAD_CONTENT</th>\n      <th>HALSTEAD_DIFFICULTY</th>\n      <th>HALSTEAD_EFFORT</th>\n      <th>HALSTEAD_ERROR_EST</th>\n      <th>HALSTEAD_LENGTH</th>\n      <th>HALSTEAD_LEVEL</th>\n      <th>HALSTEAD_PROG_TIME</th>\n      <th>HALSTEAD_VOLUME</th>\n      <th>MAINTENANCE_SEVERITY</th>\n      <th>MODIFIED_CONDITION_COUNT</th>\n      <th>MULTIPLE_CONDITION_COUNT</th>\n      <th>NODE_COUNT</th>\n      <th>NORMALIZED_CYLOMATIC_COMPLEXITY</th>\n      <th>NUM_OPERANDS</th>\n      <th>NUM_OPERATORS</th>\n      <th>NUM_UNIQUE_OPERANDS</th>\n      <th>NUM_UNIQUE_OPERATORS</th>\n      <th>NUMBER_OF_LINES</th>\n      <th>PERCENT_COMMENTS</th>\n      <th>LOC_TOTAL</th>\n      <th>defects</th>\n    </tr>\n  </thead>\n  <tbody>\n    <tr>\n      <th>0</th>\n      <td>1.0</td>\n      <td>0.0</td>\n      <td>0.0</td>\n      <td>0.0</td>\n      <td>0.0</td>\n      <td>1.0</td>\n      <td>1.00</td>\n      <td>0.0</td>\n      <td>0.0</td>\n      <td>1.0</td>\n      <td>1.0</td>\n      <td>1.0</td>\n      <td>1.0</td>\n      <td>0.0</td>\n      <td>0.0</td>\n      <td>2.0</td>\n      <td>5.33</td>\n      <td>1.50</td>\n      <td>12.00</td>\n      <td>0.00</td>\n      <td>4.0</td>\n      <td>0.67</td>\n      <td>0.67</td>\n      <td>8.00</td>\n      <td>1.0</td>\n      <td>0.0</td>\n      <td>0.0</td>\n      <td>2.0</td>\n      <td>0.50</td>\n      <td>1.0</td>\n      <td>3.0</td>\n      <td>1.0</td>\n      <td>3.0</td>\n      <td>2.0</td>\n      <td>0.00</td>\n      <td>0.0</td>\n      <td>False</td>\n    </tr>\n    <tr>\n      <th>1</th>\n      <td>1.0</td>\n      <td>1.0</td>\n      <td>0.0</td>\n      <td>0.0</td>\n      <td>0.0</td>\n      <td>1.0</td>\n      <td>1.00</td>\n      <td>0.0</td>\n      <td>0.0</td>\n      <td>1.0</td>\n      <td>1.0</td>\n      <td>2.0</td>\n      <td>1.0</td>\n      <td>0.0</td>\n      <td>0.0</td>\n      <td>1.0</td>\n      <td>0.00</td>\n      <td>0.00</td>\n      <td>0.00</td>\n      <td>0.00</td>\n      <td>1.0</td>\n      <td>0.00</td>\n      <td>0.00</td>\n      <td>0.00</td>\n      <td>1.0</td>\n      <td>0.0</td>\n      <td>0.0</td>\n      <td>3.0</td>\n      <td>1.00</td>\n      <td>1.0</td>\n      <td>0.0</td>\n      <td>1.0</td>\n      <td>0.0</td>\n      <td>1.0</td>\n      <td>0.00</td>\n      <td>0.0</td>\n      <td>False</td>\n    </tr>\n    <tr>\n      <th>2</th>\n      <td>1.0</td>\n      <td>4.0</td>\n      <td>7.0</td>\n      <td>24.0</td>\n      <td>0.0</td>\n      <td>1.0</td>\n      <td>0.13</td>\n      <td>0.0</td>\n      <td>0.0</td>\n      <td>1.0</td>\n      <td>1.0</td>\n      <td>6.0</td>\n      <td>1.0</td>\n      <td>0.0</td>\n      <td>1.0</td>\n      <td>0.0</td>\n      <td>17.88</td>\n      <td>7.43</td>\n      <td>986.77</td>\n      <td>0.04</td>\n      <td>34.0</td>\n      <td>0.13</td>\n      <td>54.82</td>\n      <td>132.83</td>\n      <td>1.0</td>\n      <td>0.0</td>\n      <td>0.0</td>\n      <td>7.0</td>\n      <td>0.03</td>\n      <td>13.0</td>\n      <td>21.0</td>\n      <td>7.0</td>\n      <td>8.0</td>\n      <td>34.0</td>\n      <td>96.88</td>\n      <td>8.0</td>\n      <td>False</td>\n    </tr>\n    <tr>\n      <th>3</th>\n      <td>1.0</td>\n      <td>1.0</td>\n      <td>11.0</td>\n      <td>3.0</td>\n      <td>0.0</td>\n      <td>1.0</td>\n      <td>0.08</td>\n      <td>0.0</td>\n      <td>0.0</td>\n      <td>1.0</td>\n      <td>1.0</td>\n      <td>2.0</td>\n      <td>1.0</td>\n      <td>0.0</td>\n      <td>1.0</td>\n      <td>0.0</td>\n      <td>42.62</td>\n      <td>7.81</td>\n      <td>2598.31</td>\n      <td>0.11</td>\n      <td>77.0</td>\n      <td>0.13</td>\n      <td>144.35</td>\n      <td>332.79</td>\n      <td>1.0</td>\n      <td>0.0</td>\n      <td>0.0</td>\n      <td>3.0</td>\n      <td>0.06</td>\n      <td>29.0</td>\n      <td>48.0</td>\n      <td>13.0</td>\n      <td>7.0</td>\n      <td>17.0</td>\n      <td>93.33</td>\n      <td>12.0</td>\n      <td>False</td>\n    </tr>\n    <tr>\n      <th>4</th>\n      <td>1.0</td>\n      <td>1.0</td>\n      <td>0.0</td>\n      <td>0.0</td>\n      <td>0.0</td>\n      <td>1.0</td>\n      <td>1.00</td>\n      <td>0.0</td>\n      <td>0.0</td>\n      <td>1.0</td>\n      <td>1.0</td>\n      <td>2.0</td>\n      <td>1.0</td>\n      <td>0.0</td>\n      <td>1.0</td>\n      <td>3.0</td>\n      <td>33.44</td>\n      <td>0.63</td>\n      <td>13.06</td>\n      <td>0.01</td>\n      <td>9.0</td>\n      <td>1.60</td>\n      <td>0.73</td>\n      <td>20.90</td>\n      <td>1.0</td>\n      <td>0.0</td>\n      <td>0.0</td>\n      <td>3.0</td>\n      <td>0.33</td>\n      <td>5.0</td>\n      <td>4.0</td>\n      <td>4.0</td>\n      <td>1.0</td>\n      <td>3.0</td>\n      <td>0.00</td>\n      <td>1.0</td>\n      <td>False</td>\n    </tr>\n  </tbody>\n</table>\n</div>"
     },
     "execution_count": 5,
     "metadata": {},
     "output_type": "execute_result"
    }
   ],
   "source": [
    "filename = f\"{ROOT}/orig/data.csv\"\n",
    "if os.path.isfile(filename):\n",
    "    print(\"Using local copy...\")\n",
    "else:\n",
    "    print(\"Downloading...\")\n",
    "    df = pd.read_csv(\"https://setu-datamining2.github.io/live/topics/21-Assignments/01-NASA_Software_Defect_Datasets/files/pc2.csv\")\n",
    "    df.to_csv(filename, index=False)\n",
    "\n",
    "df = pd.read_csv(filename);\n",
    "print(df.shape)\n",
    "df.head()"
   ],
   "metadata": {
    "collapsed": false
   }
  },
  {
   "cell_type": "markdown",
   "source": [
    "## Table 1 - Summary"
   ],
   "metadata": {
    "collapsed": false
   }
  },
  {
   "cell_type": "markdown",
   "source": [
    "### Attempt 1 - score max 30%\n",
    "\n",
    "* no interpretation\n",
    "* no comparison with paper"
   ],
   "metadata": {
    "collapsed": false
   }
  },
  {
   "cell_type": "code",
   "execution_count": 6,
   "outputs": [
    {
     "data": {
      "text/plain": "(5589, 37)"
     },
     "execution_count": 6,
     "metadata": {},
     "output_type": "execute_result"
    }
   ],
   "source": [
    "df.shape"
   ],
   "metadata": {
    "collapsed": false
   }
  },
  {
   "cell_type": "markdown",
   "source": [
    "### Attempt 2 - score max 40%-50%\n",
    "* interpretation\n",
    "* no comparison with paper"
   ],
   "metadata": {
    "collapsed": false
   }
  },
  {
   "cell_type": "code",
   "execution_count": 7,
   "outputs": [
    {
     "name": "stdout",
     "output_type": "stream",
     "text": [
      "Number of cases:  5589\n",
      "Number of features:  37\n"
     ]
    }
   ],
   "source": [
    "print(\"Number of cases: \", df.shape[0])\n",
    "print(\"Number of features: \", df.shape[1])"
   ],
   "metadata": {
    "collapsed": false
   }
  },
  {
   "cell_type": "markdown",
   "source": [
    "### Attempt 3a - score max 100%\n",
    "* interpretation\n",
    "* comparison with paper\n",
    "\n",
    "Also\n",
    "* use fancier print statements"
   ],
   "metadata": {
    "collapsed": false
   }
  },
  {
   "cell_type": "code",
   "execution_count": 8,
   "outputs": [
    {
     "name": "stdout",
     "output_type": "stream",
     "text": [
      " * Number of cases expected=5589 observed=5589 match=True\n",
      " * Number of features expected=37 observed=37 match=True\n"
     ]
    }
   ],
   "source": [
    "for message, expected, observed in [\n",
    "    (\"Number of cases\", 5589, df.shape[0]),\n",
    "    (\"Number of features\", 37, df.shape[1])\n",
    "]:\n",
    "    match = expected==observed\n",
    "    print(f\" * {message} {expected=} {observed=} {match=}\")"
   ],
   "metadata": {
    "collapsed": false
   }
  },
  {
   "cell_type": "markdown",
   "source": [
    "### Attempt 3b - score max 100%\n",
    "* interpretation\n",
    "* comparison with paper\n",
    "\n",
    "Also\n",
    "* use markdown"
   ],
   "metadata": {
    "collapsed": false
   }
  },
  {
   "cell_type": "code",
   "execution_count": 9,
   "outputs": [
    {
     "data": {
      "text/plain": "<IPython.core.display.Markdown object>",
      "text/markdown": " * Number of cases expected=5589 observed=5589 \n * Number of features expected=37 observed=37 "
     },
     "metadata": {},
     "output_type": "display_data"
    }
   ],
   "source": [
    "messages = []\n",
    "for message, expected, observed in [\n",
    "    (\"Number of cases\", 5589, df.shape[0]),\n",
    "    (\"Number of features\", 37, df.shape[1])\n",
    "]:\n",
    "    match = \"\" if expected==observed else \"FAIL\"\n",
    "    messages.append(f\" * {message} {expected=} {observed=} {match}\")\n",
    "\n",
    "display(Markdown(\"\\n\".join(messages)))"
   ],
   "metadata": {
    "collapsed": false
   }
  },
  {
   "cell_type": "markdown",
   "source": [
    "### Attempt 3c - score max 100%\n",
    "* interpretation\n",
    "* comparison with paper\n",
    "\n",
    "Also\n",
    "* use dataframe"
   ],
   "metadata": {
    "collapsed": false
   }
  },
  {
   "cell_type": "code",
   "execution_count": 10,
   "outputs": [
    {
     "data": {
      "text/plain": "              Message  Expected  Observed\n0     Number of cases      5589      5589\n1  Number of features        37        37",
      "text/html": "<div>\n<style scoped>\n    .dataframe tbody tr th:only-of-type {\n        vertical-align: middle;\n    }\n\n    .dataframe tbody tr th {\n        vertical-align: top;\n    }\n\n    .dataframe thead th {\n        text-align: right;\n    }\n</style>\n<table border=\"1\" class=\"dataframe\">\n  <thead>\n    <tr style=\"text-align: right;\">\n      <th></th>\n      <th>Message</th>\n      <th>Expected</th>\n      <th>Observed</th>\n    </tr>\n  </thead>\n  <tbody>\n    <tr>\n      <th>0</th>\n      <td>Number of cases</td>\n      <td>5589</td>\n      <td>5589</td>\n    </tr>\n    <tr>\n      <th>1</th>\n      <td>Number of features</td>\n      <td>37</td>\n      <td>37</td>\n    </tr>\n  </tbody>\n</table>\n</div>"
     },
     "execution_count": 10,
     "metadata": {},
     "output_type": "execute_result"
    }
   ],
   "source": [
    "data = []\n",
    "for message, expected, observed in [\n",
    "    (\"Number of cases\", 5589, df.shape[0]),\n",
    "    (\"Number of features\", 37, df.shape[1])\n",
    "]:\n",
    "    data.append([message, expected, observed])\n",
    "\n",
    "df_result = pd.DataFrame(data, columns=[\"Message\", \"Expected\", \"Observed\"])\n",
    "df_result.head()\n",
    "# For bonus points add a style to highlight rows that do not match"
   ],
   "metadata": {
    "collapsed": false
   }
  },
  {
   "cell_type": "markdown",
   "source": [
    "## Table 3 by Features"
   ],
   "metadata": {
    "collapsed": false
   }
  },
  {
   "cell_type": "markdown",
   "source": [
    "### A - Identical Features"
   ],
   "metadata": {
    "collapsed": false
   }
  },
  {
   "cell_type": "code",
   "execution_count": 11,
   "outputs": [
    {
     "data": {
      "text/plain": "0"
     },
     "execution_count": 11,
     "metadata": {},
     "output_type": "execute_result"
    }
   ],
   "source": [
    "table_3_A_observed = df.transpose().duplicated().sum()\n",
    "table_3_A_observed"
   ],
   "metadata": {
    "collapsed": false
   }
  },
  {
   "cell_type": "markdown",
   "source": [
    "### B - Constant Features"
   ],
   "metadata": {
    "collapsed": false
   }
  },
  {
   "cell_type": "code",
   "execution_count": 12,
   "outputs": [
    {
     "data": {
      "text/plain": "0"
     },
     "execution_count": 12,
     "metadata": {},
     "output_type": "execute_result"
    }
   ],
   "source": [
    "table_3_B_observed = len(df.columns[df.nunique() <= 1])\n",
    "table_3_B_observed"
   ],
   "metadata": {
    "collapsed": false
   }
  },
  {
   "cell_type": "markdown",
   "source": [
    "### C - Missing Values"
   ],
   "metadata": {
    "collapsed": false
   }
  },
  {
   "cell_type": "code",
   "execution_count": 13,
   "outputs": [
    {
     "data": {
      "text/plain": "0"
     },
     "execution_count": 13,
     "metadata": {},
     "output_type": "execute_result"
    }
   ],
   "source": [
    "table_3_C_observed = df.columns.isna().sum()\n",
    "table_3_C_observed"
   ],
   "metadata": {
    "collapsed": false
   }
  },
  {
   "cell_type": "markdown",
   "source": [
    "### D - Conflicting Values\n",
    "\n",
    "These checks were listed in the document but had issues in being executed:\n",
    " - NUMBER_OF_LINES >= LOC_BLANK (\"LOC_BLANK\" doesn't exist)"
   ],
   "metadata": {
    "collapsed": false
   }
  },
  {
   "cell_type": "markdown",
   "source": [
    "Define the list of Referential Integrity Checks and the amount of features in each check."
   ],
   "metadata": {
    "collapsed": false
   }
  },
  {
   "cell_type": "code",
   "execution_count": 14,
   "outputs": [],
   "source": [
    "referential_integrity_checks = {\n",
    "    \"feature_df.NUMBER_OF_LINES < feature_df.LOC_TOTAL\" : 2,\n",
    "    \"feature_df.NUMBER_OF_LINES < feature_df.LOC_CODE_AND_COMMENT\" : 2,\n",
    "    \"feature_df.NUMBER_OF_LINES < feature_df.LOC_COMMENTS\" : 2,\n",
    "    \"feature_df.NUMBER_OF_LINES < feature_df.LOC_EXECUTABLE\" : 2,\n",
    "    \"feature_df.LOC_TOTAL < feature_df.LOC_EXECUTABLE\" : 2,\n",
    "    \"feature_df.LOC_TOTAL < feature_df.LOC_CODE_AND_COMMENT\" : 2,\n",
    "    \"feature_df.NUM_OPERANDS < feature_df.NUM_UNIQUE_OPERANDS\" : 2,\n",
    "    \"feature_df.NUM_OPERATORS < feature_df.NUM_UNIQUE_OPERATORS\" : 2,\n",
    "    \"feature_df.HALSTEAD_LENGTH != feature_df.NUM_OPERATORS + feature_df.NUM_OPERANDS\" : 3,\n",
    "    \"feature_df.CYCLOMATIC_COMPLEXITY > feature_df.NUM_OPERATORS+1\" : 2,\n",
    "    \"feature_df.CALL_PAIRS > feature_df.NUM_OPERATORS\" : 2,\n",
    "    \"feature_df.HALSTEAD_VOLUME != (feature_df.NUM_OPERATORS + feature_df.NUM_OPERANDS) * np.log2((feature_df.NUM_UNIQUE_OPERATORS + feature_df.NUM_UNIQUE_OPERANDS).astype(np.float32))\" : 5,\n",
    "    \"feature_df.HALSTEAD_LEVEL != (2 / feature_df.NUM_UNIQUE_OPERATORS) * (feature_df.NUM_UNIQUE_OPERANDS / feature_df.NUM_OPERANDS)\" : 4,\n",
    "    \"feature_df.HALSTEAD_DIFFICULTY != (feature_df.NUM_UNIQUE_OPERATORS / 2) * (feature_df.NUM_OPERANDS / feature_df.NUM_UNIQUE_OPERANDS)\" : 4,\n",
    "    \"feature_df.HALSTEAD_CONTENT != feature_df.HALSTEAD_VOLUME / feature_df.HALSTEAD_DIFFICULTY\" : 3,\n",
    "    \"feature_df.HALSTEAD_EFFORT != feature_df.HALSTEAD_VOLUME * feature_df.HALSTEAD_DIFFICULTY\" : 3,\n",
    "    \"feature_df.HALSTEAD_PROG_TIME != feature_df.HALSTEAD_EFFORT / 18\" : 2\n",
    "}"
   ],
   "metadata": {
    "collapsed": false
   }
  },
  {
   "cell_type": "code",
   "execution_count": 42,
   "outputs": [
    {
     "name": "stdout",
     "output_type": "stream",
     "text": [
      "feature_df.CALL_PAIRS > feature_df.NUM_OPERATORS\n",
      "feature_df.HALSTEAD_VOLUME != (feature_df.NUM_OPERATORS + feature_df.NUM_OPERANDS) * np.log2((feature_df.NUM_UNIQUE_OPERATORS + feature_df.NUM_UNIQUE_OPERANDS).astype(np.float32))\n",
      "feature_df.HALSTEAD_LEVEL != (2 / feature_df.NUM_UNIQUE_OPERATORS) * (feature_df.NUM_UNIQUE_OPERANDS / feature_df.NUM_OPERANDS)\n",
      "feature_df.HALSTEAD_DIFFICULTY != (feature_df.NUM_UNIQUE_OPERATORS / 2) * (feature_df.NUM_OPERANDS / feature_df.NUM_UNIQUE_OPERANDS)\n",
      "feature_df.HALSTEAD_CONTENT != feature_df.HALSTEAD_VOLUME / feature_df.HALSTEAD_DIFFICULTY\n",
      "feature_df.HALSTEAD_EFFORT != feature_df.HALSTEAD_VOLUME * feature_df.HALSTEAD_DIFFICULTY\n",
      "feature_df.HALSTEAD_PROG_TIME != feature_df.HALSTEAD_EFFORT / 18\n"
     ]
    },
    {
     "data": {
      "text/plain": "23"
     },
     "execution_count": 42,
     "metadata": {},
     "output_type": "execute_result"
    }
   ],
   "source": [
    "feature_df = df.copy()\n",
    "def table_3_D():\n",
    "    conflicting_features = 0\n",
    "\n",
    "    for expr, num_features in referential_integrity_checks.items():\n",
    "        if eval(expr).any():\n",
    "            print(expr)\n",
    "            conflicting_features += num_features\n",
    "            continue\n",
    "\n",
    "    return conflicting_features\n",
    "    return\n",
    "\n",
    "table_3_D_observed = table_3_D()\n",
    "table_3_D_observed\n",
    "##print((df['HALSTEAD_VOLUME'] * df['HALSTEAD_DIFFICULTY']))"
   ],
   "metadata": {
    "collapsed": false
   }
  },
  {
   "cell_type": "markdown",
   "source": [
    "### E - Implausible Values"
   ],
   "metadata": {
    "collapsed": false
   }
  },
  {
   "cell_type": "code",
   "execution_count": 16,
   "outputs": [
    {
     "data": {
      "text/plain": "1"
     },
     "execution_count": 16,
     "metadata": {},
     "output_type": "execute_result"
    }
   ],
   "source": [
    "def table_3_E(df):\n",
    "    implausible_features = 0\n",
    "\n",
    "    # Check if any result for LOC_TOTAL is 0\n",
    "    if df.LOC_TOTAL[lambda x: x == 0].count() > 0: implausible_features += 1\n",
    "\n",
    "    # Check for any feature that has a value of less than 0\n",
    "    implausible_features += (df < 0).any().sum()\n",
    "\n",
    "    # Check if any 'COUNT' value is not an integer.\n",
    "    # Because all values in this DF are floats, and because casting these floats to an int\n",
    "    # would change their values if they weren't whole numbers, a modulo operator is used instead.\n",
    "    for col_name, col_values in df.items():\n",
    "        if(\"COUNT\" in col_name):\n",
    "            if col_values.apply(lambda x: x % 1 != 0).any():\n",
    "                implausible_features += 1\n",
    "\n",
    "    return implausible_features\n",
    "\n",
    "table_3_E_observed = table_3_E(df)\n",
    "table_3_E_observed"
   ],
   "metadata": {
    "collapsed": false
   }
  },
  {
   "cell_type": "markdown",
   "source": [
    "### F - Total Problem Features"
   ],
   "metadata": {
    "collapsed": false
   }
  },
  {
   "cell_type": "code",
   "execution_count": 17,
   "outputs": [
    {
     "data": {
      "text/plain": "3"
     },
     "execution_count": 17,
     "metadata": {},
     "output_type": "execute_result"
    }
   ],
   "source": [
    "table_3_F_observed = table_3_A_observed + table_3_B_observed + table_3_C_observed + table_3_D_observed + table_3_E_observed\n",
    "table_3_F_observed"
   ],
   "metadata": {
    "collapsed": false
   }
  },
  {
   "cell_type": "markdown",
   "source": [
    "### Summary"
   ],
   "metadata": {
    "collapsed": false
   }
  },
  {
   "cell_type": "code",
   "execution_count": 18,
   "outputs": [
    {
     "data": {
      "text/plain": "<IPython.core.display.Markdown object>",
      "text/markdown": "**Table 3 (by features) Comparison**"
     },
     "metadata": {},
     "output_type": "display_data"
    },
    {
     "data": {
      "text/plain": "                            Message  Expected  Observed\n0                Identical Features         0         0\n1                 Constant Features         0         0\n2      Features with Missing Values         0         0\n3  Features with Conflicting Values         2         2\n4  Features with Implausible Values         1         1\n5            Total Problem Features         3         3",
      "text/html": "<div>\n<style scoped>\n    .dataframe tbody tr th:only-of-type {\n        vertical-align: middle;\n    }\n\n    .dataframe tbody tr th {\n        vertical-align: top;\n    }\n\n    .dataframe thead th {\n        text-align: right;\n    }\n</style>\n<table border=\"1\" class=\"dataframe\">\n  <thead>\n    <tr style=\"text-align: right;\">\n      <th></th>\n      <th>Message</th>\n      <th>Expected</th>\n      <th>Observed</th>\n    </tr>\n  </thead>\n  <tbody>\n    <tr>\n      <th>0</th>\n      <td>Identical Features</td>\n      <td>0</td>\n      <td>0</td>\n    </tr>\n    <tr>\n      <th>1</th>\n      <td>Constant Features</td>\n      <td>0</td>\n      <td>0</td>\n    </tr>\n    <tr>\n      <th>2</th>\n      <td>Features with Missing Values</td>\n      <td>0</td>\n      <td>0</td>\n    </tr>\n    <tr>\n      <th>3</th>\n      <td>Features with Conflicting Values</td>\n      <td>2</td>\n      <td>2</td>\n    </tr>\n    <tr>\n      <th>4</th>\n      <td>Features with Implausible Values</td>\n      <td>1</td>\n      <td>1</td>\n    </tr>\n    <tr>\n      <th>5</th>\n      <td>Total Problem Features</td>\n      <td>3</td>\n      <td>3</td>\n    </tr>\n  </tbody>\n</table>\n</div>"
     },
     "execution_count": 18,
     "metadata": {},
     "output_type": "execute_result"
    }
   ],
   "source": [
    "data = []\n",
    "for message, expected, observed in [\n",
    "    (\"Identical Features\", 0, table_3_A_observed),\n",
    "    (\"Constant Features\", 0, table_3_B_observed),\n",
    "    (\"Features with Missing Values\", 0, table_3_C_observed),\n",
    "    (\"Features with Conflicting Values\", 2, table_3_D_observed),\n",
    "    (\"Features with Implausible Values\", 1, table_3_E_observed),\n",
    "    (\"Total Problem Features\", 3, table_3_F_observed)\n",
    "]:\n",
    "    data.append([message, expected, observed])\n",
    "\n",
    "df_result = pd.DataFrame(data, columns=[\"Message\", \"Expected\", \"Observed\"])\n",
    "display(Markdown(\"**Table 3 (by features) Comparison**\"))\n",
    "df_result\n",
    "# For bonus points add a style to highlight rows that do not match"
   ],
   "metadata": {
    "collapsed": false
   }
  },
  {
   "cell_type": "markdown",
   "source": [
    "## Table 4 by Case"
   ],
   "metadata": {
    "collapsed": false
   }
  },
  {
   "cell_type": "markdown",
   "source": [
    "### G - Identical Cases"
   ],
   "metadata": {
    "collapsed": false
   }
  },
  {
   "cell_type": "code",
   "execution_count": 19,
   "outputs": [
    {
     "data": {
      "text/plain": "4183"
     },
     "execution_count": 19,
     "metadata": {},
     "output_type": "execute_result"
    }
   ],
   "source": [
    "table_4_G_observed = df.duplicated().sum()\n",
    "table_4_G_observed"
   ],
   "metadata": {
    "collapsed": false
   }
  },
  {
   "cell_type": "markdown",
   "source": [
    "### H - Inconsistent Cases"
   ],
   "metadata": {
    "collapsed": false
   }
  },
  {
   "cell_type": "code",
   "execution_count": 20,
   "outputs": [
    {
     "data": {
      "text/plain": "0"
     },
     "execution_count": 20,
     "metadata": {},
     "output_type": "execute_result"
    }
   ],
   "source": [
    "def table_4_H(local_df):\n",
    "\n",
    "    # Get the list of complete duplicates (including class label)\n",
    "    duplicates = local_df.duplicated(keep=False)\n",
    "\n",
    "    # Drop the complete duplicates as we are interested in non-class-label duplicates\n",
    "    local_df = local_df[~duplicates]\n",
    "\n",
    "    # Get the updated list of duplicates, this time skipping the last column (class label)\n",
    "    duplicates_with_different_class_label = local_df.duplicated(subset=local_df.columns[:-1], keep=False)\n",
    "    return duplicates_with_different_class_label\n",
    "\n",
    "table_4_H_observed = table_4_H(df).sum()\n",
    "table_4_H_observed"
   ],
   "metadata": {
    "collapsed": false
   }
  },
  {
   "cell_type": "markdown",
   "source": [
    "### I - Missing Values"
   ],
   "metadata": {
    "collapsed": false
   }
  },
  {
   "cell_type": "code",
   "execution_count": 21,
   "outputs": [
    {
     "data": {
      "text/plain": "0"
     },
     "execution_count": 21,
     "metadata": {},
     "output_type": "execute_result"
    }
   ],
   "source": [
    "table_4_I_observed = df.isnull().any(axis=1).sum()\n",
    "table_4_I_observed"
   ],
   "metadata": {
    "collapsed": false
   }
  },
  {
   "cell_type": "markdown",
   "source": [
    "### J - Conflicting Feature Values"
   ],
   "metadata": {
    "collapsed": false
   }
  },
  {
   "cell_type": "code",
   "execution_count": 36,
   "outputs": [
    {
     "name": "stdout",
     "output_type": "stream",
     "text": [
      "feature_df.HALSTEAD_VOLUME != (feature_df.NUM_OPERATORS + feature_df.NUM_OPERANDS) * np.log2((feature_df.NUM_UNIQUE_OPERATORS + feature_df.NUM_UNIQUE_OPERANDS).astype(np.float32))\n",
      "feature_df.HALSTEAD_LEVEL != (2 / feature_df.NUM_UNIQUE_OPERATORS) * (feature_df.NUM_UNIQUE_OPERANDS / feature_df.NUM_OPERANDS)\n",
      "feature_df.HALSTEAD_DIFFICULTY != (feature_df.NUM_UNIQUE_OPERATORS / 2) * (feature_df.NUM_OPERANDS / feature_df.NUM_UNIQUE_OPERANDS)\n",
      "feature_df.HALSTEAD_CONTENT != feature_df.HALSTEAD_VOLUME / feature_df.HALSTEAD_DIFFICULTY\n",
      "feature_df.HALSTEAD_EFFORT != feature_df.HALSTEAD_VOLUME * feature_df.HALSTEAD_DIFFICULTY\n",
      "feature_df.HALSTEAD_PROG_TIME != feature_df.HALSTEAD_EFFORT / 18\n"
     ]
    },
    {
     "data": {
      "text/plain": "  BRANCH_COUNT CALL_PAIRS LOC_CODE_AND_COMMENT LOC_COMMENTS CONDITION_COUNT CYCLOMATIC_COMPLEXITY CYCLOMATIC_DENSITY DECISION_COUNT DECISION_DENSITY DESIGN_COMPLEXITY DESIGN_DENSITY EDGE_COUNT ESSENTIAL_COMPLEXITY ESSENTIAL_DENSITY LOC_EXECUTABLE PARAMETER_COUNT HALSTEAD_CONTENT HALSTEAD_DIFFICULTY HALSTEAD_EFFORT HALSTEAD_ERROR_EST HALSTEAD_LENGTH HALSTEAD_LEVEL HALSTEAD_PROG_TIME HALSTEAD_VOLUME MAINTENANCE_SEVERITY MODIFIED_CONDITION_COUNT MULTIPLE_CONDITION_COUNT NODE_COUNT NORMALIZED_CYLOMATIC_COMPLEXITY NUM_OPERANDS NUM_OPERATORS NUM_UNIQUE_OPERANDS NUM_UNIQUE_OPERATORS NUMBER_OF_LINES PERCENT_COMMENTS LOC_TOTAL defects\n2          1.0        4.0                  7.0         24.0             0.0                   1.0               0.13            0.0              0.0               1.0            1.0        6.0                  1.0               0.0            1.0             0.0            17.88                7.43          986.77               0.04            34.0           0.13              54.82          132.83                  1.0                      0.0                      0.0        7.0                            0.03         13.0          21.0                 7.0                  8.0            34.0            96.88       8.0   False",
      "text/html": "<div>\n<style scoped>\n    .dataframe tbody tr th:only-of-type {\n        vertical-align: middle;\n    }\n\n    .dataframe tbody tr th {\n        vertical-align: top;\n    }\n\n    .dataframe thead th {\n        text-align: right;\n    }\n</style>\n<table border=\"1\" class=\"dataframe\">\n  <thead>\n    <tr style=\"text-align: right;\">\n      <th></th>\n      <th>BRANCH_COUNT</th>\n      <th>CALL_PAIRS</th>\n      <th>LOC_CODE_AND_COMMENT</th>\n      <th>LOC_COMMENTS</th>\n      <th>CONDITION_COUNT</th>\n      <th>CYCLOMATIC_COMPLEXITY</th>\n      <th>CYCLOMATIC_DENSITY</th>\n      <th>DECISION_COUNT</th>\n      <th>DECISION_DENSITY</th>\n      <th>DESIGN_COMPLEXITY</th>\n      <th>DESIGN_DENSITY</th>\n      <th>EDGE_COUNT</th>\n      <th>ESSENTIAL_COMPLEXITY</th>\n      <th>ESSENTIAL_DENSITY</th>\n      <th>LOC_EXECUTABLE</th>\n      <th>PARAMETER_COUNT</th>\n      <th>HALSTEAD_CONTENT</th>\n      <th>HALSTEAD_DIFFICULTY</th>\n      <th>HALSTEAD_EFFORT</th>\n      <th>HALSTEAD_ERROR_EST</th>\n      <th>HALSTEAD_LENGTH</th>\n      <th>HALSTEAD_LEVEL</th>\n      <th>HALSTEAD_PROG_TIME</th>\n      <th>HALSTEAD_VOLUME</th>\n      <th>MAINTENANCE_SEVERITY</th>\n      <th>MODIFIED_CONDITION_COUNT</th>\n      <th>MULTIPLE_CONDITION_COUNT</th>\n      <th>NODE_COUNT</th>\n      <th>NORMALIZED_CYLOMATIC_COMPLEXITY</th>\n      <th>NUM_OPERANDS</th>\n      <th>NUM_OPERATORS</th>\n      <th>NUM_UNIQUE_OPERANDS</th>\n      <th>NUM_UNIQUE_OPERATORS</th>\n      <th>NUMBER_OF_LINES</th>\n      <th>PERCENT_COMMENTS</th>\n      <th>LOC_TOTAL</th>\n      <th>defects</th>\n    </tr>\n  </thead>\n  <tbody>\n    <tr>\n      <th>2</th>\n      <td>1.0</td>\n      <td>4.0</td>\n      <td>7.0</td>\n      <td>24.0</td>\n      <td>0.0</td>\n      <td>1.0</td>\n      <td>0.13</td>\n      <td>0.0</td>\n      <td>0.0</td>\n      <td>1.0</td>\n      <td>1.0</td>\n      <td>6.0</td>\n      <td>1.0</td>\n      <td>0.0</td>\n      <td>1.0</td>\n      <td>0.0</td>\n      <td>17.88</td>\n      <td>7.43</td>\n      <td>986.77</td>\n      <td>0.04</td>\n      <td>34.0</td>\n      <td>0.13</td>\n      <td>54.82</td>\n      <td>132.83</td>\n      <td>1.0</td>\n      <td>0.0</td>\n      <td>0.0</td>\n      <td>7.0</td>\n      <td>0.03</td>\n      <td>13.0</td>\n      <td>21.0</td>\n      <td>7.0</td>\n      <td>8.0</td>\n      <td>34.0</td>\n      <td>96.88</td>\n      <td>8.0</td>\n      <td>False</td>\n    </tr>\n  </tbody>\n</table>\n</div>"
     },
     "execution_count": 36,
     "metadata": {},
     "output_type": "execute_result"
    }
   ],
   "source": [
    "def find_conflicting_features(local_df):\n",
    "    global feature_df\n",
    "    feature_df = local_df\n",
    "    for expr in referential_integrity_checks:\n",
    "        try:\n",
    "            if eval(expr).all():\n",
    "                print(expr)\n",
    "                #return True\n",
    "        except:\n",
    "            continue\n",
    "\n",
    "    return False\n",
    "\n",
    "#df.loc[3].to_frame().transpose()\n",
    "find_conflicting_features(df.loc[2].to_frame().transpose())\n",
    "feature_df\n",
    "#df.loc[0].to_frame().transpose()\n",
    "#table_4_J_observed = df.apply(lambda row: find_conflicting_features(row.to_frame().transpose()), axis=1).sum()\n",
    "#table_4_J_observed"
   ],
   "metadata": {
    "collapsed": false
   }
  },
  {
   "cell_type": "markdown",
   "source": [
    "### K - Implausible Values"
   ],
   "metadata": {
    "collapsed": false
   }
  },
  {
   "cell_type": "code",
   "execution_count": 23,
   "outputs": [
    {
     "data": {
      "text/plain": "0"
     },
     "execution_count": 23,
     "metadata": {},
     "output_type": "execute_result"
    }
   ],
   "source": [
    "def has_implausible_values(local_df):\n",
    "    # Check if any result for LOC_TOTAL is 0\n",
    "    if local_df.LOC_TOTAL[lambda x: x == 0].any():\n",
    "        return True\n",
    "\n",
    "    # Check for any feature that has a value of less than 0\n",
    "    if (local_df < 0).any().any():\n",
    "        return True\n",
    "\n",
    "    # Check if any 'COUNT' value is not an integer.\n",
    "    # Because all values in this DF are floats, and because casting these floats to an int\n",
    "    # would change their values if they weren't whole numbers, a modulo operator is used instead.\n",
    "    for col_name, col_values in local_df.items():\n",
    "        if \"COUNT\" in col_name:\n",
    "            if col_values.apply(lambda x: x % 1 != 0).any():\n",
    "                return True\n",
    "\n",
    "    return False\n",
    "\n",
    "table_4_K_observed = df.apply(lambda row: has_implausible_values(row.to_frame().transpose()), axis=1).sum()\n",
    "table_4_K_observed"
   ],
   "metadata": {
    "collapsed": false
   }
  },
  {
   "cell_type": "markdown",
   "source": [
    "### L - Total Problem Cases, DS'"
   ],
   "metadata": {
    "collapsed": false
   }
  },
  {
   "cell_type": "code",
   "execution_count": 24,
   "outputs": [
    {
     "ename": "NameError",
     "evalue": "name 'table_4_J_observed' is not defined",
     "output_type": "error",
     "traceback": [
      "\u001B[1;31m---------------------------------------------------------------------------\u001B[0m",
      "\u001B[1;31mNameError\u001B[0m                                 Traceback (most recent call last)",
      "Cell \u001B[1;32mIn[24], line 1\u001B[0m\n\u001B[1;32m----> 1\u001B[0m table_4_L_observed \u001B[38;5;241m=\u001B[39m table_4_I_observed \u001B[38;5;241m+\u001B[39m \u001B[43mtable_4_J_observed\u001B[49m \u001B[38;5;241m+\u001B[39m table_4_K_observed\n",
      "\u001B[1;31mNameError\u001B[0m: name 'table_4_J_observed' is not defined"
     ]
    }
   ],
   "source": [
    "table_4_L_observed = table_4_I_observed + table_4_J_observed + table_4_K_observed"
   ],
   "metadata": {
    "collapsed": false
   }
  },
  {
   "cell_type": "markdown",
   "source": [
    "### M - Total Problem Cases, DS''"
   ],
   "metadata": {
    "collapsed": false
   }
  },
  {
   "cell_type": "code",
   "execution_count": null,
   "outputs": [],
   "source": [
    "table_4_M_observed = table_4_G_observed + table_4_H_observed + table_4_I_observed + table_4_J_observed + table_4_K_observed"
   ],
   "metadata": {
    "collapsed": false
   }
  },
  {
   "cell_type": "code",
   "execution_count": null,
   "outputs": [],
   "source": [
    "data = []\n",
    "for message, expected, observed in [\n",
    "    (\"Identical Cases\", 4621, table_4_G_observed),\n",
    "    (\"Inconsistent Cases\", 100, table_4_H_observed),\n",
    "    (\"Cases with Missing Values\", 0, table_4_I_observed),\n",
    "    (\"Cases with Conflicting Feature Values\", 129, table_4_J_observed),\n",
    "    (\"Cases with Implausible Values\", 1084, table_4_K_observed),\n",
    "    (\"Total Problem Cases, DS'\", 1163, table_4_L_observed),\n",
    "    (\"Total Problem Cases, DS''\", 4297, table_4_M_observed)\n",
    "]:\n",
    "    data.append([message, expected, observed])\n",
    "\n",
    "df_result = pd.DataFrame(data, columns=[\"Message\", \"Expected\", \"Observed\"])\n",
    "display(Markdown(\"**Table 4 (by case) Comparison**\"))\n",
    "df_result\n",
    "# For bonus points add a style to highlight rows that do not match"
   ],
   "metadata": {
    "collapsed": false
   }
  }
 ],
 "metadata": {
  "kernelspec": {
   "display_name": "Python 3",
   "language": "python",
   "name": "python3"
  },
  "language_info": {
   "codemirror_mode": {
    "name": "ipython",
    "version": 2
   },
   "file_extension": ".py",
   "mimetype": "text/x-python",
   "name": "python",
   "nbconvert_exporter": "python",
   "pygments_lexer": "ipython2",
   "version": "2.7.6"
  }
 },
 "nbformat": 4,
 "nbformat_minor": 0
}
