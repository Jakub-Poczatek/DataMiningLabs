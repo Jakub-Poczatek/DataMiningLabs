{
 "cells": [
  {
   "cell_type": "markdown",
   "id": "3db78e0e-d947-493f-9bea-7b486935171e",
   "metadata": {},
   "source": [
    "# US Churn &mdash; Feature Engineering\n"
   ]
  },
  {
   "cell_type": "markdown",
   "id": "0222c66a-98d8-4a52-ac9c-dae2f225dd30",
   "metadata": {},
   "source": [
    "## Setup"
   ]
  },
  {
   "cell_type": "code",
   "execution_count": 958,
   "id": "59fdd448-0bbf-472a-8913-b83b4c609aee",
   "metadata": {},
   "outputs": [
    {
     "name": "stderr",
     "output_type": "stream",
     "text": [
      "C:\\Users\\ichig\\AppData\\Local\\Temp\\ipykernel_10396\\208248166.py:7: MatplotlibDeprecationWarning: The seaborn styles shipped by Matplotlib are deprecated since 3.6, as they no longer correspond to the styles shipped by seaborn. However, they will remain available as 'seaborn-v0_8-<style>'. Alternatively, directly use the seaborn API instead.\n",
      "  plt.style.use(\"seaborn-darkgrid\")\n"
     ]
    }
   ],
   "source": [
    "import pandas as pd\n",
    "import numpy as np\n",
    "import matplotlib.pyplot as plt\n",
    "import seaborn as sns\n",
    "\n",
    "from IPython.display import display, Markdown\n",
    "plt.style.use(\"seaborn-darkgrid\")\n",
    "pd.set_option('display.max_columns', None)  \n",
    "\n",
    "import sys, os, yaml\n",
    "\n",
    "DATASET = \"US_Churn\"\n",
    "\n",
    "COLAB = 'google.colab' in sys.modules\n",
    "if COLAB:\n",
    "    ROOT = f\"/content/gdrive/MyDrive/datasets/{DATASET.replace(' ','_')}/\"\n",
    "else:\n",
    "    ROOT = \"./\"\n",
    "\n",
    "DEBUG = False\n",
    "SEED = 1612"
   ]
  },
  {
   "cell_type": "code",
   "execution_count": 959,
   "id": "87839222-09c8-42ac-951b-b31483bb094a",
   "metadata": {},
   "outputs": [],
   "source": [
    "if COLAB:\n",
    "    from google.colab import drive\n",
    "    if not os.path.isdir(\"/content/gdrive\"):\n",
    "        drive.mount(\"/content/gdrive\")"
   ]
  },
  {
   "cell_type": "markdown",
   "id": "d0c2e643-62f3-4e2f-a124-766ccdf4df0c",
   "metadata": {},
   "source": [
    "## Imports"
   ]
  },
  {
   "cell_type": "code",
   "execution_count": 960,
   "id": "ea0a3002-1778-484b-84a8-c3ae5d02ddda",
   "metadata": {},
   "outputs": [],
   "source": [
    "from sklearn.model_selection import train_test_split\n",
    "\n",
    "from sklearn.preprocessing import StandardScaler\n",
    "\n",
    "from sklearn.linear_model import LogisticRegression\n",
    "from sklearn.tree import DecisionTreeClassifier\n",
    "from sklearn.neural_network import MLPClassifier\n",
    "from sklearn.neighbors import KNeighborsClassifier\n",
    "from sklearn.svm import SVC\n",
    "from sklearn.gaussian_process import GaussianProcessClassifier\n",
    "from sklearn.gaussian_process.kernels import RBF\n",
    "from sklearn.tree import DecisionTreeClassifier\n",
    "from sklearn.ensemble import RandomForestClassifier, AdaBoostClassifier\n",
    "from sklearn.naive_bayes import GaussianNB\n",
    "from sklearn.discriminant_analysis import QuadraticDiscriminantAnalysis\n",
    "\n",
    "from sklearn.model_selection import cross_val_score\n",
    "from sklearn.metrics import confusion_matrix, classification_report"
   ]
  },
  {
   "cell_type": "markdown",
   "id": "816f946c-5174-42a0-9e15-ac65beec63e5",
   "metadata": {},
   "source": [
    "## Datasets"
   ]
  },
  {
   "cell_type": "code",
   "execution_count": 961,
   "id": "1fc44b89-28c8-44da-9268-e29ba3363c96",
   "metadata": {},
   "outputs": [
    {
     "name": "stdout",
     "output_type": "stream",
     "text": [
      "(3333, 20)\n"
     ]
    },
    {
     "data": {
      "text/plain": "  State  Account_Length Area_Code Intl_Plan VMail_Plan  VMail_Message  \\\n0    KS             128         0         0          1             25   \n1    OH             107         0         0          1             26   \n2    NJ             137         0         0          0              0   \n3    OH              84         2         1          0              0   \n4    OK              75         0         1          0              0   \n\n   Day_Mins  Day_Calls  Day_Charge  Eve_Mins  Eve_Calls  Eve_Charge  \\\n0     265.1        110       45.07     197.4         99       16.78   \n1     161.6        123       27.47     195.5        103       16.62   \n2     243.4        114       41.38     121.2        110       10.30   \n3     299.4         71       50.90      61.9         88        5.26   \n4     166.7        113       28.34     148.3        122       12.61   \n\n   Night_Mins  Night_Calls  Night_Charge  Intl_Mins  Intl_Calls  Intl_Charge  \\\n0       244.7           91         11.01       10.0           3         2.70   \n1       254.4          103         11.45       13.7           3         3.70   \n2       162.6          104          7.32       12.2           5         3.29   \n3       196.9           89          8.86        6.6           7         1.78   \n4       186.9          121          8.41       10.1           3         2.73   \n\n   CustServ_Calls Churn  \n0               1     0  \n1               1     0  \n2               0     0  \n3               2     0  \n4               3     0  ",
      "text/html": "<div>\n<style scoped>\n    .dataframe tbody tr th:only-of-type {\n        vertical-align: middle;\n    }\n\n    .dataframe tbody tr th {\n        vertical-align: top;\n    }\n\n    .dataframe thead th {\n        text-align: right;\n    }\n</style>\n<table border=\"1\" class=\"dataframe\">\n  <thead>\n    <tr style=\"text-align: right;\">\n      <th></th>\n      <th>State</th>\n      <th>Account_Length</th>\n      <th>Area_Code</th>\n      <th>Intl_Plan</th>\n      <th>VMail_Plan</th>\n      <th>VMail_Message</th>\n      <th>Day_Mins</th>\n      <th>Day_Calls</th>\n      <th>Day_Charge</th>\n      <th>Eve_Mins</th>\n      <th>Eve_Calls</th>\n      <th>Eve_Charge</th>\n      <th>Night_Mins</th>\n      <th>Night_Calls</th>\n      <th>Night_Charge</th>\n      <th>Intl_Mins</th>\n      <th>Intl_Calls</th>\n      <th>Intl_Charge</th>\n      <th>CustServ_Calls</th>\n      <th>Churn</th>\n    </tr>\n  </thead>\n  <tbody>\n    <tr>\n      <th>0</th>\n      <td>KS</td>\n      <td>128</td>\n      <td>0</td>\n      <td>0</td>\n      <td>1</td>\n      <td>25</td>\n      <td>265.1</td>\n      <td>110</td>\n      <td>45.07</td>\n      <td>197.4</td>\n      <td>99</td>\n      <td>16.78</td>\n      <td>244.7</td>\n      <td>91</td>\n      <td>11.01</td>\n      <td>10.0</td>\n      <td>3</td>\n      <td>2.70</td>\n      <td>1</td>\n      <td>0</td>\n    </tr>\n    <tr>\n      <th>1</th>\n      <td>OH</td>\n      <td>107</td>\n      <td>0</td>\n      <td>0</td>\n      <td>1</td>\n      <td>26</td>\n      <td>161.6</td>\n      <td>123</td>\n      <td>27.47</td>\n      <td>195.5</td>\n      <td>103</td>\n      <td>16.62</td>\n      <td>254.4</td>\n      <td>103</td>\n      <td>11.45</td>\n      <td>13.7</td>\n      <td>3</td>\n      <td>3.70</td>\n      <td>1</td>\n      <td>0</td>\n    </tr>\n    <tr>\n      <th>2</th>\n      <td>NJ</td>\n      <td>137</td>\n      <td>0</td>\n      <td>0</td>\n      <td>0</td>\n      <td>0</td>\n      <td>243.4</td>\n      <td>114</td>\n      <td>41.38</td>\n      <td>121.2</td>\n      <td>110</td>\n      <td>10.30</td>\n      <td>162.6</td>\n      <td>104</td>\n      <td>7.32</td>\n      <td>12.2</td>\n      <td>5</td>\n      <td>3.29</td>\n      <td>0</td>\n      <td>0</td>\n    </tr>\n    <tr>\n      <th>3</th>\n      <td>OH</td>\n      <td>84</td>\n      <td>2</td>\n      <td>1</td>\n      <td>0</td>\n      <td>0</td>\n      <td>299.4</td>\n      <td>71</td>\n      <td>50.90</td>\n      <td>61.9</td>\n      <td>88</td>\n      <td>5.26</td>\n      <td>196.9</td>\n      <td>89</td>\n      <td>8.86</td>\n      <td>6.6</td>\n      <td>7</td>\n      <td>1.78</td>\n      <td>2</td>\n      <td>0</td>\n    </tr>\n    <tr>\n      <th>4</th>\n      <td>OK</td>\n      <td>75</td>\n      <td>0</td>\n      <td>1</td>\n      <td>0</td>\n      <td>0</td>\n      <td>166.7</td>\n      <td>113</td>\n      <td>28.34</td>\n      <td>148.3</td>\n      <td>122</td>\n      <td>12.61</td>\n      <td>186.9</td>\n      <td>121</td>\n      <td>8.41</td>\n      <td>10.1</td>\n      <td>3</td>\n      <td>2.73</td>\n      <td>3</td>\n      <td>0</td>\n    </tr>\n  </tbody>\n</table>\n</div>"
     },
     "execution_count": 961,
     "metadata": {},
     "output_type": "execute_result"
    }
   ],
   "source": [
    "df = pd.read_pickle(f\"{ROOT}/data/churn.pkl\")\n",
    "print(df.shape)\n",
    "df.head()"
   ]
  },
  {
   "cell_type": "code",
   "execution_count": 962,
   "id": "22c29506-bb73-461f-b78e-d2541b99e735",
   "metadata": {},
   "outputs": [],
   "source": [
    "# drop feature that I have not yet considered properly in EDA\n",
    "for c in [\"State\"]:\n",
    "    if c in df.columns: df.drop(c, axis='columns', inplace=True)"
   ]
  },
  {
   "cell_type": "markdown",
   "id": "9f2ace58-5777-437c-9e7a-6adb99c9d5b0",
   "metadata": {
    "tags": []
   },
   "source": [
    "## Pre-process Data"
   ]
  },
  {
   "cell_type": "code",
   "execution_count": 963,
   "id": "ca75f3be-3715-4868-96e3-0052eadca0a2",
   "metadata": {
    "tags": []
   },
   "outputs": [
    {
     "data": {
      "text/plain": "((1999, 19), (1334, 19))"
     },
     "execution_count": 963,
     "metadata": {},
     "output_type": "execute_result"
    }
   ],
   "source": [
    "df_train, df_test = train_test_split(df, stratify=df.Churn, train_size=0.60, random_state=SEED)\n",
    "df_train.shape, df_test.shape"
   ]
  },
  {
   "cell_type": "code",
   "execution_count": 964,
   "id": "0fd28ea0-b1ad-4fba-b647-e47c4bda6dc4",
   "metadata": {},
   "outputs": [
    {
     "name": "stdout",
     "output_type": "stream",
     "text": [
      "Target: Churn\n",
      "Categorical Features: ['Area_Code', 'Intl_Plan', 'VMail_Plan']\n",
      "Numerical Features: ['Account_Length', 'VMail_Message', 'Day_Mins', 'Day_Calls', 'Day_Charge', 'Eve_Mins', 'Eve_Calls', 'Eve_Charge', 'Night_Mins', 'Night_Calls', 'Night_Charge', 'Intl_Mins', 'Intl_Calls', 'Intl_Charge', 'CustServ_Calls']\n",
      "Number of Features: 18\n"
     ]
    }
   ],
   "source": [
    "target = \"Churn\"\n",
    "cat_features = [c for c in df.select_dtypes(\"category\").columns if c not in target]\n",
    "num_features = [c for c in df.select_dtypes([\"int\",\"float\"]).columns if c not in target]\n",
    "features = cat_features + num_features\n",
    "\n",
    "print(f\"Target: {target}\")\n",
    "\n",
    "print(f\"Categorical Features: {cat_features}\")\n",
    "print(f\"Numerical Features: {num_features}\")\n",
    "print(f\"Number of Features: {len(features)}\")"
   ]
  },
  {
   "cell_type": "markdown",
   "id": "3d1ac8b6-3055-4db8-bb02-1c7dc22e2cd1",
   "metadata": {
    "Collapsed": "false"
   },
   "source": [
    "## Feature_Engineering \n",
    "\n",
    "Features engineering and selection decisions are carried out on `df_train` ONLY, but resulting operations should be applied to both `df_train` and `df_test`. The simplest way to do this (without repeating code) is to \n",
    "\n",
    " * Perform querys on `df_train` to select new possible features.\n",
    " * Apply operations to `df` and repeat the train/test split USING THE SAME SEED.\n",
    " * You can use the target values in `df_train` but cannot use the target values in `df_test`."
   ]
  },
  {
   "cell_type": "markdown",
   "id": "3819057b-db8d-4bcc-b103-be904249214f",
   "metadata": {
    "Collapsed": "false"
   },
   "source": [
    "### New Feature - Cranky Triskaidekaphobias\n",
    "\n",
    "Would a feature indicating customers who complain and avoid the number 13 be useful in predicting Churn?\n",
    "\n",
    "This is a silly feature, but illustrates the general procedure"
   ]
  },
  {
   "cell_type": "code",
   "execution_count": 965,
   "id": "19c1458e-5cb1-4e97-938f-6071e02a53a7",
   "metadata": {
    "Collapsed": "false"
   },
   "outputs": [
    {
     "data": {
      "text/plain": "      Account_Length Area_Code Intl_Plan VMail_Plan  VMail_Message  Day_Mins  \\\n519               41         2         0          0              0     202.9   \n2012             134         2         0          0              0     183.8   \n3120              96         0         0          1             21     247.6   \n2450             137         1         0          0              0     109.8   \n859               93         2         0          0              0     267.9   \n\n      Day_Calls  Day_Charge  Eve_Mins  Eve_Calls  Eve_Charge  Night_Mins  \\\n519          97       34.49     153.8        104       13.07       113.5   \n2012        111       31.25     123.5         92       10.50       160.7   \n3120         95       42.09     256.3        150       21.79       158.6   \n2450        120       18.67     230.5         86       19.59       255.8   \n859         114       45.54     223.0         74       18.96       262.7   \n\n      Night_Calls  Night_Charge  Intl_Mins  Intl_Calls  Intl_Charge  \\\n519            92          5.11        9.0           3         2.43   \n2012          105          7.23        6.1           2         1.65   \n3120           72          7.14       10.8           6         2.92   \n2450          103         11.51       11.9           6         3.21   \n859            90         11.82       11.3           3         3.05   \n\n      CustServ_Calls Churn  \n519                3     0  \n2012               1     0  \n3120               2     0  \n2450               1     0  \n859                3     1  ",
      "text/html": "<div>\n<style scoped>\n    .dataframe tbody tr th:only-of-type {\n        vertical-align: middle;\n    }\n\n    .dataframe tbody tr th {\n        vertical-align: top;\n    }\n\n    .dataframe thead th {\n        text-align: right;\n    }\n</style>\n<table border=\"1\" class=\"dataframe\">\n  <thead>\n    <tr style=\"text-align: right;\">\n      <th></th>\n      <th>Account_Length</th>\n      <th>Area_Code</th>\n      <th>Intl_Plan</th>\n      <th>VMail_Plan</th>\n      <th>VMail_Message</th>\n      <th>Day_Mins</th>\n      <th>Day_Calls</th>\n      <th>Day_Charge</th>\n      <th>Eve_Mins</th>\n      <th>Eve_Calls</th>\n      <th>Eve_Charge</th>\n      <th>Night_Mins</th>\n      <th>Night_Calls</th>\n      <th>Night_Charge</th>\n      <th>Intl_Mins</th>\n      <th>Intl_Calls</th>\n      <th>Intl_Charge</th>\n      <th>CustServ_Calls</th>\n      <th>Churn</th>\n    </tr>\n  </thead>\n  <tbody>\n    <tr>\n      <th>519</th>\n      <td>41</td>\n      <td>2</td>\n      <td>0</td>\n      <td>0</td>\n      <td>0</td>\n      <td>202.9</td>\n      <td>97</td>\n      <td>34.49</td>\n      <td>153.8</td>\n      <td>104</td>\n      <td>13.07</td>\n      <td>113.5</td>\n      <td>92</td>\n      <td>5.11</td>\n      <td>9.0</td>\n      <td>3</td>\n      <td>2.43</td>\n      <td>3</td>\n      <td>0</td>\n    </tr>\n    <tr>\n      <th>2012</th>\n      <td>134</td>\n      <td>2</td>\n      <td>0</td>\n      <td>0</td>\n      <td>0</td>\n      <td>183.8</td>\n      <td>111</td>\n      <td>31.25</td>\n      <td>123.5</td>\n      <td>92</td>\n      <td>10.50</td>\n      <td>160.7</td>\n      <td>105</td>\n      <td>7.23</td>\n      <td>6.1</td>\n      <td>2</td>\n      <td>1.65</td>\n      <td>1</td>\n      <td>0</td>\n    </tr>\n    <tr>\n      <th>3120</th>\n      <td>96</td>\n      <td>0</td>\n      <td>0</td>\n      <td>1</td>\n      <td>21</td>\n      <td>247.6</td>\n      <td>95</td>\n      <td>42.09</td>\n      <td>256.3</td>\n      <td>150</td>\n      <td>21.79</td>\n      <td>158.6</td>\n      <td>72</td>\n      <td>7.14</td>\n      <td>10.8</td>\n      <td>6</td>\n      <td>2.92</td>\n      <td>2</td>\n      <td>0</td>\n    </tr>\n    <tr>\n      <th>2450</th>\n      <td>137</td>\n      <td>1</td>\n      <td>0</td>\n      <td>0</td>\n      <td>0</td>\n      <td>109.8</td>\n      <td>120</td>\n      <td>18.67</td>\n      <td>230.5</td>\n      <td>86</td>\n      <td>19.59</td>\n      <td>255.8</td>\n      <td>103</td>\n      <td>11.51</td>\n      <td>11.9</td>\n      <td>6</td>\n      <td>3.21</td>\n      <td>1</td>\n      <td>0</td>\n    </tr>\n    <tr>\n      <th>859</th>\n      <td>93</td>\n      <td>2</td>\n      <td>0</td>\n      <td>0</td>\n      <td>0</td>\n      <td>267.9</td>\n      <td>114</td>\n      <td>45.54</td>\n      <td>223.0</td>\n      <td>74</td>\n      <td>18.96</td>\n      <td>262.7</td>\n      <td>90</td>\n      <td>11.82</td>\n      <td>11.3</td>\n      <td>3</td>\n      <td>3.05</td>\n      <td>3</td>\n      <td>1</td>\n    </tr>\n  </tbody>\n</table>\n</div>"
     },
     "execution_count": 965,
     "metadata": {},
     "output_type": "execute_result"
    }
   ],
   "source": [
    "my_query = df_train.query('CustServ_Calls>0 & Day_Calls!=13 & Eve_Calls!=13 & Night_Calls!=13 & Intl_Calls!=13')\n",
    "my_query.head()"
   ]
  },
  {
   "cell_type": "code",
   "execution_count": 966,
   "id": "a8bc6024-c90f-4ab9-9774-bf00cca1c7f0",
   "metadata": {
    "Collapsed": "false"
   },
   "outputs": [],
   "source": [
    "df[\"Cranky_Triskaidekaphobias\"] = df.apply (lambda row: (row.CustServ_Calls>0\n",
    "            and row.Day_Calls!=13 and row.Eve_Calls!=13\n",
    "            and row.Night_Calls!=13 and row.Intl_Calls!=13), axis=1)"
   ]
  },
  {
   "cell_type": "code",
   "execution_count": 967,
   "id": "62dec952-1cad-4e47-b31f-0dbe49bd0d3a",
   "metadata": {},
   "outputs": [
    {
     "data": {
      "text/plain": "True     2626\nFalse     707\nName: Cranky_Triskaidekaphobias, dtype: int64"
     },
     "execution_count": 967,
     "metadata": {},
     "output_type": "execute_result"
    }
   ],
   "source": [
    "# Test generated feature to ensure has sufficient variability\n",
    "df.Cranky_Triskaidekaphobias.value_counts()"
   ]
  },
  {
   "cell_type": "markdown",
   "source": [
    "The feature increased the amount of features used and decreased the accuracy, hence it has been commmented out."
   ],
   "metadata": {
    "collapsed": false
   }
  },
  {
   "cell_type": "markdown",
   "id": "dca2de22-03ea-47f5-88d5-4ca5c6b1d99d",
   "metadata": {
    "Collapsed": "false"
   },
   "source": [
    "### New Feature - Average Time on Day Call\n",
    "Does the amount of time a customer spends on each call, affect their churn rate.\n"
   ]
  },
  {
   "cell_type": "code",
   "execution_count": 968,
   "id": "44c88506-fa77-4dc1-8156-e0de2495dc36",
   "metadata": {},
   "outputs": [
    {
     "data": {
      "text/plain": "count     3333.0\nunique    3260.0\ntop          1.1\nfreq         4.0\nName: DailyCallMinAverage, dtype: float64"
     },
     "execution_count": 968,
     "metadata": {},
     "output_type": "execute_result"
    }
   ],
   "source": [
    "df[\"DailyCallMinAverage\"] = df.apply (lambda row: (row.Day_Mins > 0 and row.Day_Mins / row.Day_Calls), axis=1)\n",
    "df.DailyCallMinAverage.describe()"
   ]
  },
  {
   "cell_type": "markdown",
   "source": [
    "### New Set of Features: Total Charges, Customer Calls and Customer Call Minutes\n",
    "These will mostly be used in creation of future features but will also be standalone features for testing"
   ],
   "metadata": {
    "collapsed": false
   }
  },
  {
   "cell_type": "code",
   "execution_count": 969,
   "outputs": [],
   "source": [
    "df[\"TotalCharges\"] = df.Night_Charge + df.Day_Charge + df.Eve_Charge + df.Intl_Charge\n",
    "df[\"TotalCustomerCalls\"] = df.Night_Calls + df.Eve_Calls + df.Day_Calls + df.Intl_Calls\n",
    "df[\"TotalTimeOnCustomerCalls\"] = df.Day_Mins + df.Eve_Mins + df.Night_Mins + df.Intl_Mins"
   ],
   "metadata": {
    "collapsed": false
   }
  },
  {
   "cell_type": "markdown",
   "source": [
    "### New Feature - Average Charge per call\n",
    "Does the average amount the customer is charged per call affect their churn rate"
   ],
   "metadata": {
    "collapsed": false
   }
  },
  {
   "cell_type": "code",
   "execution_count": 970,
   "id": "94a2622c-a5de-4b3c-ae70-dc0418bdc026",
   "metadata": {
    "Collapsed": "false"
   },
   "outputs": [
    {
     "data": {
      "text/plain": "count    3333.000000\nmean        0.197334\nstd         0.041760\nmin         0.068973\n25%         0.168741\n50%         0.194419\n75%         0.223420\nmax         0.409718\nName: AverageChargePerCall, dtype: float64"
     },
     "execution_count": 970,
     "metadata": {},
     "output_type": "execute_result"
    }
   ],
   "source": [
    "df[\"AverageChargePerCall\"] = df.TotalCharges / df.TotalCustomerCalls\n",
    "df.AverageChargePerCall.describe()"
   ]
  },
  {
   "cell_type": "markdown",
   "id": "735d71a7-315c-49e8-bbf8-b97a770fa75e",
   "metadata": {
    "Collapsed": "false"
   },
   "source": [
    "### New Feature - Complaining Customer with Above Average Charges"
   ]
  },
  {
   "cell_type": "code",
   "execution_count": 971,
   "id": "fb9ffbe2-9c47-48f3-97a6-ad61e7ce31f8",
   "metadata": {
    "Collapsed": "false"
   },
   "outputs": [
    {
     "data": {
      "text/plain": "False    2041\nTrue     1292\nName: ComplainingCustomerWithAboveAverageCharges, dtype: int64"
     },
     "execution_count": 971,
     "metadata": {},
     "output_type": "execute_result"
    }
   ],
   "source": [
    "df[\"ComplainingCustomerWithAboveAverageCharges\"] = df.apply (lambda row: (row.CustServ_Calls > 0 and row.TotalCharges > df.TotalCharges.mean()), axis=1)\n",
    "df.ComplainingCustomerWithAboveAverageCharges.value_counts()"
   ]
  },
  {
   "cell_type": "markdown",
   "id": "036841de-3ca3-44e0-85ee-38bf32930ce7",
   "metadata": {
    "Collapsed": "false"
   },
   "source": [
    "### New Feature - Customers with a voicemail plan that complain\n",
    "Could there be an issue with the voicemail that causes customers to complain enough and eventually leave the company."
   ]
  },
  {
   "cell_type": "code",
   "execution_count": 972,
   "id": "8811d195-a363-44fb-b547-451a177be27e",
   "metadata": {
    "Collapsed": "false"
   },
   "outputs": [
    {
     "data": {
      "text/plain": "False    2604\nTrue      729\nName: ComplainingCustomersWithVMailPlan, dtype: int64"
     },
     "execution_count": 972,
     "metadata": {},
     "output_type": "execute_result"
    }
   ],
   "source": [
    "df[\"ComplainingCustomersWithVMailPlan\"] = df.apply (lambda row: (row.CustServ_Calls > 0) and (row.VMail_Plan==1), axis=1)\n",
    "df.ComplainingCustomersWithVMailPlan.value_counts()"
   ]
  },
  {
   "cell_type": "markdown",
   "id": "ec24303d-de06-40ca-8b44-52e2551067c5",
   "metadata": {
    "Collapsed": "false"
   },
   "source": [
    "### New Feature - TimeOfCall"
   ]
  },
  {
   "cell_type": "code",
   "execution_count": 973,
   "id": "67a67969-b61e-4b9a-80a5-c86724bdf2b4",
   "metadata": {
    "Collapsed": "false"
   },
   "outputs": [
    {
     "data": {
      "text/plain": "3    1158\n2    1094\n1    1081\nName: TimeOfCalls, dtype: int64"
     },
     "execution_count": 973,
     "metadata": {},
     "output_type": "execute_result"
    }
   ],
   "source": [
    "df[\"TimeOfCalls\"] = df.apply(lambda row: 1 if (row.Day_Calls > row.Eve_Calls) and (row.Day_Calls > row.Night_Calls) else 2 if (row.Eve_Calls > row.Day_Calls) and (row.Eve_Calls > row.Night_Calls) else 3, axis=1)\n",
    "df.TimeOfCalls.value_counts()"
   ]
  },
  {
   "cell_type": "markdown",
   "source": [
    "### New Feature - InternationPlanButNoUsage"
   ],
   "metadata": {
    "collapsed": false
   }
  },
  {
   "cell_type": "code",
   "execution_count": 974,
   "outputs": [
    {
     "data": {
      "text/plain": "False    3195\nTrue      138\nName: InterPlanNoUsage, dtype: int64"
     },
     "execution_count": 974,
     "metadata": {},
     "output_type": "execute_result"
    }
   ],
   "source": [
    "df[\"InterPlanNoUsage\"] = df.apply(lambda row: (row.Intl_Plan == 1) and (row.Intl_Mins < df.Intl_Mins.mean()), axis=1)\n",
    "df.InterPlanNoUsage.value_counts()"
   ],
   "metadata": {
    "collapsed": false
   }
  },
  {
   "cell_type": "markdown",
   "source": [
    "### New Feature - AboveAverageAccLenghtBelowAverageTotalMins"
   ],
   "metadata": {
    "collapsed": false
   }
  },
  {
   "cell_type": "code",
   "execution_count": 975,
   "outputs": [
    {
     "data": {
      "text/plain": "False    2535\nTrue      798\nName: AboveAverageAccLenghtBelowAverageTotalMins, dtype: int64"
     },
     "execution_count": 975,
     "metadata": {},
     "output_type": "execute_result"
    }
   ],
   "source": [
    "df[\"AboveAverageAccLenghtBelowAverageTotalMins\"] = df.apply(lambda row: (row.Account_Length > df.Account_Length.mean()) and (row.TotalTimeOnCustomerCalls < df.TotalTimeOnCustomerCalls.mean()), axis=1)\n",
    "df.AboveAverageAccLenghtBelowAverageTotalMins.value_counts()"
   ],
   "metadata": {
    "collapsed": false
   }
  },
  {
   "cell_type": "markdown",
   "source": [
    "### New Feature : IssueFixed"
   ],
   "metadata": {
    "collapsed": false
   }
  },
  {
   "cell_type": "code",
   "execution_count": 976,
   "outputs": [
    {
     "data": {
      "text/plain": "True     1878\nFalse    1455\nName: FixedIssue, dtype: int64"
     },
     "execution_count": 976,
     "metadata": {},
     "output_type": "execute_result"
    }
   ],
   "source": [
    "df[\"FixedIssue\"] = df.apply(lambda row: True if row.CustServ_Calls < 2 else False, axis=1)\n",
    "df.FixedIssue.value_counts()"
   ],
   "metadata": {
    "collapsed": false
   }
  },
  {
   "cell_type": "markdown",
   "source": [
    "### New Feature : BelowAverageAccountLengthAndCustomerServiceCalls"
   ],
   "metadata": {
    "collapsed": false
   }
  },
  {
   "cell_type": "code",
   "execution_count": 977,
   "outputs": [
    {
     "data": {
      "text/plain": "False    2591\nTrue      742\nName: BlwAvgAccLenNAbvAvgCstSrvCls, dtype: int64"
     },
     "execution_count": 977,
     "metadata": {},
     "output_type": "execute_result"
    }
   ],
   "source": [
    "df[\"BlwAvgAccLenNAbvAvgCstSrvCls\"] = df.apply(lambda row: True if (row.Account_Length < df.Account_Length.mean()) and (row.CustServ_Calls > df.CustServ_Calls.mean()) else False, axis=1)\n",
    "df.BlwAvgAccLenNAbvAvgCstSrvCls.value_counts()"
   ],
   "metadata": {
    "collapsed": false
   }
  },
  {
   "cell_type": "markdown",
   "id": "a6eaa0ed-4d33-46de-b8ef-551b70fbabac",
   "metadata": {},
   "source": [
    "### Pre-Processing Data (2)"
   ]
  },
  {
   "cell_type": "code",
   "execution_count": 978,
   "id": "bc28b869-1e4f-489f-a366-ad2ef3a2b852",
   "metadata": {},
   "outputs": [
    {
     "name": "stdout",
     "output_type": "stream",
     "text": [
      "Number of features 31\n",
      "['Account_Length', 'Area_Code', 'Intl_Plan', 'VMail_Plan', 'VMail_Message', 'Day_Mins', 'Day_Calls', 'Day_Charge', 'Eve_Mins', 'Eve_Calls', 'Eve_Charge', 'Night_Mins', 'Night_Calls', 'Night_Charge', 'Intl_Mins', 'Intl_Calls', 'Intl_Charge', 'CustServ_Calls', 'Cranky_Triskaidekaphobias', 'DailyCallMinAverage', 'TotalCharges', 'TotalCustomerCalls', 'TotalTimeOnCustomerCalls', 'AverageChargePerCall', 'ComplainingCustomerWithAboveAverageCharges', 'ComplainingCustomersWithVMailPlan', 'TimeOfCalls', 'InterPlanNoUsage', 'AboveAverageAccLenghtBelowAverageTotalMins', 'FixedIssue', 'BlwAvgAccLenNAbvAvgCstSrvCls']\n"
     ]
    }
   ],
   "source": [
    "df_train, df_test = train_test_split(df, stratify=df[target], test_size=.40, random_state=SEED)\n",
    "features = df.columns.tolist()\n",
    "if target in features: features.remove(target)\n",
    "print(f\"Number of features {len(features)}\\n{features}\")"
   ]
  },
  {
   "cell_type": "code",
   "execution_count": 979,
   "id": "1314f5f4-8965-4cb5-a265-e69db234b2e9",
   "metadata": {},
   "outputs": [],
   "source": [
    "from sklearn.preprocessing import StandardScaler\n",
    "\n",
    "scaler = StandardScaler()\n",
    "\n",
    "X_train = scaler.fit_transform(df_train.loc[:,features].values)\n",
    "y_train = df_train.Churn.values\n",
    "\n",
    "X_test = scaler.transform(df_test.loc[:,features].values)\n",
    "y_test = df_test.Churn.values"
   ]
  },
  {
   "cell_type": "markdown",
   "id": "7aa7f4fb-c6b9-4ac8-b2f3-b189706cd6f6",
   "metadata": {},
   "source": [
    "## Model Selection"
   ]
  },
  {
   "cell_type": "code",
   "execution_count": 980,
   "id": "fd45ab24-aa5b-4a9c-9afa-2ee79ccc7189",
   "metadata": {},
   "outputs": [],
   "source": [
    "models = {\n",
    "    \"LR\": LogisticRegression(),\n",
    "    \"DT\": DecisionTreeClassifier(),\n",
    "    \"DT(max_depth=3)\": DecisionTreeClassifier(max_depth=3),\n",
    "    \"KNN\": KNeighborsClassifier(),\n",
    "    \"SVC\": SVC(),\n",
    "}\n",
    "\n",
    "def train_models():\n",
    "    best = {'name':None, 'mean':0}\n",
    "    \n",
    "    for name,model in models.items():\n",
    "    \n",
    "        scores = cross_val_score(model, X_train, y_train, scoring='accuracy', cv=10)\n",
    "        mean = scores.mean()\n",
    "        std = scores.std()\n",
    "        \n",
    "        print (\"\\nModel %s\" % name)\n",
    "        print (\"\\tCV scores: \" +  \", \".join([f\"{s:.2f}\" for s in scores]))\n",
    "        print (f\"\\tmean={mean:.2%} std={std:.4f}\")\n",
    "    \n",
    "        if mean>best['mean']:\n",
    "            best = {'name':name, 'mean':mean}\n",
    "\n",
    "    print (f\"\\nBest Performing Model {best['name']} with (mean CV of) accuracy = {best['mean']:.2%}\" )\n",
    "    "
   ]
  },
  {
   "cell_type": "code",
   "execution_count": 981,
   "id": "ccd2f216-6ae3-424e-9a60-d7ab6361ab3c",
   "metadata": {},
   "outputs": [
    {
     "name": "stdout",
     "output_type": "stream",
     "text": [
      "\n",
      "Model LR\n",
      "\tCV scores: 0.89, 0.89, 0.90, 0.84, 0.85, 0.89, 0.88, 0.84, 0.89, 0.86\n",
      "\tmean=87.39% std=0.0199\n",
      "\n",
      "Model DT\n",
      "\tCV scores: 0.93, 0.95, 0.92, 0.94, 0.94, 0.94, 0.96, 0.94, 0.94, 0.92\n",
      "\tmean=93.60% std=0.0114\n",
      "\n",
      "Model DT(max_depth=3)\n",
      "\tCV scores: 0.96, 0.96, 0.94, 0.93, 0.96, 0.95, 0.93, 0.96, 0.94, 0.93\n",
      "\tmean=94.75% std=0.0123\n",
      "\n",
      "Model KNN\n",
      "\tCV scores: 0.91, 0.90, 0.89, 0.92, 0.90, 0.88, 0.86, 0.89, 0.88, 0.88\n",
      "\tmean=89.04% std=0.0159\n",
      "\n",
      "Model SVC\n",
      "\tCV scores: 0.93, 0.93, 0.91, 0.93, 0.93, 0.92, 0.89, 0.92, 0.94, 0.91\n",
      "\tmean=91.95% std=0.0131\n",
      "\n",
      "Best Performing Model DT(max_depth=3) with (mean CV of) accuracy = 94.75%\n"
     ]
    }
   ],
   "source": [
    "train_models()"
   ]
  },
  {
   "cell_type": "markdown",
   "id": "b9c88bc1-65a0-44bb-b098-875d6eab87eb",
   "metadata": {
    "Collapsed": "false"
   },
   "source": [
    "## Feature Selection\n",
    "\n",
    "Next we are going to try to reduce the number of features using [RFECV](https://scikit-learn.org/stable/modules/generated/sklearn.feature_selection.RFECV.html) a recursive feature elimination with cross-validation function.\n",
    "\n",
    "RFECV needs a classifier that returns information about feature importance either through a `coef_` attribute or through a `feature_importances_` attribute. \n",
    "Of our models given above will work, only `LogisticRegression` and `DT` provide this information\n"
   ]
  },
  {
   "cell_type": "code",
   "execution_count": 982,
   "id": "fae551a3-19d7-43f9-9d4a-40baade1ec7d",
   "metadata": {},
   "outputs": [
    {
     "name": "stdout",
     "output_type": "stream",
     "text": [
      "Number of features starting: 31\n"
     ]
    }
   ],
   "source": [
    "print(\"Number of features starting:\", len(features))"
   ]
  },
  {
   "cell_type": "code",
   "execution_count": 983,
   "id": "334b8cc2-1a34-4cdc-92bf-ef011e843758",
   "metadata": {
    "Collapsed": "false"
   },
   "outputs": [
    {
     "name": "stdout",
     "output_type": "stream",
     "text": [
      "Optimal number of features : 6\n"
     ]
    },
    {
     "data": {
      "text/plain": "<Figure size 640x480 with 1 Axes>",
      "image/png": "[encoded data removed]"
     },
     "metadata": {},
     "output_type": "display_data"
    }
   ],
   "source": [
    "from sklearn.model_selection import StratifiedKFold\n",
    "from sklearn.feature_selection import RFECV\n",
    "\n",
    "name = 'LR'  # use any LR, DT\n",
    "model = models[name]\n",
    "\n",
    "rfecv = RFECV(estimator=model, step=1, cv=StratifiedKFold(2), scoring=\"accuracy\")\n",
    "rfecv.fit(X_train, y_train)\n",
    "print(\"Optimal number of features : %d\" % rfecv.n_features_)\n",
    "\n",
    "# Plot number of features VS. cross-validation scores\n",
    "plt.figure()\n",
    "plt.title(f\"{name} with RFECV\")\n",
    "plt.xlabel(\"Number of features selected\")\n",
    "plt.ylabel(\"Cross validation score\")\n",
    "results = rfecv.cv_results_\n",
    "plt.plot(range(1, len(results['mean_test_score']) + 1), results['split0_test_score'], label='split0')\n",
    "plt.plot(range(1, len(results['mean_test_score']) + 1), results['split1_test_score'], label='split1')\n",
    "plt.plot(range(1, len(results['mean_test_score']) + 1), results['mean_test_score'], label='mean')\n",
    "plt.legend()\n",
    "plt.show()"
   ]
  },
  {
   "cell_type": "code",
   "execution_count": 984,
   "id": "5892053b-0e9e-4e5c-80c8-d643ff57a528",
   "metadata": {},
   "outputs": [
    {
     "data": {
      "text/plain": "(31, 31)"
     },
     "execution_count": 984,
     "metadata": {},
     "output_type": "execute_result"
    }
   ],
   "source": [
    "len(rfecv.support_), len(features)"
   ]
  },
  {
   "cell_type": "code",
   "execution_count": 985,
   "id": "86f4472a-83d1-46d8-8ed7-7c5cbca43572",
   "metadata": {
    "Collapsed": "false"
   },
   "outputs": [
    {
     "data": {
      "text/plain": "['Intl_Plan',\n 'VMail_Plan',\n 'CustServ_Calls',\n 'TotalCharges',\n 'ComplainingCustomerWithAboveAverageCharges',\n 'FixedIssue']"
     },
     "execution_count": 985,
     "metadata": {},
     "output_type": "execute_result"
    }
   ],
   "source": [
    "# list of features selected\n",
    "if len(rfecv.support_)<len(features):\n",
    "    print(\"It looks like you have run cells out of order. Runn cells from Pre-Processing Data (2)\")\n",
    "\n",
    "features_selected = np.array(features)[rfecv.support_].tolist()\n",
    "features_selected"
   ]
  },
  {
   "cell_type": "markdown",
   "id": "ad7be214-1a6f-4d67-96cc-f97a179a0467",
   "metadata": {
    "Collapsed": "false"
   },
   "source": [
    "### Training - After Feature Selection"
   ]
  },
  {
   "cell_type": "code",
   "execution_count": 986,
   "id": "9589c35c-9104-4add-a9fc-40008a9ff190",
   "metadata": {
    "Collapsed": "false"
   },
   "outputs": [
    {
     "data": {
      "text/plain": "  Intl_Plan VMail_Plan  CustServ_Calls  TotalCharges  \\\n0         0          1               1         75.56   \n\n   ComplainingCustomerWithAboveAverageCharges  FixedIssue Churn  \n0                                        True        True     0  ",
      "text/html": "<div>\n<style scoped>\n    .dataframe tbody tr th:only-of-type {\n        vertical-align: middle;\n    }\n\n    .dataframe tbody tr th {\n        vertical-align: top;\n    }\n\n    .dataframe thead th {\n        text-align: right;\n    }\n</style>\n<table border=\"1\" class=\"dataframe\">\n  <thead>\n    <tr style=\"text-align: right;\">\n      <th></th>\n      <th>Intl_Plan</th>\n      <th>VMail_Plan</th>\n      <th>CustServ_Calls</th>\n      <th>TotalCharges</th>\n      <th>ComplainingCustomerWithAboveAverageCharges</th>\n      <th>FixedIssue</th>\n      <th>Churn</th>\n    </tr>\n  </thead>\n  <tbody>\n    <tr>\n      <th>0</th>\n      <td>0</td>\n      <td>1</td>\n      <td>1</td>\n      <td>75.56</td>\n      <td>True</td>\n      <td>True</td>\n      <td>0</td>\n    </tr>\n  </tbody>\n</table>\n</div>"
     },
     "metadata": {},
     "output_type": "display_data"
    },
    {
     "name": "stdout",
     "output_type": "stream",
     "text": [
      "\n",
      "Model LR\n",
      "\tCV scores: 0.89, 0.88, 0.89, 0.83, 0.85, 0.88, 0.87, 0.84, 0.88, 0.86\n",
      "\tmean=86.74% std=0.0172\n",
      "\n",
      "Model DT\n",
      "\tCV scores: 0.91, 0.92, 0.93, 0.93, 0.93, 0.92, 0.89, 0.92, 0.92, 0.91\n",
      "\tmean=91.55% std=0.0111\n",
      "\n",
      "Model DT(max_depth=3)\n",
      "\tCV scores: 0.96, 0.96, 0.94, 0.93, 0.96, 0.95, 0.93, 0.96, 0.94, 0.93\n",
      "\tmean=94.75% std=0.0123\n",
      "\n",
      "Model KNN\n",
      "\tCV scores: 0.94, 0.94, 0.93, 0.93, 0.94, 0.93, 0.91, 0.94, 0.94, 0.90\n",
      "\tmean=92.95% std=0.0141\n",
      "\n",
      "Model SVC\n",
      "\tCV scores: 0.95, 0.94, 0.94, 0.91, 0.92, 0.94, 0.91, 0.91, 0.94, 0.88\n",
      "\tmean=92.34% std=0.0211\n",
      "\n",
      "Best Performing Model DT(max_depth=3) with (mean CV of) accuracy = 94.75%\n"
     ]
    }
   ],
   "source": [
    "display(df.loc[:, features_selected + [target]].head(1))\n",
    "\n",
    "# normalise \n",
    "X_train = scaler.fit_transform(df_train.loc[:,features_selected].values)\n",
    "y_train = df_train.Churn.values\n",
    "X_test = scaler.transform(df_test.loc[:,features_selected].values)\n",
    "y_test = df_test.Churn.values\n",
    "\n",
    "train_models()"
   ]
  },
  {
   "cell_type": "markdown",
   "id": "58f3b2a3-ae07-47b1-8a89-bb852ba3b568",
   "metadata": {
    "Collapsed": "false"
   },
   "source": [
    "## Submit\n",
    "\n",
    " * Creates zip file to upload of notebooks in project"
   ]
  },
  {
   "cell_type": "code",
   "execution_count": 987,
   "id": "f7ea4913-8a1a-45d8-a6d0-646f748ac7bd",
   "metadata": {},
   "outputs": [
    {
     "name": "stdout",
     "output_type": "stream",
     "text": [
      "Creating zip archive with notbooks ['US_Churn-01-Import.ipynb', 'US_Churn-02-EDA.ipynb', 'US_Churn-03-Baseline_Model.ipynb', 'US_Churn-04-Feature_Engineering.ipynb'] ...\n"
     ]
    }
   ],
   "source": [
    "import glob\n",
    "from zipfile import ZipFile\n",
    "\n",
    "archive = f'{ROOT}/US_Churn_-_Feature_Engineering.zip'\n",
    "\n",
    "if COLAB:\n",
    "    files_to_upload = list(glob.glob(\"/content/gdrive/MyDrive/Colab Notebooks/US_Churn*.ipynb\"))\n",
    "else: \n",
    "    files_to_upload = list(glob.glob(\"US_Churn*.ipynb\"))\n",
    "print(f\"Creating zip archive with notbooks {files_to_upload} ...\")\n",
    "\n",
    "with ZipFile(archive,'w') as zip:\n",
    "    for file in files_to_upload:\n",
    "        basename = file.split(\"/Colab Notebooks/\")[-1]\n",
    "        zip.write(file, basename)"
   ]
  },
  {
   "cell_type": "code",
   "execution_count": 987,
   "id": "b06ae7b0-8370-4721-81d9-12cd92af3ad7",
   "metadata": {},
   "outputs": [],
   "source": []
  }
 ],
 "metadata": {
  "kernelspec": {
   "display_name": "Python 3 (ipykernel)",
   "language": "python",
   "name": "python3"
  },
  "language_info": {
   "codemirror_mode": {
    "name": "ipython",
    "version": 3
   },
   "file_extension": ".py",
   "mimetype": "text/x-python",
   "name": "python",
   "nbconvert_exporter": "python",
   "pygments_lexer": "ipython3",
   "version": "3.9.10"
  },
  "widgets": {
   "application/vnd.jupyter.widget-state+json": {
    "state": {},
    "version_major": 2,
    "version_minor": 0
   }
  }
 },
 "nbformat": 4,
 "nbformat_minor": 5
}
