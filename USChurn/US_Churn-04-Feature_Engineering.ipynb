{
 "cells": [
  {
   "cell_type": "markdown",
   "id": "3db78e0e-d947-493f-9bea-7b486935171e",
   "metadata": {},
   "source": [
    "# US Churn &mdash; Feature Engineering\n"
   ]
  },
  {
   "cell_type": "markdown",
   "id": "0222c66a-98d8-4a52-ac9c-dae2f225dd30",
   "metadata": {},
   "source": [
    "## Setup"
   ]
  },
  {
   "cell_type": "code",
   "execution_count": 5977,
   "id": "59fdd448-0bbf-472a-8913-b83b4c609aee",
   "metadata": {},
   "outputs": [
    {
     "name": "stderr",
     "output_type": "stream",
     "text": [
      "C:\\Users\\Kuba\\AppData\\Local\\Temp\\ipykernel_25616\\208248166.py:7: MatplotlibDeprecationWarning: The seaborn styles shipped by Matplotlib are deprecated since 3.6, as they no longer correspond to the styles shipped by seaborn. However, they will remain available as 'seaborn-v0_8-<style>'. Alternatively, directly use the seaborn API instead.\n",
      "  plt.style.use(\"seaborn-darkgrid\")\n"
     ]
    }
   ],
   "source": [
    "import pandas as pd\n",
    "import numpy as np\n",
    "import matplotlib.pyplot as plt\n",
    "import seaborn as sns\n",
    "\n",
    "from IPython.display import display, Markdown\n",
    "plt.style.use(\"seaborn-darkgrid\")\n",
    "pd.set_option('display.max_columns', None)  \n",
    "\n",
    "import sys, os, yaml\n",
    "\n",
    "DATASET = \"US_Churn\"\n",
    "\n",
    "COLAB = 'google.colab' in sys.modules\n",
    "if COLAB:\n",
    "    ROOT = f\"/content/gdrive/MyDrive/datasets/{DATASET.replace(' ','_')}/\"\n",
    "else:\n",
    "    ROOT = \"./\"\n",
    "\n",
    "DEBUG = False\n",
    "SEED = 1612"
   ]
  },
  {
   "cell_type": "code",
   "execution_count": 5978,
   "id": "87839222-09c8-42ac-951b-b31483bb094a",
   "metadata": {},
   "outputs": [],
   "source": [
    "if COLAB:\n",
    "    from google.colab import drive\n",
    "    if not os.path.isdir(\"/content/gdrive\"):\n",
    "        drive.mount(\"/content/gdrive\")"
   ]
  },
  {
   "cell_type": "markdown",
   "id": "d0c2e643-62f3-4e2f-a124-766ccdf4df0c",
   "metadata": {},
   "source": [
    "## Imports"
   ]
  },
  {
   "cell_type": "code",
   "execution_count": 5979,
   "id": "ea0a3002-1778-484b-84a8-c3ae5d02ddda",
   "metadata": {},
   "outputs": [],
   "source": [
    "from sklearn.model_selection import train_test_split\n",
    "\n",
    "from sklearn.preprocessing import StandardScaler\n",
    "\n",
    "from sklearn.linear_model import LogisticRegression\n",
    "from sklearn.tree import DecisionTreeClassifier\n",
    "from sklearn.neural_network import MLPClassifier\n",
    "from sklearn.neighbors import KNeighborsClassifier\n",
    "from sklearn.svm import SVC\n",
    "from sklearn.gaussian_process import GaussianProcessClassifier\n",
    "from sklearn.gaussian_process.kernels import RBF\n",
    "from sklearn.tree import DecisionTreeClassifier\n",
    "from sklearn.ensemble import RandomForestClassifier, AdaBoostClassifier\n",
    "from sklearn.naive_bayes import GaussianNB\n",
    "from sklearn.discriminant_analysis import QuadraticDiscriminantAnalysis\n",
    "\n",
    "from sklearn.model_selection import cross_val_score\n",
    "from sklearn.metrics import confusion_matrix, classification_report"
   ]
  },
  {
   "cell_type": "markdown",
   "id": "816f946c-5174-42a0-9e15-ac65beec63e5",
   "metadata": {},
   "source": [
    "## Datasets"
   ]
  },
  {
   "cell_type": "code",
   "execution_count": 5980,
   "id": "1fc44b89-28c8-44da-9268-e29ba3363c96",
   "metadata": {},
   "outputs": [
    {
     "name": "stdout",
     "output_type": "stream",
     "text": [
      "(3333, 20)\n"
     ]
    },
    {
     "data": {
      "text/plain": "  State  Account_Length Area_Code Intl_Plan VMail_Plan  VMail_Message  \\\n0    KS             128         0         0          1             25   \n1    OH             107         0         0          1             26   \n2    NJ             137         0         0          0              0   \n3    OH              84         2         1          0              0   \n4    OK              75         0         1          0              0   \n\n   Day_Mins  Day_Calls  Day_Charge  Eve_Mins  Eve_Calls  Eve_Charge  \\\n0     265.1        110       45.07     197.4         99       16.78   \n1     161.6        123       27.47     195.5        103       16.62   \n2     243.4        114       41.38     121.2        110       10.30   \n3     299.4         71       50.90      61.9         88        5.26   \n4     166.7        113       28.34     148.3        122       12.61   \n\n   Night_Mins  Night_Calls  Night_Charge  Intl_Mins  Intl_Calls  Intl_Charge  \\\n0       244.7           91         11.01       10.0           3         2.70   \n1       254.4          103         11.45       13.7           3         3.70   \n2       162.6          104          7.32       12.2           5         3.29   \n3       196.9           89          8.86        6.6           7         1.78   \n4       186.9          121          8.41       10.1           3         2.73   \n\n   CustServ_Calls Churn  \n0               1     0  \n1               1     0  \n2               0     0  \n3               2     0  \n4               3     0  ",
      "text/html": "<div>\n<style scoped>\n    .dataframe tbody tr th:only-of-type {\n        vertical-align: middle;\n    }\n\n    .dataframe tbody tr th {\n        vertical-align: top;\n    }\n\n    .dataframe thead th {\n        text-align: right;\n    }\n</style>\n<table border=\"1\" class=\"dataframe\">\n  <thead>\n    <tr style=\"text-align: right;\">\n      <th></th>\n      <th>State</th>\n      <th>Account_Length</th>\n      <th>Area_Code</th>\n      <th>Intl_Plan</th>\n      <th>VMail_Plan</th>\n      <th>VMail_Message</th>\n      <th>Day_Mins</th>\n      <th>Day_Calls</th>\n      <th>Day_Charge</th>\n      <th>Eve_Mins</th>\n      <th>Eve_Calls</th>\n      <th>Eve_Charge</th>\n      <th>Night_Mins</th>\n      <th>Night_Calls</th>\n      <th>Night_Charge</th>\n      <th>Intl_Mins</th>\n      <th>Intl_Calls</th>\n      <th>Intl_Charge</th>\n      <th>CustServ_Calls</th>\n      <th>Churn</th>\n    </tr>\n  </thead>\n  <tbody>\n    <tr>\n      <th>0</th>\n      <td>KS</td>\n      <td>128</td>\n      <td>0</td>\n      <td>0</td>\n      <td>1</td>\n      <td>25</td>\n      <td>265.1</td>\n      <td>110</td>\n      <td>45.07</td>\n      <td>197.4</td>\n      <td>99</td>\n      <td>16.78</td>\n      <td>244.7</td>\n      <td>91</td>\n      <td>11.01</td>\n      <td>10.0</td>\n      <td>3</td>\n      <td>2.70</td>\n      <td>1</td>\n      <td>0</td>\n    </tr>\n    <tr>\n      <th>1</th>\n      <td>OH</td>\n      <td>107</td>\n      <td>0</td>\n      <td>0</td>\n      <td>1</td>\n      <td>26</td>\n      <td>161.6</td>\n      <td>123</td>\n      <td>27.47</td>\n      <td>195.5</td>\n      <td>103</td>\n      <td>16.62</td>\n      <td>254.4</td>\n      <td>103</td>\n      <td>11.45</td>\n      <td>13.7</td>\n      <td>3</td>\n      <td>3.70</td>\n      <td>1</td>\n      <td>0</td>\n    </tr>\n    <tr>\n      <th>2</th>\n      <td>NJ</td>\n      <td>137</td>\n      <td>0</td>\n      <td>0</td>\n      <td>0</td>\n      <td>0</td>\n      <td>243.4</td>\n      <td>114</td>\n      <td>41.38</td>\n      <td>121.2</td>\n      <td>110</td>\n      <td>10.30</td>\n      <td>162.6</td>\n      <td>104</td>\n      <td>7.32</td>\n      <td>12.2</td>\n      <td>5</td>\n      <td>3.29</td>\n      <td>0</td>\n      <td>0</td>\n    </tr>\n    <tr>\n      <th>3</th>\n      <td>OH</td>\n      <td>84</td>\n      <td>2</td>\n      <td>1</td>\n      <td>0</td>\n      <td>0</td>\n      <td>299.4</td>\n      <td>71</td>\n      <td>50.90</td>\n      <td>61.9</td>\n      <td>88</td>\n      <td>5.26</td>\n      <td>196.9</td>\n      <td>89</td>\n      <td>8.86</td>\n      <td>6.6</td>\n      <td>7</td>\n      <td>1.78</td>\n      <td>2</td>\n      <td>0</td>\n    </tr>\n    <tr>\n      <th>4</th>\n      <td>OK</td>\n      <td>75</td>\n      <td>0</td>\n      <td>1</td>\n      <td>0</td>\n      <td>0</td>\n      <td>166.7</td>\n      <td>113</td>\n      <td>28.34</td>\n      <td>148.3</td>\n      <td>122</td>\n      <td>12.61</td>\n      <td>186.9</td>\n      <td>121</td>\n      <td>8.41</td>\n      <td>10.1</td>\n      <td>3</td>\n      <td>2.73</td>\n      <td>3</td>\n      <td>0</td>\n    </tr>\n  </tbody>\n</table>\n</div>"
     },
     "execution_count": 5980,
     "metadata": {},
     "output_type": "execute_result"
    }
   ],
   "source": [
    "df = pd.read_pickle(f\"{ROOT}/data/churn.pkl\")\n",
    "print(df.shape)\n",
    "df.head()"
   ]
  },
  {
   "cell_type": "code",
   "execution_count": 5981,
   "id": "22c29506-bb73-461f-b78e-d2541b99e735",
   "metadata": {},
   "outputs": [],
   "source": [
    "# drop feature that I have not yet considered properly in EDA\n",
    "for c in [\"State\"]:\n",
    "    if c in df.columns: df.drop(c, axis='columns', inplace=True)"
   ]
  },
  {
   "cell_type": "markdown",
   "id": "9f2ace58-5777-437c-9e7a-6adb99c9d5b0",
   "metadata": {
    "tags": []
   },
   "source": [
    "## Pre-process Data"
   ]
  },
  {
   "cell_type": "code",
   "execution_count": 5982,
   "id": "ca75f3be-3715-4868-96e3-0052eadca0a2",
   "metadata": {
    "tags": []
   },
   "outputs": [
    {
     "data": {
      "text/plain": "((1999, 19), (1334, 19))"
     },
     "execution_count": 5982,
     "metadata": {},
     "output_type": "execute_result"
    }
   ],
   "source": [
    "df_train, df_test = train_test_split(df, stratify=df.Churn, train_size=0.60, random_state=SEED)\n",
    "df_train.shape, df_test.shape"
   ]
  },
  {
   "cell_type": "code",
   "execution_count": 5983,
   "id": "0fd28ea0-b1ad-4fba-b647-e47c4bda6dc4",
   "metadata": {},
   "outputs": [
    {
     "name": "stdout",
     "output_type": "stream",
     "text": [
      "Target: Churn\n",
      "Categorical Features: ['Area_Code', 'Intl_Plan', 'VMail_Plan']\n",
      "Numerical Features: ['Account_Length', 'VMail_Message', 'Day_Mins', 'Day_Calls', 'Day_Charge', 'Eve_Mins', 'Eve_Calls', 'Eve_Charge', 'Night_Mins', 'Night_Calls', 'Night_Charge', 'Intl_Mins', 'Intl_Calls', 'Intl_Charge', 'CustServ_Calls']\n",
      "Number of Features: 18\n"
     ]
    }
   ],
   "source": [
    "target = \"Churn\"\n",
    "cat_features = [c for c in df.select_dtypes(\"category\").columns if c not in target]\n",
    "num_features = [c for c in df.select_dtypes([\"int\",\"float\"]).columns if c not in target]\n",
    "features = cat_features + num_features\n",
    "\n",
    "print(f\"Target: {target}\")\n",
    "\n",
    "print(f\"Categorical Features: {cat_features}\")\n",
    "print(f\"Numerical Features: {num_features}\")\n",
    "print(f\"Number of Features: {len(features)}\")"
   ]
  },
  {
   "cell_type": "markdown",
   "id": "3d1ac8b6-3055-4db8-bb02-1c7dc22e2cd1",
   "metadata": {
    "Collapsed": "false"
   },
   "source": [
    "## Feature_Engineering \n",
    "\n",
    "Features engineering and selection decisions are carried out on `df_train` ONLY, but resulting operations should be applied to both `df_train` and `df_test`. The simplest way to do this (without repeating code) is to \n",
    "\n",
    " * Perform querys on `df_train` to select new possible features.\n",
    " * Apply operations to `df` and repeat the train/test split USING THE SAME SEED.\n",
    " * You can use the target values in `df_train` but cannot use the target values in `df_test`."
   ]
  },
  {
   "cell_type": "markdown",
   "source": [
    "### New Feature: Complainer\n",
    "If a customer has above average amount of customer calls, they may be likely to churn"
   ],
   "metadata": {
    "collapsed": false
   }
  },
  {
   "cell_type": "code",
   "execution_count": 5984,
   "outputs": [],
   "source": [
    "df[\"Complainer\"] = df.apply(lambda row: (row.CustServ_Calls > df.CustServ_Calls.median()), axis=1)"
   ],
   "metadata": {
    "collapsed": false
   }
  },
  {
   "cell_type": "markdown",
   "source": [
    "### New Feature: Loyal\n",
    "A user with above average account length, may be more likely to stick with the company."
   ],
   "metadata": {
    "collapsed": false
   }
  },
  {
   "cell_type": "code",
   "execution_count": 5985,
   "outputs": [],
   "source": [
    "df[\"Loyal\"] = df.apply(lambda row: row.Account_Length > df.Account_Length.mean(), axis=1)"
   ],
   "metadata": {
    "collapsed": false
   }
  },
  {
   "cell_type": "markdown",
   "source": [
    "### New Feature: TotalCharges\n",
    "A sum of all charges. A customer with higher charges may be more likely to churn"
   ],
   "metadata": {
    "collapsed": false
   }
  },
  {
   "cell_type": "code",
   "execution_count": 5986,
   "outputs": [
    {
     "data": {
      "text/plain": "count    3333.000000\nmean       59.449754\nstd        10.502261\nmin        22.930000\n25%        52.380000\n50%        59.470000\n75%        66.480000\nmax        96.150000\nName: TotalCharges, dtype: float64"
     },
     "execution_count": 5986,
     "metadata": {},
     "output_type": "execute_result"
    }
   ],
   "source": [
    "df[\"TotalCharges\"] = df.Night_Charge + df.Day_Charge + df.Eve_Charge + df.Intl_Charge\n",
    "df.TotalCharges.describe()"
   ],
   "metadata": {
    "collapsed": false
   }
  },
  {
   "cell_type": "markdown",
   "source": [
    "### New Feature: BigSpender\n",
    "A customer with above average total spending"
   ],
   "metadata": {
    "collapsed": false
   }
  },
  {
   "cell_type": "code",
   "execution_count": 5987,
   "outputs": [],
   "source": [
    "df[\"BigSpender\"] = df.apply(lambda row: row.TotalCharges > df.TotalCharges.mean(), axis=1)"
   ],
   "metadata": {
    "collapsed": false
   }
  },
  {
   "cell_type": "markdown",
   "source": [
    "### New Feature: TotalCustomerCalls\n",
    "A sum of all calls excluding customer service calls. A customer who doesn't call often may be likely to churn."
   ],
   "metadata": {
    "collapsed": false
   }
  },
  {
   "cell_type": "code",
   "execution_count": 5988,
   "outputs": [
    {
     "data": {
      "text/plain": "count    3333.000000\nmean      305.137114\nstd        34.448164\nmin       191.000000\n25%       282.000000\n50%       305.000000\n75%       328.000000\nmax       416.000000\nName: TotalCustomerCalls, dtype: float64"
     },
     "execution_count": 5988,
     "metadata": {},
     "output_type": "execute_result"
    }
   ],
   "source": [
    "df[\"TotalCustomerCalls\"] = df.Night_Calls + df.Eve_Calls + df.Day_Calls + df.Intl_Calls\n",
    "df.TotalCustomerCalls.describe()"
   ],
   "metadata": {
    "collapsed": false
   }
  },
  {
   "cell_type": "markdown",
   "source": [
    "### New Feature: TalkyTalker\n",
    "A customer with above average TotalCustomerCalls"
   ],
   "metadata": {
    "collapsed": false
   }
  },
  {
   "cell_type": "code",
   "execution_count": 5989,
   "outputs": [],
   "source": [
    "df[\"TalkyTalker\"] = df.apply(lambda row: row.TotalCustomerCalls > df.TotalCustomerCalls.mean(), axis=1)"
   ],
   "metadata": {
    "collapsed": false
   }
  },
  {
   "cell_type": "markdown",
   "source": [
    "### New Feature: TotalTimeOnCustomerCalls\n",
    "A sum of minutes spent on calls excluding customer service calls. A customer who doesn't call for oftgen may be likely to churn."
   ],
   "metadata": {
    "collapsed": false
   }
  },
  {
   "cell_type": "code",
   "execution_count": 5990,
   "outputs": [
    {
     "data": {
      "text/plain": "count    3333.000000\nmean      591.864776\nstd        89.954251\nmin       284.300000\n25%       531.500000\n50%       593.600000\n75%       652.400000\nmax       885.000000\nName: TotalTimeOnCustomerCalls, dtype: float64"
     },
     "execution_count": 5990,
     "metadata": {},
     "output_type": "execute_result"
    }
   ],
   "source": [
    "df[\"TotalTimeOnCustomerCalls\"] = df.Day_Mins + df.Eve_Mins + df.Night_Mins + df.Intl_Mins\n",
    "df.TotalTimeOnCustomerCalls.describe()"
   ],
   "metadata": {
    "collapsed": false
   }
  },
  {
   "cell_type": "markdown",
   "source": [
    "### New Feature: TalkyTalkerButWithMins\n",
    "A customer with above average TotalTimeOnCustomerCalls"
   ],
   "metadata": {
    "collapsed": false
   }
  },
  {
   "cell_type": "code",
   "execution_count": 5991,
   "outputs": [],
   "source": [
    "df[\"TalkyTalkerButWithMins\"] = df.apply(lambda row: row.TotalTimeOnCustomerCalls > df.TotalTimeOnCustomerCalls.mean(), axis=1)"
   ],
   "metadata": {
    "collapsed": false
   }
  },
  {
   "cell_type": "markdown",
   "source": [
    "### New Feature : AverageTimeOnCall\n",
    "Does the average amount of time a customer spends on call affect their churn rate."
   ],
   "metadata": {
    "collapsed": false
   }
  },
  {
   "cell_type": "code",
   "execution_count": 5992,
   "outputs": [],
   "source": [
    "df[\"AverageTimeOnCall\"] = df.apply(lambda row: row.TotalTimeOnCustomerCalls / row.TotalCustomerCalls, axis=1)"
   ],
   "metadata": {
    "collapsed": false
   }
  },
  {
   "cell_type": "markdown",
   "source": [
    "### New Feature - ComplainerAndBigSpender\n",
    "A customer who is a Complainer and Has high charges may be likely to churn."
   ],
   "metadata": {
    "collapsed": false
   }
  },
  {
   "cell_type": "code",
   "execution_count": 5993,
   "outputs": [],
   "source": [
    "df[\"ComplainerAndBigSpender\"] = df.apply (lambda row: row.Complainer and row.BigSpender, axis=1)"
   ],
   "metadata": {
    "collapsed": false
   }
  },
  {
   "cell_type": "markdown",
   "source": [
    "Commenting out this feature will bring the optimal feature amount from 6 to 12, but will also increase accuracy past 94.75%. However, it will also add an element of randomness."
   ],
   "metadata": {
    "collapsed": false
   }
  },
  {
   "cell_type": "markdown",
   "source": [
    "### New Feature - TimeOfCall\n",
    "Since different times of the day have different charges, a customer who makes calls at certain times of the day may get higher charges and churn."
   ],
   "metadata": {
    "collapsed": false
   }
  },
  {
   "cell_type": "code",
   "execution_count": 5994,
   "outputs": [],
   "source": [
    "df[\"TimeOfCall\"] = df.apply(lambda row: 1 if (row.Day_Calls >= row.Eve_Calls) and (row.Day_Calls >= row.Night_Calls) else 2 if (row.Eve_Calls >= row.Day_Calls) and (row.Eve_Calls >= row.Night_Calls) else 3, axis=1)"
   ],
   "metadata": {
    "collapsed": false
   }
  },
  {
   "cell_type": "markdown",
   "source": [
    "### New Feature : IssueFixed\n",
    "If a customer only calls customer service 0 or 1 time, that means they may either have no issues or have their issues fixed the on the first call, otherwise they may be more likely to churn."
   ],
   "metadata": {
    "collapsed": false
   }
  },
  {
   "cell_type": "code",
   "execution_count": 5995,
   "outputs": [],
   "source": [
    "df[\"FixedIssue\"] = df.apply(lambda row: True if row.CustServ_Calls < 2 else False, axis=1)"
   ],
   "metadata": {
    "collapsed": false
   }
  },
  {
   "cell_type": "markdown",
   "source": [
    "### New Feature : NotLoyalAndComplainer\n",
    "A new customer who complains a lot may be more likely to leave"
   ],
   "metadata": {
    "collapsed": false
   }
  },
  {
   "cell_type": "code",
   "execution_count": 5996,
   "outputs": [],
   "source": [
    "df[\"NotLoyalAndComplainer\"] = df.apply(lambda row: (row.Loyal == False) and row.Complainer, axis=1)"
   ],
   "metadata": {
    "collapsed": false
   }
  },
  {
   "cell_type": "markdown",
   "source": [
    "### New Feature : IntlAndVMail\n",
    "A customer who has both voicemail and international plan may be paying more and may be more likely to churn"
   ],
   "metadata": {
    "collapsed": false
   }
  },
  {
   "cell_type": "code",
   "execution_count": 5997,
   "outputs": [],
   "source": [
    "df[\"IntlAndVMail\"] = df.apply(lambda row: (row.Intl_Plan == 1) and (row.VMail_Plan == 1), axis=1);"
   ],
   "metadata": {
    "collapsed": false
   }
  },
  {
   "cell_type": "markdown",
   "source": [
    "### New Feature : ExpensivePlan\n",
    "A customer who has high charges and international and Voice Mail Plans is spending a lot and may be likely to churn"
   ],
   "metadata": {
    "collapsed": false
   }
  },
  {
   "cell_type": "code",
   "execution_count": 5998,
   "outputs": [],
   "source": [
    "df[\"ExpensivePlan\"] = df.apply(lambda row: row.IntlAndVMail and row.BigSpender, axis=1)"
   ],
   "metadata": {
    "collapsed": false
   }
  },
  {
   "cell_type": "markdown",
   "source": [
    "### New Feature : VMailPlanButLowUsage\n",
    "A customer who has a voicemail but isn't using it much may be more likely to churn"
   ],
   "metadata": {
    "collapsed": false
   }
  },
  {
   "cell_type": "code",
   "execution_count": 5999,
   "outputs": [],
   "source": [
    "df[\"VMailPlanButLowUsage\"] = df.apply(lambda row: (row.VMail_Plan == 1) and (row.VMail_Message < df.VMail_Message.mean()), axis=1)"
   ],
   "metadata": {
    "collapsed": false
   }
  },
  {
   "cell_type": "markdown",
   "source": [
    "### New Feature : AreaAndCustomerCalls\n",
    "Depending where a customer lives and is a complainer might affect their churn rate"
   ],
   "metadata": {
    "collapsed": false
   }
  },
  {
   "cell_type": "code",
   "execution_count": 6000,
   "outputs": [],
   "source": [
    "df[\"AreaAndCustomerCalls\"] = df.apply(lambda row: 1 if (row.Area_Code == 0) and (row.CustServ_Calls > 2) else 2 if (row.Area_Code == 1) and (row.CustServ_Calls > 2) else 3 if (row.Area_Code == 2) and (row.CustServ_Calls > 2) else 4, axis=1)"
   ],
   "metadata": {
    "collapsed": false
   }
  },
  {
   "cell_type": "markdown",
   "source": [
    "### New Feature : AccountLenghtByCustServCalls\n",
    "The total amount of customer service calls based on account length and the supplied customer service calls."
   ],
   "metadata": {
    "collapsed": false
   }
  },
  {
   "cell_type": "code",
   "execution_count": 6001,
   "outputs": [],
   "source": [
    "df[\"AccountLenghtByCustServCalls\"] = df.apply(lambda row: row.Account_Length * row.CustServ_Calls, axis=1)"
   ],
   "metadata": {
    "collapsed": false
   }
  },
  {
   "cell_type": "markdown",
   "source": [
    "### New Feature: ExpensivePlanAndComplainer\n",
    "A complaining customer with an expensive plan can be more likely to churn"
   ],
   "metadata": {
    "collapsed": false
   }
  },
  {
   "cell_type": "code",
   "execution_count": 6002,
   "outputs": [],
   "source": [
    "df[\"ExpensivePlanAndComplainer\"] = df.apply(lambda row: row.ExpensivePlan and row.Complainer, axis=1)"
   ],
   "metadata": {
    "collapsed": false
   }
  },
  {
   "cell_type": "markdown",
   "source": [
    "## Unused Features\n",
    "These features have not been applied as they either lower the accuracy or increase the optimal feature count without increasing the accuracy\n",
    "Since we are being graded based on amount of features that pass Optimal Feature Selection. The following features have been included. This raises the optimal features from 6 to 38.\n",
    "For optimal model performance (best balance between OF amount and Accuracy Score), comment out all below features as well as ComplainerAndBigSpender"
   ],
   "metadata": {
    "collapsed": false
   }
  },
  {
   "cell_type": "markdown",
   "source": [
    "### New Feature - Cranky Triskaidekaphobias\n",
    "\n",
    "Would a feature indicating customers who complain and avoid the number 13 be useful in predicting Churn?\n",
    "\n",
    "This is a silly feature, but illustrates the general procedure"
   ],
   "metadata": {
    "collapsed": false
   }
  },
  {
   "cell_type": "code",
   "execution_count": 6003,
   "outputs": [],
   "source": [
    "#my_query = df_train.query('CustServ_Calls>0 & Day_Calls!=13 & Eve_Calls!=13 & Night_Calls!=13 & Intl_Calls!=13')\n",
    "#my_query.head()"
   ],
   "metadata": {
    "collapsed": false
   }
  },
  {
   "cell_type": "code",
   "execution_count": 6004,
   "outputs": [],
   "source": [
    "df[\"Cranky_Triskaidekaphobias\"] = df.apply (lambda row: (row.CustServ_Calls>0\n",
    "            and row.Day_Calls!=13 and row.Eve_Calls!=13\n",
    "            and row.Night_Calls!=13 and row.Intl_Calls!=13), axis=1)"
   ],
   "metadata": {
    "collapsed": false
   }
  },
  {
   "cell_type": "code",
   "execution_count": 6005,
   "outputs": [
    {
     "data": {
      "text/plain": "True     2626\nFalse     707\nName: Cranky_Triskaidekaphobias, dtype: int64"
     },
     "execution_count": 6005,
     "metadata": {},
     "output_type": "execute_result"
    }
   ],
   "source": [
    "# Test generated feature to ensure has sufficient variability\n",
    "df.Cranky_Triskaidekaphobias.value_counts()"
   ],
   "metadata": {
    "collapsed": false
   }
  },
  {
   "cell_type": "markdown",
   "source": [
    "### New Feature - Average Charge per call\n",
    "Does the average amount the customer is charged per call affect their churn rate"
   ],
   "metadata": {
    "collapsed": false
   }
  },
  {
   "cell_type": "code",
   "execution_count": 6006,
   "outputs": [],
   "source": [
    "df[\"AverageChargePerCall\"] = df.TotalCharges / df.TotalCustomerCalls\n",
    "#df.AverageChargePerCall.describe()"
   ],
   "metadata": {
    "collapsed": false
   }
  },
  {
   "cell_type": "markdown",
   "source": [
    "### New Feature - Customers with a voicemail plan that complain\n",
    "Could there be an issue with the voicemail that causes customers to complain enough and eventually leave the company."
   ],
   "metadata": {
    "collapsed": false
   }
  },
  {
   "cell_type": "code",
   "execution_count": 6007,
   "outputs": [],
   "source": [
    "df[\"ComplainingCustomersWithVMailPlan\"] = df.apply (lambda row: (row.CustServ_Calls > 0) and (row.VMail_Plan==1), axis=1)\n",
    "#df.ComplainingCustomersWithVMailPlan.value_counts()"
   ],
   "metadata": {
    "collapsed": false
   }
  },
  {
   "cell_type": "markdown",
   "source": [
    "### New Feature - InternationPlanButNoUsage"
   ],
   "metadata": {
    "collapsed": false
   }
  },
  {
   "cell_type": "code",
   "execution_count": 6008,
   "outputs": [],
   "source": [
    "df[\"InterPlanNoUsage\"] = df.apply(lambda row: (row.Intl_Plan == 1) and (row.Intl_Mins < df.Intl_Mins.mean()), axis=1)\n",
    "#df.InterPlanNoUsage.value_counts()"
   ],
   "metadata": {
    "collapsed": false
   }
  },
  {
   "cell_type": "markdown",
   "source": [
    "### New Feature - Average Time on Day Call\n",
    "Does the amount of time a customer spends on each call, affect their churn rate.\n"
   ],
   "metadata": {
    "collapsed": false
   }
  },
  {
   "cell_type": "code",
   "execution_count": 6009,
   "outputs": [],
   "source": [
    "df[\"DailyCallMinAverage\"] = df.apply (lambda row: (row.Day_Mins > 0 and row.Day_Mins / row.Day_Calls), axis=1)"
   ],
   "metadata": {
    "collapsed": false
   }
  },
  {
   "cell_type": "markdown",
   "source": [
    "### New Feature - AboveAverageAccLenghtBelowAverageTotalMins"
   ],
   "metadata": {
    "collapsed": false
   }
  },
  {
   "cell_type": "code",
   "execution_count": 6010,
   "outputs": [],
   "source": [
    "df[\"AboveAverageAccLenghtBelowAverageTotalMins\"] = df.apply(lambda row: (row.Account_Length > df.Account_Length.mean()) and (row.TotalTimeOnCustomerCalls < df.TotalTimeOnCustomerCalls.mean()), axis=1)\n",
    "#df.AboveAverageAccLenghtBelowAverageTotalMins.value_counts()"
   ],
   "metadata": {
    "collapsed": false
   }
  },
  {
   "cell_type": "markdown",
   "source": [
    "## Pre-Processing Data (2)"
   ],
   "metadata": {
    "collapsed": false
   }
  },
  {
   "cell_type": "code",
   "execution_count": 6011,
   "outputs": [
    {
     "name": "stdout",
     "output_type": "stream",
     "text": [
      "Number of features 43\n",
      "['Account_Length', 'Area_Code', 'Intl_Plan', 'VMail_Plan', 'VMail_Message', 'Day_Mins', 'Day_Calls', 'Day_Charge', 'Eve_Mins', 'Eve_Calls', 'Eve_Charge', 'Night_Mins', 'Night_Calls', 'Night_Charge', 'Intl_Mins', 'Intl_Calls', 'Intl_Charge', 'CustServ_Calls', 'Complainer', 'Loyal', 'TotalCharges', 'BigSpender', 'TotalCustomerCalls', 'TalkyTalker', 'TotalTimeOnCustomerCalls', 'TalkyTalkerButWithMins', 'AverageTimeOnCall', 'ComplainerAndBigSpender', 'TimeOfCall', 'FixedIssue', 'NotLoyalAndComplainer', 'IntlAndVMail', 'ExpensivePlan', 'VMailPlanButLowUsage', 'AreaAndCustomerCalls', 'AccountLenghtByCustServCalls', 'ExpensivePlanAndComplainer', 'Cranky_Triskaidekaphobias', 'AverageChargePerCall', 'ComplainingCustomersWithVMailPlan', 'InterPlanNoUsage', 'DailyCallMinAverage', 'AboveAverageAccLenghtBelowAverageTotalMins']\n"
     ]
    }
   ],
   "source": [
    "df_train, df_test = train_test_split(df, stratify=df[target], test_size=.40, random_state=SEED)\n",
    "features = df.columns.tolist()\n",
    "if target in features: features.remove(target)\n",
    "print(f\"Number of features {len(features)}\\n{features}\")"
   ],
   "metadata": {
    "collapsed": false
   }
  },
  {
   "cell_type": "code",
   "execution_count": 6012,
   "outputs": [],
   "source": [
    "from sklearn.preprocessing import StandardScaler\n",
    "\n",
    "scaler = StandardScaler()\n",
    "\n",
    "X_train = scaler.fit_transform(df_train.loc[:,features].values)\n",
    "y_train = df_train.Churn.values\n",
    "\n",
    "X_test = scaler.transform(df_test.loc[:,features].values)\n",
    "y_test = df_test.Churn.values"
   ],
   "metadata": {
    "collapsed": false
   }
  },
  {
   "cell_type": "markdown",
   "source": [
    "## Model Selection"
   ],
   "metadata": {
    "collapsed": false
   }
  },
  {
   "cell_type": "code",
   "execution_count": 6013,
   "outputs": [],
   "source": [
    "models = {\n",
    "    \"LR\": LogisticRegression(),\n",
    "    \"DT\": DecisionTreeClassifier(),\n",
    "    \"DT(max_depth=3)\": DecisionTreeClassifier(max_depth=3),\n",
    "    \"KNN\": KNeighborsClassifier(),\n",
    "    \"SVC\": SVC(),\n",
    "}\n",
    "\n",
    "def train_models():\n",
    "    best = {'name':None, 'mean':0}\n",
    "\n",
    "    for name,model in models.items():\n",
    "\n",
    "        scores = cross_val_score(model, X_train, y_train, scoring='accuracy', cv=10)\n",
    "        mean = scores.mean()\n",
    "        std = scores.std()\n",
    "\n",
    "        print (\"\\nModel %s\" % name)\n",
    "        print (\"\\tCV scores: \" +  \", \".join([f\"{s:.2f}\" for s in scores]))\n",
    "        print (f\"\\tmean={mean:.2%} std={std:.4f}\")\n",
    "\n",
    "        if mean>best['mean']:\n",
    "            best = {'name':name, 'mean':mean}\n",
    "\n",
    "    print (f\"\\nBest Performing Model {best['name']} with (mean CV of) accuracy = {best['mean']:.2%}\" )\n"
   ],
   "metadata": {
    "collapsed": false
   }
  },
  {
   "cell_type": "code",
   "execution_count": 6014,
   "outputs": [
    {
     "name": "stdout",
     "output_type": "stream",
     "text": [
      "\n",
      "Model LR\n",
      "\tCV scores: 0.91, 0.90, 0.90, 0.86, 0.85, 0.90, 0.88, 0.83, 0.90, 0.86\n",
      "\tmean=87.74% std=0.0235\n",
      "\n",
      "Model DT\n",
      "\tCV scores: 0.94, 0.96, 0.94, 0.92, 0.95, 0.94, 0.95, 0.94, 0.93, 0.93\n",
      "\tmean=94.05% std=0.0126\n",
      "\n",
      "Model DT(max_depth=3)\n",
      "\tCV scores: 0.96, 0.96, 0.94, 0.93, 0.96, 0.95, 0.93, 0.96, 0.94, 0.93\n",
      "\tmean=94.75% std=0.0123\n",
      "\n",
      "Model KNN\n",
      "\tCV scores: 0.88, 0.90, 0.88, 0.90, 0.89, 0.90, 0.85, 0.86, 0.89, 0.88\n",
      "\tmean=88.19% std=0.0147\n",
      "\n",
      "Model SVC\n",
      "\tCV scores: 0.93, 0.93, 0.92, 0.92, 0.93, 0.92, 0.88, 0.91, 0.93, 0.90\n",
      "\tmean=91.54% std=0.0148\n",
      "\n",
      "Best Performing Model DT(max_depth=3) with (mean CV of) accuracy = 94.75%\n"
     ]
    }
   ],
   "source": [
    "train_models()"
   ],
   "metadata": {
    "collapsed": false
   }
  },
  {
   "cell_type": "markdown",
   "source": [
    "## Feature Selection\n",
    "\n",
    "Next we are going to try to reduce the number of features using [RFECV](https://scikit-learn.org/stable/modules/generated/sklearn.feature_selection.RFECV.html) a recursive feature elimination with cross-validation function.\n",
    "\n",
    "RFECV needs a classifier that returns information about feature importance either through a `coef_` attribute or through a `feature_importances_` attribute.\n",
    "Of our models given above will work, only `LogisticRegression` and `DT` provide this information\n"
   ],
   "metadata": {
    "collapsed": false
   }
  },
  {
   "cell_type": "code",
   "execution_count": 6015,
   "outputs": [
    {
     "name": "stdout",
     "output_type": "stream",
     "text": [
      "Number of features starting: 43\n"
     ]
    }
   ],
   "source": [
    "print(\"Number of features starting:\", len(features))"
   ],
   "metadata": {
    "collapsed": false
   }
  },
  {
   "cell_type": "code",
   "execution_count": 6016,
   "outputs": [
    {
     "name": "stdout",
     "output_type": "stream",
     "text": [
      "Optimal number of features : 38\n"
     ]
    },
    {
     "data": {
      "text/plain": "<Figure size 640x480 with 1 Axes>",
      "image/png": "[encoded data removed]"
     },
     "metadata": {},
     "output_type": "display_data"
    }
   ],
   "source": [
    "from sklearn.model_selection import StratifiedKFold\n",
    "from sklearn.feature_selection import RFECV\n",
    "\n",
    "name = 'LR'  # use any LR, DT\n",
    "model = models[name]\n",
    "\n",
    "rfecv = RFECV(estimator=model, step=1, cv=StratifiedKFold(2), scoring=\"accuracy\")\n",
    "rfecv.fit(X_train, y_train)\n",
    "print(\"Optimal number of features : %d\" % rfecv.n_features_)\n",
    "\n",
    "# Plot number of features VS. cross-validation scores\n",
    "plt.figure()\n",
    "plt.title(f\"{name} with RFECV\")\n",
    "plt.xlabel(\"Number of features selected\")\n",
    "plt.ylabel(\"Cross validation score\")\n",
    "results = rfecv.cv_results_\n",
    "plt.plot(range(1, len(results['mean_test_score']) + 1), results['split0_test_score'], label='split0')\n",
    "plt.plot(range(1, len(results['mean_test_score']) + 1), results['split1_test_score'], label='split1')\n",
    "plt.plot(range(1, len(results['mean_test_score']) + 1), results['mean_test_score'], label='mean')\n",
    "plt.legend()\n",
    "plt.show()"
   ],
   "metadata": {
    "collapsed": false
   }
  },
  {
   "cell_type": "code",
   "execution_count": 6017,
   "outputs": [
    {
     "data": {
      "text/plain": "(43, 43)"
     },
     "execution_count": 6017,
     "metadata": {},
     "output_type": "execute_result"
    }
   ],
   "source": [
    "len(rfecv.support_), len(features)"
   ],
   "metadata": {
    "collapsed": false
   }
  },
  {
   "cell_type": "code",
   "execution_count": 6018,
   "outputs": [
    {
     "data": {
      "text/plain": "['Area_Code',\n 'Intl_Plan',\n 'VMail_Plan',\n 'VMail_Message',\n 'Day_Mins',\n 'Day_Calls',\n 'Day_Charge',\n 'Eve_Mins',\n 'Eve_Calls',\n 'Eve_Charge',\n 'Night_Mins',\n 'Night_Calls',\n 'Night_Charge',\n 'Intl_Mins',\n 'Intl_Calls',\n 'Intl_Charge',\n 'CustServ_Calls',\n 'Loyal',\n 'TotalCharges',\n 'BigSpender',\n 'TotalCustomerCalls',\n 'TalkyTalker',\n 'TotalTimeOnCustomerCalls',\n 'TalkyTalkerButWithMins',\n 'ComplainerAndBigSpender',\n 'TimeOfCall',\n 'FixedIssue',\n 'NotLoyalAndComplainer',\n 'IntlAndVMail',\n 'VMailPlanButLowUsage',\n 'AreaAndCustomerCalls',\n 'ExpensivePlanAndComplainer',\n 'Cranky_Triskaidekaphobias',\n 'AverageChargePerCall',\n 'ComplainingCustomersWithVMailPlan',\n 'InterPlanNoUsage',\n 'DailyCallMinAverage',\n 'AboveAverageAccLenghtBelowAverageTotalMins']"
     },
     "execution_count": 6018,
     "metadata": {},
     "output_type": "execute_result"
    }
   ],
   "source": [
    "# list of features selected\n",
    "if len(rfecv.support_)<len(features):\n",
    "    print(\"It looks like you have run cells out of order. Runn cells from Pre-Processing Data (2)\")\n",
    "\n",
    "features_selected = np.array(features)[rfecv.support_].tolist()\n",
    "features_selected"
   ],
   "metadata": {
    "collapsed": false
   }
  },
  {
   "cell_type": "markdown",
   "source": [
    "### Training - After Feature Selection"
   ],
   "metadata": {
    "collapsed": false
   }
  },
  {
   "cell_type": "code",
   "execution_count": 6019,
   "outputs": [
    {
     "data": {
      "text/plain": "  Area_Code Intl_Plan VMail_Plan  VMail_Message  Day_Mins  Day_Calls  \\\n0         0         0          1             25     265.1        110   \n\n   Day_Charge  Eve_Mins  Eve_Calls  Eve_Charge  Night_Mins  Night_Calls  \\\n0       45.07     197.4         99       16.78       244.7           91   \n\n   Night_Charge  Intl_Mins  Intl_Calls  Intl_Charge  CustServ_Calls  Loyal  \\\n0         11.01       10.0           3          2.7               1   True   \n\n   TotalCharges  BigSpender  TotalCustomerCalls  TalkyTalker  \\\n0         75.56        True                 303        False   \n\n   TotalTimeOnCustomerCalls  TalkyTalkerButWithMins  ComplainerAndBigSpender  \\\n0                     717.2                    True                    False   \n\n   TimeOfCall  FixedIssue  NotLoyalAndComplainer  IntlAndVMail  \\\n0           1        True                  False         False   \n\n   VMailPlanButLowUsage  AreaAndCustomerCalls  ExpensivePlanAndComplainer  \\\n0                 False                     4                       False   \n\n   Cranky_Triskaidekaphobias  AverageChargePerCall  \\\n0                       True              0.249373   \n\n   ComplainingCustomersWithVMailPlan  InterPlanNoUsage DailyCallMinAverage  \\\n0                               True             False                2.41   \n\n   AboveAverageAccLenghtBelowAverageTotalMins Churn  \n0                                       False     0  ",
      "text/html": "<div>\n<style scoped>\n    .dataframe tbody tr th:only-of-type {\n        vertical-align: middle;\n    }\n\n    .dataframe tbody tr th {\n        vertical-align: top;\n    }\n\n    .dataframe thead th {\n        text-align: right;\n    }\n</style>\n<table border=\"1\" class=\"dataframe\">\n  <thead>\n    <tr style=\"text-align: right;\">\n      <th></th>\n      <th>Area_Code</th>\n      <th>Intl_Plan</th>\n      <th>VMail_Plan</th>\n      <th>VMail_Message</th>\n      <th>Day_Mins</th>\n      <th>Day_Calls</th>\n      <th>Day_Charge</th>\n      <th>Eve_Mins</th>\n      <th>Eve_Calls</th>\n      <th>Eve_Charge</th>\n      <th>Night_Mins</th>\n      <th>Night_Calls</th>\n      <th>Night_Charge</th>\n      <th>Intl_Mins</th>\n      <th>Intl_Calls</th>\n      <th>Intl_Charge</th>\n      <th>CustServ_Calls</th>\n      <th>Loyal</th>\n      <th>TotalCharges</th>\n      <th>BigSpender</th>\n      <th>TotalCustomerCalls</th>\n      <th>TalkyTalker</th>\n      <th>TotalTimeOnCustomerCalls</th>\n      <th>TalkyTalkerButWithMins</th>\n      <th>ComplainerAndBigSpender</th>\n      <th>TimeOfCall</th>\n      <th>FixedIssue</th>\n      <th>NotLoyalAndComplainer</th>\n      <th>IntlAndVMail</th>\n      <th>VMailPlanButLowUsage</th>\n      <th>AreaAndCustomerCalls</th>\n      <th>ExpensivePlanAndComplainer</th>\n      <th>Cranky_Triskaidekaphobias</th>\n      <th>AverageChargePerCall</th>\n      <th>ComplainingCustomersWithVMailPlan</th>\n      <th>InterPlanNoUsage</th>\n      <th>DailyCallMinAverage</th>\n      <th>AboveAverageAccLenghtBelowAverageTotalMins</th>\n      <th>Churn</th>\n    </tr>\n  </thead>\n  <tbody>\n    <tr>\n      <th>0</th>\n      <td>0</td>\n      <td>0</td>\n      <td>1</td>\n      <td>25</td>\n      <td>265.1</td>\n      <td>110</td>\n      <td>45.07</td>\n      <td>197.4</td>\n      <td>99</td>\n      <td>16.78</td>\n      <td>244.7</td>\n      <td>91</td>\n      <td>11.01</td>\n      <td>10.0</td>\n      <td>3</td>\n      <td>2.7</td>\n      <td>1</td>\n      <td>True</td>\n      <td>75.56</td>\n      <td>True</td>\n      <td>303</td>\n      <td>False</td>\n      <td>717.2</td>\n      <td>True</td>\n      <td>False</td>\n      <td>1</td>\n      <td>True</td>\n      <td>False</td>\n      <td>False</td>\n      <td>False</td>\n      <td>4</td>\n      <td>False</td>\n      <td>True</td>\n      <td>0.249373</td>\n      <td>True</td>\n      <td>False</td>\n      <td>2.41</td>\n      <td>False</td>\n      <td>0</td>\n    </tr>\n  </tbody>\n</table>\n</div>"
     },
     "metadata": {},
     "output_type": "display_data"
    },
    {
     "name": "stdout",
     "output_type": "stream",
     "text": [
      "\n",
      "Model LR\n",
      "\tCV scores: 0.91, 0.90, 0.90, 0.86, 0.85, 0.90, 0.88, 0.83, 0.90, 0.86\n",
      "\tmean=87.89% std=0.0229\n",
      "\n",
      "Model DT\n",
      "\tCV scores: 0.94, 0.96, 0.95, 0.93, 0.95, 0.95, 0.95, 0.97, 0.94, 0.94\n",
      "\tmean=95.00% std=0.0116\n",
      "\n",
      "Model DT(max_depth=3)\n",
      "\tCV scores: 0.96, 0.96, 0.94, 0.93, 0.96, 0.95, 0.93, 0.96, 0.94, 0.93\n",
      "\tmean=94.75% std=0.0123\n",
      "\n",
      "Model KNN\n",
      "\tCV scores: 0.88, 0.91, 0.88, 0.89, 0.88, 0.90, 0.86, 0.88, 0.88, 0.88\n",
      "\tmean=88.14% std=0.0116\n",
      "\n",
      "Model SVC\n",
      "\tCV scores: 0.92, 0.94, 0.91, 0.93, 0.93, 0.91, 0.89, 0.92, 0.93, 0.90\n",
      "\tmean=91.65% std=0.0127\n",
      "\n",
      "Best Performing Model DT with (mean CV of) accuracy = 95.00%\n"
     ]
    }
   ],
   "source": [
    "display(df.loc[:, features_selected + [target]].head(1))\n",
    "\n",
    "# normalise\n",
    "X_train = scaler.fit_transform(df_train.loc[:,features_selected].values)\n",
    "y_train = df_train.Churn.values\n",
    "X_test = scaler.transform(df_test.loc[:,features_selected].values)\n",
    "y_test = df_test.Churn.values\n",
    "\n",
    "train_models()"
   ],
   "metadata": {
    "collapsed": false
   }
  },
  {
   "cell_type": "markdown",
   "id": "58f3b2a3-ae07-47b1-8a89-bb852ba3b568",
   "metadata": {
    "Collapsed": "false"
   },
   "source": [
    "## Submit\n",
    "\n",
    " * Creates zip file to upload of notebooks in project"
   ]
  },
  {
   "cell_type": "code",
   "execution_count": 6020,
   "id": "f7ea4913-8a1a-45d8-a6d0-646f748ac7bd",
   "metadata": {},
   "outputs": [
    {
     "name": "stdout",
     "output_type": "stream",
     "text": [
      "Creating zip archive with notbooks ['US_Churn-01-Import.ipynb', 'US_Churn-02-EDA.ipynb', 'US_Churn-03-Baseline_Model.ipynb', 'US_Churn-04-Feature_Engineering.ipynb'] ...\n"
     ]
    }
   ],
   "source": [
    "import glob\n",
    "from zipfile import ZipFile\n",
    "\n",
    "archive = f'{ROOT}/US_Churn_-_Feature_Engineering.zip'\n",
    "\n",
    "if COLAB:\n",
    "    files_to_upload = list(glob.glob(\"/content/gdrive/MyDrive/Colab Notebooks/US_Churn*.ipynb\"))\n",
    "else: \n",
    "    files_to_upload = list(glob.glob(\"US_Churn*.ipynb\"))\n",
    "print(f\"Creating zip archive with notbooks {files_to_upload} ...\")\n",
    "\n",
    "with ZipFile(archive,'w') as zip:\n",
    "    for file in files_to_upload:\n",
    "        basename = file.split(\"/Colab Notebooks/\")[-1]\n",
    "        zip.write(file, basename)"
   ]
  },
  {
   "cell_type": "code",
   "execution_count": 6020,
   "id": "b06ae7b0-8370-4721-81d9-12cd92af3ad7",
   "metadata": {},
   "outputs": [],
   "source": []
  }
 ],
 "metadata": {
  "kernelspec": {
   "display_name": "Python 3 (ipykernel)",
   "language": "python",
   "name": "python3"
  },
  "language_info": {
   "codemirror_mode": {
    "name": "ipython",
    "version": 3
   },
   "file_extension": ".py",
   "mimetype": "text/x-python",
   "name": "python",
   "nbconvert_exporter": "python",
   "pygments_lexer": "ipython3",
   "version": "3.9.10"
  },
  "widgets": {
   "application/vnd.jupyter.widget-state+json": {
    "state": {},
    "version_major": 2,
    "version_minor": 0
   }
  }
 },
 "nbformat": 4,
 "nbformat_minor": 5
}
